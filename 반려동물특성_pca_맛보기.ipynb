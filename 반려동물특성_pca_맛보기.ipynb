{
 "cells": [
  {
   "cell_type": "markdown",
   "id": "54cd316f-076e-4029-9508-74afe7f0e8c5",
   "metadata": {},
   "source": [
    "# 라이브러리를 불러옵니다"
   ]
  },
  {
   "cell_type": "code",
   "execution_count": 1,
   "id": "ef9ab059-864a-46cc-be81-a3c48a47ce6c",
   "metadata": {},
   "outputs": [],
   "source": [
    "import pandas as pd\n",
    "import numpy as np\n",
    "import seaborn as sns\n",
    "import matplotlib.pyplot as plt"
   ]
  },
  {
   "cell_type": "code",
   "execution_count": 2,
   "id": "ca0c9563-2b19-4527-b789-2a84f8fe3d24",
   "metadata": {},
   "outputs": [],
   "source": [
    "# 핑크색 warning 안내문 방지 \n",
    "import warnings\n",
    "warnings.filterwarnings('ignore')"
   ]
  },
  {
   "cell_type": "markdown",
   "id": "760383ec-c18e-4482-9e01-bcdc2f2e55c3",
   "metadata": {},
   "source": [
    "# 한글폰트 사용을 위한 세팅"
   ]
  },
  {
   "cell_type": "code",
   "execution_count": 32,
   "id": "9bddb738-297d-4fa2-81d6-ca9351959ccf",
   "metadata": {},
   "outputs": [],
   "source": [
    "def get_font_family():\n",
    "    \"\"\"\n",
    "    시스템 환경에 따른 기본 폰트명을 반환하는 함수\n",
    "    \"\"\"\n",
    "    import platform\n",
    "    system_name = platform.system()\n",
    "\n",
    "    if system_name == \"Darwin\" :\n",
    "        font_family = \"AppleGothic\"\n",
    "    elif system_name == \"Windows\":\n",
    "        font_family = \"Malgun Gothic\"\n",
    "    else:\n",
    "        # Linux(Colab)\n",
    "        !apt-get install fonts-nanum -qq  > /dev/null\n",
    "        !fc-cache -fv\n",
    "\n",
    "        import matplotlib as mpl\n",
    "        mpl.font_manager._rebuild()\n",
    "        findfont = mpl.font_manager.fontManager.findfont\n",
    "        mpl.font_manager.findfont = findfont\n",
    "        mpl.backends.backend_agg.findfont = findfont\n",
    "        \n",
    "        font_family = \"NanumBarunGothic\"\n",
    "    return font_family\n",
    "\n",
    "plt.rc(\"font\", family=get_font_family())\n",
    "plt.rc(\"axes\", unicode_minus=False)"
   ]
  },
  {
   "cell_type": "markdown",
   "id": "06e2079a-fc65-4589-bce9-3eef855dd789",
   "metadata": {},
   "source": [
    "# 데이터 셋 로드 "
   ]
  },
  {
   "cell_type": "code",
   "execution_count": 3,
   "id": "9658863d-310f-4427-b9dc-92bb316f51b8",
   "metadata": {},
   "outputs": [],
   "source": [
    "import glob "
   ]
  },
  {
   "cell_type": "code",
   "execution_count": 9,
   "id": "ca098f65-3c1b-41a8-bd99-15e6d966e9b3",
   "metadata": {},
   "outputs": [
    {
     "data": {
      "text/plain": [
       "['data\\\\animal_raw.csv',\n",
       " 'data\\\\fulldata_02_03_01_P_동물병원.csv',\n",
       " 'data\\\\fulldata_02_03_05_P_동물장묘업.csv',\n",
       " 'data\\\\sample.csv',\n",
       " 'data\\\\가구원수별_반려동물_보유_유형별가구시도_20220621091829.csv',\n",
       " 'data\\\\강원도_반려동물 동반관광 정보_20211221.csv',\n",
       " 'data\\\\농림축산식품부_반려동물 미용업 현황_20201230.csv',\n",
       " 'data\\\\반려동물등록현황.csv',\n",
       " 'data\\\\병원 업종 카드데이터 1.csv',\n",
       " 'data\\\\병원 업종 카드데이터 2.csv',\n",
       " 'data\\\\서울동물복지지원센터 입양대기동물 현황.csv',\n",
       " 'data\\\\서울시 동물병원 인허가 정보.csv',\n",
       " 'data\\\\서울시 동물약국 인허가 정보.csv',\n",
       " 'data\\\\서울시 동물용의료용구판매업 인허가 정보.csv',\n",
       " 'data\\\\서울시 동물판매업 인허가 정보.csv',\n",
       " 'data\\\\시도_인구동태건수_및_동태율_출생_사망_혼인_이혼__20220621184338.csv',\n",
       " 'data\\\\온라인 카드소비트렌드 데이터 1.csv',\n",
       " 'data\\\\온라인 카드소비트렌드 데이터 2.csv',\n",
       " 'data\\\\유기동물보호현황.csv',\n",
       " 'data\\\\출생아수__합계출산율__자연증가_등_20220621095936.csv',\n",
       " 'data\\\\혼인건수__조혼인율_20220621100002.csv']"
      ]
     },
     "execution_count": 9,
     "metadata": {},
     "output_type": "execute_result"
    }
   ],
   "source": [
    "path = glob.glob('data/*.csv')\n",
    "path"
   ]
  },
  {
   "cell_type": "code",
   "execution_count": 12,
   "id": "9c24eced-4ca3-406b-b45c-9f676db4c5bd",
   "metadata": {},
   "outputs": [
    {
     "data": {
      "text/html": [
       "<div>\n",
       "<style scoped>\n",
       "    .dataframe tbody tr th:only-of-type {\n",
       "        vertical-align: middle;\n",
       "    }\n",
       "\n",
       "    .dataframe tbody tr th {\n",
       "        vertical-align: top;\n",
       "    }\n",
       "\n",
       "    .dataframe thead th {\n",
       "        text-align: right;\n",
       "    }\n",
       "</style>\n",
       "<table border=\"1\" class=\"dataframe\">\n",
       "  <thead>\n",
       "    <tr style=\"text-align: right;\">\n",
       "      <th></th>\n",
       "      <th>크기(라벨링)</th>\n",
       "      <th>나이</th>\n",
       "      <th>산책시간(시간)</th>\n",
       "      <th>체중</th>\n",
       "      <th>성별</th>\n",
       "    </tr>\n",
       "  </thead>\n",
       "  <tbody>\n",
       "    <tr>\n",
       "      <th>0</th>\n",
       "      <td>2</td>\n",
       "      <td>13</td>\n",
       "      <td>0.5</td>\n",
       "      <td>27.0</td>\n",
       "      <td>M</td>\n",
       "    </tr>\n",
       "    <tr>\n",
       "      <th>1</th>\n",
       "      <td>2</td>\n",
       "      <td>10</td>\n",
       "      <td>0.5</td>\n",
       "      <td>25.0</td>\n",
       "      <td>F</td>\n",
       "    </tr>\n",
       "    <tr>\n",
       "      <th>2</th>\n",
       "      <td>2</td>\n",
       "      <td>9</td>\n",
       "      <td>0.5</td>\n",
       "      <td>40.0</td>\n",
       "      <td>M</td>\n",
       "    </tr>\n",
       "    <tr>\n",
       "      <th>3</th>\n",
       "      <td>2</td>\n",
       "      <td>8</td>\n",
       "      <td>0.5</td>\n",
       "      <td>28.0</td>\n",
       "      <td>F</td>\n",
       "    </tr>\n",
       "    <tr>\n",
       "      <th>4</th>\n",
       "      <td>2</td>\n",
       "      <td>8</td>\n",
       "      <td>0.5</td>\n",
       "      <td>33.0</td>\n",
       "      <td>M</td>\n",
       "    </tr>\n",
       "    <tr>\n",
       "      <th>...</th>\n",
       "      <td>...</td>\n",
       "      <td>...</td>\n",
       "      <td>...</td>\n",
       "      <td>...</td>\n",
       "      <td>...</td>\n",
       "    </tr>\n",
       "    <tr>\n",
       "      <th>2083</th>\n",
       "      <td>2</td>\n",
       "      <td>2</td>\n",
       "      <td>1.5</td>\n",
       "      <td>25.0</td>\n",
       "      <td>F</td>\n",
       "    </tr>\n",
       "    <tr>\n",
       "      <th>2084</th>\n",
       "      <td>0</td>\n",
       "      <td>13</td>\n",
       "      <td>0.5</td>\n",
       "      <td>7.3</td>\n",
       "      <td>F</td>\n",
       "    </tr>\n",
       "    <tr>\n",
       "      <th>2085</th>\n",
       "      <td>0</td>\n",
       "      <td>5</td>\n",
       "      <td>1.5</td>\n",
       "      <td>5.0</td>\n",
       "      <td>F</td>\n",
       "    </tr>\n",
       "    <tr>\n",
       "      <th>2086</th>\n",
       "      <td>1</td>\n",
       "      <td>2</td>\n",
       "      <td>1.0</td>\n",
       "      <td>14.0</td>\n",
       "      <td>M</td>\n",
       "    </tr>\n",
       "    <tr>\n",
       "      <th>2087</th>\n",
       "      <td>1</td>\n",
       "      <td>2</td>\n",
       "      <td>1.0</td>\n",
       "      <td>19.5</td>\n",
       "      <td>F</td>\n",
       "    </tr>\n",
       "  </tbody>\n",
       "</table>\n",
       "<p>2088 rows × 5 columns</p>\n",
       "</div>"
      ],
      "text/plain": [
       "      크기(라벨링)  나이  산책시간(시간)    체중 성별\n",
       "0           2  13       0.5  27.0  M\n",
       "1           2  10       0.5  25.0  F\n",
       "2           2   9       0.5  40.0  M\n",
       "3           2   8       0.5  28.0  F\n",
       "4           2   8       0.5  33.0  M\n",
       "...       ...  ..       ...   ... ..\n",
       "2083        2   2       1.5  25.0  F\n",
       "2084        0  13       0.5   7.3  F\n",
       "2085        0   5       1.5   5.0  F\n",
       "2086        1   2       1.0  14.0  M\n",
       "2087        1   2       1.0  19.5  F\n",
       "\n",
       "[2088 rows x 5 columns]"
      ]
     },
     "execution_count": 12,
     "metadata": {},
     "output_type": "execute_result"
    }
   ],
   "source": [
    "df = pd.read_csv(path[0], encoding = 'utf-8')\n",
    "df"
   ]
  },
  {
   "cell_type": "markdown",
   "id": "557ed308-6aca-4d1b-b787-09df9445e742",
   "metadata": {},
   "source": [
    "# 데이터 전처리 "
   ]
  },
  {
   "cell_type": "code",
   "execution_count": 13,
   "id": "fb3f13f5-45d8-4a73-9874-beb7ea241f84",
   "metadata": {},
   "outputs": [],
   "source": [
    "#음수량 컬럼 새로 추가 (1kg 당 65ml)\n",
    "df['음수량'] = df['체중'] * 65"
   ]
  },
  {
   "cell_type": "markdown",
   "id": "214dade6-7a2b-4dee-bbce-6cc976bbe33e",
   "metadata": {},
   "source": [
    "## 레이블 인코딩 \n",
    "- 카테고리 피쳐를 숫자형 값으로 변환해주자"
   ]
  },
  {
   "cell_type": "code",
   "execution_count": 15,
   "id": "f160f175-0ec6-4053-a194-90ff467b9a49",
   "metadata": {},
   "outputs": [],
   "source": [
    "from sklearn.preprocessing import LabelEncoder"
   ]
  },
  {
   "cell_type": "code",
   "execution_count": 20,
   "id": "0e8904d0-4857-4e38-bb04-140af93076dd",
   "metadata": {},
   "outputs": [],
   "source": [
    "#성별 컬럼 은 레이블 인코딩으로 변환을 진행해주자 \n",
    "le = LabelEncoder()\n",
    "le.fit(df['성별'])\n",
    "le.transform(df['성별'])\n",
    "df['성별'] = le.transform(df['성별'])"
   ]
  },
  {
   "cell_type": "code",
   "execution_count": 22,
   "id": "af9d551f-cdcb-4213-a08f-b4dd257aa3fd",
   "metadata": {},
   "outputs": [
    {
     "data": {
      "text/html": [
       "<div>\n",
       "<style scoped>\n",
       "    .dataframe tbody tr th:only-of-type {\n",
       "        vertical-align: middle;\n",
       "    }\n",
       "\n",
       "    .dataframe tbody tr th {\n",
       "        vertical-align: top;\n",
       "    }\n",
       "\n",
       "    .dataframe thead th {\n",
       "        text-align: right;\n",
       "    }\n",
       "</style>\n",
       "<table border=\"1\" class=\"dataframe\">\n",
       "  <thead>\n",
       "    <tr style=\"text-align: right;\">\n",
       "      <th></th>\n",
       "      <th>크기(라벨링)</th>\n",
       "      <th>나이</th>\n",
       "      <th>산책시간(시간)</th>\n",
       "      <th>체중</th>\n",
       "      <th>성별</th>\n",
       "      <th>음수량</th>\n",
       "    </tr>\n",
       "  </thead>\n",
       "  <tbody>\n",
       "    <tr>\n",
       "      <th>0</th>\n",
       "      <td>2</td>\n",
       "      <td>13</td>\n",
       "      <td>0.5</td>\n",
       "      <td>27.0</td>\n",
       "      <td>1</td>\n",
       "      <td>1755.0</td>\n",
       "    </tr>\n",
       "    <tr>\n",
       "      <th>1</th>\n",
       "      <td>2</td>\n",
       "      <td>10</td>\n",
       "      <td>0.5</td>\n",
       "      <td>25.0</td>\n",
       "      <td>0</td>\n",
       "      <td>1625.0</td>\n",
       "    </tr>\n",
       "    <tr>\n",
       "      <th>2</th>\n",
       "      <td>2</td>\n",
       "      <td>9</td>\n",
       "      <td>0.5</td>\n",
       "      <td>40.0</td>\n",
       "      <td>1</td>\n",
       "      <td>2600.0</td>\n",
       "    </tr>\n",
       "    <tr>\n",
       "      <th>3</th>\n",
       "      <td>2</td>\n",
       "      <td>8</td>\n",
       "      <td>0.5</td>\n",
       "      <td>28.0</td>\n",
       "      <td>0</td>\n",
       "      <td>1820.0</td>\n",
       "    </tr>\n",
       "    <tr>\n",
       "      <th>4</th>\n",
       "      <td>2</td>\n",
       "      <td>8</td>\n",
       "      <td>0.5</td>\n",
       "      <td>33.0</td>\n",
       "      <td>1</td>\n",
       "      <td>2145.0</td>\n",
       "    </tr>\n",
       "  </tbody>\n",
       "</table>\n",
       "</div>"
      ],
      "text/plain": [
       "   크기(라벨링)  나이  산책시간(시간)    체중  성별     음수량\n",
       "0        2  13       0.5  27.0   1  1755.0\n",
       "1        2  10       0.5  25.0   0  1625.0\n",
       "2        2   9       0.5  40.0   1  2600.0\n",
       "3        2   8       0.5  28.0   0  1820.0\n",
       "4        2   8       0.5  33.0   1  2145.0"
      ]
     },
     "execution_count": 22,
     "metadata": {},
     "output_type": "execute_result"
    }
   ],
   "source": [
    "# 잘 변환 되었는지 확인해주기 \n",
    "df.head()"
   ]
  },
  {
   "cell_type": "markdown",
   "id": "97710667-d5f5-45ee-9ae0-6d9c5e5c8988",
   "metadata": {},
   "source": [
    "# 데이터 살펴보기 "
   ]
  },
  {
   "cell_type": "code",
   "execution_count": 23,
   "id": "c1524072-2c8b-446e-842c-fea6ed3c642f",
   "metadata": {},
   "outputs": [
    {
     "name": "stdout",
     "output_type": "stream",
     "text": [
      "<class 'pandas.core.frame.DataFrame'>\n",
      "RangeIndex: 2088 entries, 0 to 2087\n",
      "Data columns (total 6 columns):\n",
      " #   Column    Non-Null Count  Dtype  \n",
      "---  ------    --------------  -----  \n",
      " 0   크기(라벨링)   2088 non-null   int64  \n",
      " 1   나이        2088 non-null   int64  \n",
      " 2   산책시간(시간)  2088 non-null   float64\n",
      " 3   체중        2088 non-null   float64\n",
      " 4   성별        2088 non-null   int32  \n",
      " 5   음수량       2088 non-null   float64\n",
      "dtypes: float64(3), int32(1), int64(2)\n",
      "memory usage: 89.8 KB\n"
     ]
    }
   ],
   "source": [
    "df.info()"
   ]
  },
  {
   "cell_type": "code",
   "execution_count": 24,
   "id": "bf58c695-8e16-4eef-bb4f-a276cccdf37f",
   "metadata": {},
   "outputs": [
    {
     "data": {
      "text/html": [
       "<div>\n",
       "<style scoped>\n",
       "    .dataframe tbody tr th:only-of-type {\n",
       "        vertical-align: middle;\n",
       "    }\n",
       "\n",
       "    .dataframe tbody tr th {\n",
       "        vertical-align: top;\n",
       "    }\n",
       "\n",
       "    .dataframe thead th {\n",
       "        text-align: right;\n",
       "    }\n",
       "</style>\n",
       "<table border=\"1\" class=\"dataframe\">\n",
       "  <thead>\n",
       "    <tr style=\"text-align: right;\">\n",
       "      <th></th>\n",
       "      <th>크기(라벨링)</th>\n",
       "      <th>나이</th>\n",
       "      <th>산책시간(시간)</th>\n",
       "      <th>체중</th>\n",
       "      <th>성별</th>\n",
       "      <th>음수량</th>\n",
       "    </tr>\n",
       "  </thead>\n",
       "  <tbody>\n",
       "    <tr>\n",
       "      <th>count</th>\n",
       "      <td>2088.000000</td>\n",
       "      <td>2088.000000</td>\n",
       "      <td>2088.000000</td>\n",
       "      <td>2088.000000</td>\n",
       "      <td>2088.000000</td>\n",
       "      <td>2088.000000</td>\n",
       "    </tr>\n",
       "    <tr>\n",
       "      <th>mean</th>\n",
       "      <td>0.483238</td>\n",
       "      <td>3.964559</td>\n",
       "      <td>0.913218</td>\n",
       "      <td>9.605642</td>\n",
       "      <td>0.582854</td>\n",
       "      <td>624.366715</td>\n",
       "    </tr>\n",
       "    <tr>\n",
       "      <th>std</th>\n",
       "      <td>0.747913</td>\n",
       "      <td>3.114288</td>\n",
       "      <td>0.265682</td>\n",
       "      <td>8.837653</td>\n",
       "      <td>0.509454</td>\n",
       "      <td>574.447416</td>\n",
       "    </tr>\n",
       "    <tr>\n",
       "      <th>min</th>\n",
       "      <td>0.000000</td>\n",
       "      <td>0.000000</td>\n",
       "      <td>0.500000</td>\n",
       "      <td>0.040000</td>\n",
       "      <td>0.000000</td>\n",
       "      <td>2.600000</td>\n",
       "    </tr>\n",
       "    <tr>\n",
       "      <th>25%</th>\n",
       "      <td>0.000000</td>\n",
       "      <td>2.000000</td>\n",
       "      <td>0.800000</td>\n",
       "      <td>3.600000</td>\n",
       "      <td>0.000000</td>\n",
       "      <td>234.000000</td>\n",
       "    </tr>\n",
       "    <tr>\n",
       "      <th>50%</th>\n",
       "      <td>0.000000</td>\n",
       "      <td>3.000000</td>\n",
       "      <td>1.000000</td>\n",
       "      <td>5.600000</td>\n",
       "      <td>1.000000</td>\n",
       "      <td>364.000000</td>\n",
       "    </tr>\n",
       "    <tr>\n",
       "      <th>75%</th>\n",
       "      <td>1.000000</td>\n",
       "      <td>5.000000</td>\n",
       "      <td>1.000000</td>\n",
       "      <td>13.000000</td>\n",
       "      <td>1.000000</td>\n",
       "      <td>845.000000</td>\n",
       "    </tr>\n",
       "    <tr>\n",
       "      <th>max</th>\n",
       "      <td>2.000000</td>\n",
       "      <td>18.000000</td>\n",
       "      <td>1.500000</td>\n",
       "      <td>60.000000</td>\n",
       "      <td>2.000000</td>\n",
       "      <td>3900.000000</td>\n",
       "    </tr>\n",
       "  </tbody>\n",
       "</table>\n",
       "</div>"
      ],
      "text/plain": [
       "           크기(라벨링)           나이     산책시간(시간)           체중           성별  \\\n",
       "count  2088.000000  2088.000000  2088.000000  2088.000000  2088.000000   \n",
       "mean      0.483238     3.964559     0.913218     9.605642     0.582854   \n",
       "std       0.747913     3.114288     0.265682     8.837653     0.509454   \n",
       "min       0.000000     0.000000     0.500000     0.040000     0.000000   \n",
       "25%       0.000000     2.000000     0.800000     3.600000     0.000000   \n",
       "50%       0.000000     3.000000     1.000000     5.600000     1.000000   \n",
       "75%       1.000000     5.000000     1.000000    13.000000     1.000000   \n",
       "max       2.000000    18.000000     1.500000    60.000000     2.000000   \n",
       "\n",
       "               음수량  \n",
       "count  2088.000000  \n",
       "mean    624.366715  \n",
       "std     574.447416  \n",
       "min       2.600000  \n",
       "25%     234.000000  \n",
       "50%     364.000000  \n",
       "75%     845.000000  \n",
       "max    3900.000000  "
      ]
     },
     "execution_count": 24,
     "metadata": {},
     "output_type": "execute_result"
    }
   ],
   "source": [
    "df.describe()"
   ]
  },
  {
   "cell_type": "code",
   "execution_count": 27,
   "id": "c1cf0619-1c89-48a0-8893-8fa5b34f12d6",
   "metadata": {},
   "outputs": [
    {
     "data": {
      "text/plain": [
       "크기(라벨링)     0\n",
       "나이          0\n",
       "산책시간(시간)    0\n",
       "체중          0\n",
       "성별          0\n",
       "음수량         0\n",
       "dtype: int64"
      ]
     },
     "execution_count": 27,
     "metadata": {},
     "output_type": "execute_result"
    }
   ],
   "source": [
    "#결측치 확인\n",
    "df.isna().sum()"
   ]
  },
  {
   "cell_type": "markdown",
   "id": "873da549-afb4-4830-ae8a-2b6efd8e0133",
   "metadata": {},
   "source": [
    "# Feature Selection"
   ]
  },
  {
   "cell_type": "markdown",
   "id": "42eb2e0f-8148-4cfd-906a-b59b5e874918",
   "metadata": {},
   "source": [
    "## 상관분석"
   ]
  },
  {
   "cell_type": "code",
   "execution_count": 28,
   "id": "4756478a-f720-4780-8c75-1f776ad057a1",
   "metadata": {},
   "outputs": [
    {
     "data": {
      "text/html": [
       "<div>\n",
       "<style scoped>\n",
       "    .dataframe tbody tr th:only-of-type {\n",
       "        vertical-align: middle;\n",
       "    }\n",
       "\n",
       "    .dataframe tbody tr th {\n",
       "        vertical-align: top;\n",
       "    }\n",
       "\n",
       "    .dataframe thead th {\n",
       "        text-align: right;\n",
       "    }\n",
       "</style>\n",
       "<table border=\"1\" class=\"dataframe\">\n",
       "  <thead>\n",
       "    <tr style=\"text-align: right;\">\n",
       "      <th></th>\n",
       "      <th>크기(라벨링)</th>\n",
       "      <th>나이</th>\n",
       "      <th>산책시간(시간)</th>\n",
       "      <th>체중</th>\n",
       "      <th>성별</th>\n",
       "      <th>음수량</th>\n",
       "    </tr>\n",
       "  </thead>\n",
       "  <tbody>\n",
       "    <tr>\n",
       "      <th>크기(라벨링)</th>\n",
       "      <td>1.000000</td>\n",
       "      <td>-0.161331</td>\n",
       "      <td>0.530170</td>\n",
       "      <td>0.930333</td>\n",
       "      <td>0.036343</td>\n",
       "      <td>0.930333</td>\n",
       "    </tr>\n",
       "    <tr>\n",
       "      <th>나이</th>\n",
       "      <td>-0.161331</td>\n",
       "      <td>1.000000</td>\n",
       "      <td>-0.414130</td>\n",
       "      <td>-0.133831</td>\n",
       "      <td>0.008496</td>\n",
       "      <td>-0.133831</td>\n",
       "    </tr>\n",
       "    <tr>\n",
       "      <th>산책시간(시간)</th>\n",
       "      <td>0.530170</td>\n",
       "      <td>-0.414130</td>\n",
       "      <td>1.000000</td>\n",
       "      <td>0.543942</td>\n",
       "      <td>-0.005617</td>\n",
       "      <td>0.543942</td>\n",
       "    </tr>\n",
       "    <tr>\n",
       "      <th>체중</th>\n",
       "      <td>0.930333</td>\n",
       "      <td>-0.133831</td>\n",
       "      <td>0.543942</td>\n",
       "      <td>1.000000</td>\n",
       "      <td>0.054104</td>\n",
       "      <td>1.000000</td>\n",
       "    </tr>\n",
       "    <tr>\n",
       "      <th>성별</th>\n",
       "      <td>0.036343</td>\n",
       "      <td>0.008496</td>\n",
       "      <td>-0.005617</td>\n",
       "      <td>0.054104</td>\n",
       "      <td>1.000000</td>\n",
       "      <td>0.054104</td>\n",
       "    </tr>\n",
       "    <tr>\n",
       "      <th>음수량</th>\n",
       "      <td>0.930333</td>\n",
       "      <td>-0.133831</td>\n",
       "      <td>0.543942</td>\n",
       "      <td>1.000000</td>\n",
       "      <td>0.054104</td>\n",
       "      <td>1.000000</td>\n",
       "    </tr>\n",
       "  </tbody>\n",
       "</table>\n",
       "</div>"
      ],
      "text/plain": [
       "           크기(라벨링)        나이  산책시간(시간)        체중        성별       음수량\n",
       "크기(라벨링)   1.000000 -0.161331  0.530170  0.930333  0.036343  0.930333\n",
       "나이       -0.161331  1.000000 -0.414130 -0.133831  0.008496 -0.133831\n",
       "산책시간(시간)  0.530170 -0.414130  1.000000  0.543942 -0.005617  0.543942\n",
       "체중        0.930333 -0.133831  0.543942  1.000000  0.054104  1.000000\n",
       "성별        0.036343  0.008496 -0.005617  0.054104  1.000000  0.054104\n",
       "음수량       0.930333 -0.133831  0.543942  1.000000  0.054104  1.000000"
      ]
     },
     "execution_count": 28,
     "metadata": {},
     "output_type": "execute_result"
    }
   ],
   "source": [
    "df.corr()"
   ]
  },
  {
   "cell_type": "code",
   "execution_count": 38,
   "id": "4348ed2e-b21d-4e60-be21-89f970f4beab",
   "metadata": {},
   "outputs": [
    {
     "data": {
      "text/plain": [
       "<AxesSubplot:>"
      ]
     },
     "execution_count": 39,
     "metadata": {},
     "output_type": "execute_result"
    },
    {
     "data": {
      "image/png": "[encoded data removed]",
      "text/plain": [
       "<Figure size 1152x648 with 2 Axes>"
      ]
     },
     "metadata": {
      "needs_background": "light"
     },
     "output_type": "display_data"
    }
   ],
   "source": [
    "plt.figure(figsize = (16,9))\n",
    "\n",
    "sns.heatmap(data = df.corr(),\n",
    "           cmap = 'Blues', \n",
    "           annot = True, fmt = '0.4f')"
   ]
  },
  {
   "cell_type": "markdown",
   "id": "d8dc57e0-1da0-4f49-b15d-be3dbcf80a8c",
   "metadata": {},
   "source": [
    "# Feature Extraction"
   ]
  },
  {
   "cell_type": "raw",
   "id": "f6a21c4d-b633-4940-87e4-37ca2e9cd68f",
   "metadata": {},
   "source": [
    "pca를 이용하여 새로운 변수를 만들어보자 "
   ]
  },
  {
   "cell_type": "code",
   "execution_count": 42,
   "id": "0619ec43-8ce1-419b-981b-ba491cb6d66a",
   "metadata": {},
   "outputs": [
    {
     "name": "stdout",
     "output_type": "stream",
     "text": [
      "크기(라벨링)\n",
      "나이\n",
      "산책시간(시간)\n",
      "체중\n",
      "성별\n",
      "음수량\n"
     ]
    }
   ],
   "source": [
    "for column in df.columns:\n",
    "    print(column)"
   ]
  },
  {
   "cell_type": "code",
   "execution_count": 44,
   "id": "78280514-d3e0-485a-a5a3-815de9e27b6c",
   "metadata": {},
   "outputs": [
    {
     "name": "stdout",
     "output_type": "stream",
     "text": [
      "1.0\n",
      "-0.16133064527781685\n",
      "0.5301702883751713\n",
      "0.9303334166283616\n",
      "0.036342786183672926\n",
      "0.9303334166283624\n"
     ]
    }
   ],
   "source": [
    "#반복문으로 출력되는 값은 각 컬럼들과 크기(라벨링)의 상관관계\n",
    "for column in df.columns:\n",
    "    print(df[column].corr(df['크기(라벨링)']))"
   ]
  },
  {
   "cell_type": "code",
   "execution_count": 54,
   "id": "1e64764c-27f8-48a3-b628-07b220adb28c",
   "metadata": {},
   "outputs": [
    {
     "name": "stdout",
     "output_type": "stream",
     "text": [
      "크기(라벨링)과 크기의 상관관계 : 1.0\n",
      "\n",
      "나이과 크기의 상관관계 : -0.16133064527781685\n",
      "\n",
      "산책시간(시간)과 크기의 상관관계 : 0.5301702883751713\n",
      "\n",
      "체중과 크기의 상관관계 : 0.9303334166283616\n",
      "\n",
      "성별과 크기의 상관관계 : 0.036342786183672926\n",
      "\n",
      "음수량과 크기의 상관관계 : 0.9303334166283623\n",
      "\n"
     ]
    }
   ],
   "source": [
    "#변수들으 상관계수를 전부 확인 하고 몇개의 변수를 몇개로 줄일 것인지 확인해보자 \n",
    "\n",
    "\n",
    "corr_bar = []\n",
    "for column in df.columns :\n",
    "    print(f'{column}과 크기의 상관관계 : {df[\"크기(라벨링)\"].corr(df[column])}\\n')\n",
    "    corr_bar.append(df[\"크기(라벨링)\"].corr(df[column]))"
   ]
  },
  {
   "cell_type": "code",
   "execution_count": 56,
   "id": "b75a8db2-b12a-4c0c-ad32-29c41b3faedb",
   "metadata": {},
   "outputs": [
    {
     "data": {
      "text/plain": [
       "<AxesSubplot:>"
      ]
     },
     "execution_count": 56,
     "metadata": {},
     "output_type": "execute_result"
    },
    {
     "data": {
      "image/png": "[encoded data removed]",
      "text/plain": [
       "<Figure size 432x288 with 1 Axes>"
      ]
     },
     "metadata": {
      "needs_background": "light"
     },
     "output_type": "display_data"
    }
   ],
   "source": [
    "# barplot으로 수치형 피쳐를 df['크기(라벨링)']과의 상관관계 시각화 \n",
    "\n",
    "\n",
    "sns.barplot(df.columns, corr_bar)"
   ]
  },
  {
   "cell_type": "code",
   "execution_count": 57,
   "id": "5378dd23-5622-41d2-a6fc-2a9fc4da58e6",
   "metadata": {},
   "outputs": [
    {
     "data": {
      "text/html": [
       "<div>\n",
       "<style scoped>\n",
       "    .dataframe tbody tr th:only-of-type {\n",
       "        vertical-align: middle;\n",
       "    }\n",
       "\n",
       "    .dataframe tbody tr th {\n",
       "        vertical-align: top;\n",
       "    }\n",
       "\n",
       "    .dataframe thead th {\n",
       "        text-align: right;\n",
       "    }\n",
       "</style>\n",
       "<table border=\"1\" class=\"dataframe\">\n",
       "  <thead>\n",
       "    <tr style=\"text-align: right;\">\n",
       "      <th></th>\n",
       "      <th>나이</th>\n",
       "      <th>성별</th>\n",
       "    </tr>\n",
       "  </thead>\n",
       "  <tbody>\n",
       "    <tr>\n",
       "      <th>963</th>\n",
       "      <td>2</td>\n",
       "      <td>1</td>\n",
       "    </tr>\n",
       "    <tr>\n",
       "      <th>1815</th>\n",
       "      <td>5</td>\n",
       "      <td>1</td>\n",
       "    </tr>\n",
       "  </tbody>\n",
       "</table>\n",
       "</div>"
      ],
      "text/plain": [
       "      나이  성별\n",
       "963    2   1\n",
       "1815   5   1"
      ]
     },
     "execution_count": 57,
     "metadata": {},
     "output_type": "execute_result"
    }
   ],
   "source": [
    "# df['나이'] & df['성별'] -> 수치형 데이터 중 비교적 상관관계가 낮음 \n",
    "\n",
    "\n",
    "x = df[['나이', '성별']]\n",
    "x.sample(2)"
   ]
  },
  {
   "cell_type": "code",
   "execution_count": 58,
   "id": "bedc35fa-95f7-4c63-a24f-10bd5c4c6a7f",
   "metadata": {},
   "outputs": [],
   "source": [
    "#pca를 위한 라이브러리 불러오기 -> sklearn\n",
    "\n",
    "from sklearn.decomposition import PCA"
   ]
  },
  {
   "cell_type": "code",
   "execution_count": 59,
   "id": "8ae63817-ea1a-4fa6-893b-9959f62207a9",
   "metadata": {},
   "outputs": [],
   "source": [
    "# 위의 두 피쳐를 1개의 피쳐로 바꿔줄것임 \n",
    "\n",
    "pca = PCA(n_components = 1)"
   ]
  },
  {
   "cell_type": "code",
   "execution_count": 60,
   "id": "e1b99011-4db3-4cb2-8828-95b3aad0d266",
   "metadata": {},
   "outputs": [
    {
     "data": {
      "text/plain": [
       "PCA(n_components=1)"
      ]
     },
     "execution_count": 60,
     "metadata": {},
     "output_type": "execute_result"
    }
   ],
   "source": [
    "# pca에 아까 만든 피쳐 2개의 조합 변수 x를 할당해 데이터를 학습시킨다.\n",
    "pca.fit(x)"
   ]
  },
  {
   "cell_type": "code",
   "execution_count": 61,
   "id": "52061ff0-fab3-44b9-8189-7bffdeed09de",
   "metadata": {},
   "outputs": [
    {
     "data": {
      "text/plain": [
       "array([[0.99999898, 0.001428  ]])"
      ]
     },
     "execution_count": 61,
     "metadata": {},
     "output_type": "execute_result"
    }
   ],
   "source": [
    "# x = data[['dis','b']]을 학습시켜 PC1이라는 하나의 새로운 변수로 만듬\n",
    "#새로운 변수에 담긴 각 변수의 분산을 확인 할 수 있다. \n",
    "pca.components_"
   ]
  },
  {
   "cell_type": "code",
   "execution_count": 62,
   "id": "22979446-6660-4a6e-9af4-c1e0df7be713",
   "metadata": {},
   "outputs": [],
   "source": [
    "# 음 근데 나이가 99% 비중으로 담겼네... 흠... 재조정 고 ?"
   ]
  },
  {
   "cell_type": "code",
   "execution_count": 63,
   "id": "79e3cb39-75f4-4d32-a5fa-628b702a5024",
   "metadata": {},
   "outputs": [
    {
     "data": {
      "text/html": [
       "<div>\n",
       "<style scoped>\n",
       "    .dataframe tbody tr th:only-of-type {\n",
       "        vertical-align: middle;\n",
       "    }\n",
       "\n",
       "    .dataframe tbody tr th {\n",
       "        vertical-align: top;\n",
       "    }\n",
       "\n",
       "    .dataframe thead th {\n",
       "        text-align: right;\n",
       "    }\n",
       "</style>\n",
       "<table border=\"1\" class=\"dataframe\">\n",
       "  <thead>\n",
       "    <tr style=\"text-align: right;\">\n",
       "      <th></th>\n",
       "      <th>나이</th>\n",
       "      <th>성별</th>\n",
       "    </tr>\n",
       "  </thead>\n",
       "  <tbody>\n",
       "    <tr>\n",
       "      <th>0</th>\n",
       "      <td>13</td>\n",
       "      <td>1</td>\n",
       "    </tr>\n",
       "    <tr>\n",
       "      <th>1</th>\n",
       "      <td>10</td>\n",
       "      <td>0</td>\n",
       "    </tr>\n",
       "    <tr>\n",
       "      <th>2</th>\n",
       "      <td>9</td>\n",
       "      <td>1</td>\n",
       "    </tr>\n",
       "    <tr>\n",
       "      <th>3</th>\n",
       "      <td>8</td>\n",
       "      <td>0</td>\n",
       "    </tr>\n",
       "    <tr>\n",
       "      <th>4</th>\n",
       "      <td>8</td>\n",
       "      <td>1</td>\n",
       "    </tr>\n",
       "  </tbody>\n",
       "</table>\n",
       "</div>"
      ],
      "text/plain": [
       "   나이  성별\n",
       "0  13   1\n",
       "1  10   0\n",
       "2   9   1\n",
       "3   8   0\n",
       "4   8   1"
      ]
     },
     "execution_count": 63,
     "metadata": {},
     "output_type": "execute_result"
    }
   ],
   "source": [
    "x.head()"
   ]
  },
  {
   "cell_type": "code",
   "execution_count": 64,
   "id": "636efae3-02bf-440c-b4d2-9b035c461800",
   "metadata": {},
   "outputs": [
    {
     "data": {
      "text/plain": [
       "array([0.97393904])"
      ]
     },
     "execution_count": 64,
     "metadata": {},
     "output_type": "execute_result"
    }
   ],
   "source": [
    "# 새로운 변수 PC1이 설명하는 분산의 비율\n",
    "pca.explained_variance_ratio_"
   ]
  },
  {
   "cell_type": "code",
   "execution_count": 66,
   "id": "2dc8b0cc-f75d-4a0c-be23-3c0a42d96e40",
   "metadata": {},
   "outputs": [],
   "source": [
    "#새로운 변수 PC1을 data['pc1'] 이라는 새로운 컬럼으로 추가해주자\n",
    "df['pc1'] = pca.fit_transform(x)"
   ]
  },
  {
   "cell_type": "code",
   "execution_count": 67,
   "id": "0257aae6-be3f-4768-9c44-dddcd6fc0176",
   "metadata": {},
   "outputs": [
    {
     "data": {
      "text/plain": [
       "<seaborn.axisgrid.JointGrid at 0x1a988bfcd00>"
      ]
     },
     "execution_count": 67,
     "metadata": {},
     "output_type": "execute_result"
    },
    {
     "data": {
      "image/png": "[encoded data removed]",
      "text/plain": [
       "<Figure size 432x432 with 3 Axes>"
      ]
     },
     "metadata": {
      "needs_background": "light"
     },
     "output_type": "display_data"
    }
   ],
   "source": [
    "# data['pc1'] 과 data['medv']의 상관관계 확인해보기\n",
    "sns.jointplot(data = df, x = 'pc1', y = '크기(라벨링)', kind = 'reg')"
   ]
  },
  {
   "cell_type": "code",
   "execution_count": 68,
   "id": "be7fc9b9-1069-4c3f-9fcb-b364739bdbf7",
   "metadata": {},
   "outputs": [
    {
     "data": {
      "text/plain": [
       "-0.161321831022012"
      ]
     },
     "execution_count": 68,
     "metadata": {},
     "output_type": "execute_result"
    }
   ],
   "source": [
    "# data['pc1'] 과 data['medv']의 상관계수\n",
    "df['pc1'].corr(df['크기(라벨링)'])"
   ]
  },
  {
   "cell_type": "code",
   "execution_count": null,
   "id": "c7c5db38-5b85-4414-8854-8c32f39a6ac5",
   "metadata": {},
   "outputs": [],
   "source": [
    "# 정규화로 비율 다시 조절해줘야 함 "
   ]
  },
  {
   "cell_type": "markdown",
   "id": "47357c3f-b5ec-4ff8-86dc-8c74d8d13855",
   "metadata": {},
   "source": [
    "# 정규화"
   ]
  },
  {
   "cell_type": "code",
   "execution_count": 69,
   "id": "81ae26a7-c9f4-4132-8d4c-f954c9764e32",
   "metadata": {},
   "outputs": [],
   "source": [
    "# 정규화에 필요한 라이브러리 로드 \n",
    "\n",
    "from sklearn.preprocessing import StandardScaler"
   ]
  },
  {
   "cell_type": "code",
   "execution_count": 70,
   "id": "35c8dba8-73aa-46ce-91fa-3148da64db2c",
   "metadata": {},
   "outputs": [],
   "source": [
    "# 정규화 객체를 만들어 줍니다 \n",
    "scaler = StandardScaler()"
   ]
  },
  {
   "cell_type": "code",
   "execution_count": 71,
   "id": "ce1dcaf9-f896-43b0-8818-49cdd50260be",
   "metadata": {},
   "outputs": [
    {
     "data": {
      "text/plain": [
       "StandardScaler()"
      ]
     },
     "execution_count": 71,
     "metadata": {},
     "output_type": "execute_result"
    }
   ],
   "source": [
    "# x를 학습 시킨 후 변형하여 정규화 된 x로 만들어 준다 \n",
    "scaler.fit(x)"
   ]
  },
  {
   "cell_type": "code",
   "execution_count": 72,
   "id": "5f654946-2a8d-4e99-9160-798a9735016b",
   "metadata": {},
   "outputs": [],
   "source": [
    "scaler_x = scaler.transform(x)"
   ]
  },
  {
   "cell_type": "code",
   "execution_count": 73,
   "id": "0479f2c7-8870-4937-a3af-48b913faecbf",
   "metadata": {},
   "outputs": [
    {
     "data": {
      "text/plain": [
       "array([[ 2.90198091,  0.81900593],\n",
       "       [ 1.93844819, -1.14435156],\n",
       "       [ 1.61727061,  0.81900593],\n",
       "       ...,\n",
       "       [ 0.33256031, -1.14435156],\n",
       "       [-0.63097242,  0.81900593],\n",
       "       [-0.63097242, -1.14435156]])"
      ]
     },
     "execution_count": 73,
     "metadata": {},
     "output_type": "execute_result"
    }
   ],
   "source": [
    "scaler_x  # 변형된 데이터들을 의미"
   ]
  },
  {
   "cell_type": "code",
   "execution_count": 75,
   "id": "4cbbb965-1a16-488a-879a-8d9f5da9a1db",
   "metadata": {},
   "outputs": [],
   "source": [
    "#  `PCA와 동일한 반복작업 수행`"
   ]
  },
  {
   "cell_type": "code",
   "execution_count": 74,
   "id": "9fb35229-8915-417b-aed4-4207475d688a",
   "metadata": {},
   "outputs": [
    {
     "data": {
      "text/plain": [
       "array([[0.70710678, 0.70710678]])"
      ]
     },
     "execution_count": 74,
     "metadata": {},
     "output_type": "execute_result"
    }
   ],
   "source": [
    "#PCA의 갯수 찾기 \n",
    "pca = PCA(n_components = 1)\n",
    "\n",
    "#데이터 학습\n",
    "pca.fit(scaler_x)\n",
    "\n",
    "# 새로운 변수에 담긴 각 변수의 분산을 확인\n",
    "# 위와 달라진 분산의 정도를 확인할 수 있습니다.\n",
    "pca.components_"
   ]
  },
  {
   "cell_type": "code",
   "execution_count": 76,
   "id": "2ef569e6-e2d0-4dd8-afe2-1e48f0e2d75f",
   "metadata": {},
   "outputs": [
    {
     "data": {
      "text/plain": [
       "array([0.50424789])"
      ]
     },
     "execution_count": 76,
     "metadata": {},
     "output_type": "execute_result"
    }
   ],
   "source": [
    "# 새로운 변수 PC1이 설명하는 분산의 비율입니다.\n",
    "pca.explained_variance_ratio_"
   ]
  },
  {
   "cell_type": "code",
   "execution_count": 78,
   "id": "5dcfa9ba-7f32-4444-a50c-bf6c8a103047",
   "metadata": {},
   "outputs": [],
   "source": [
    "# 위와 같이 pc1의 컬럼에 데이터를 넣어봅시다.\n",
    "df['pc1'] = pca.fit_transform(scaler_x)"
   ]
  },
  {
   "cell_type": "code",
   "execution_count": 80,
   "id": "46d01c0e-8502-41ea-b061-5fce03420c99",
   "metadata": {},
   "outputs": [
    {
     "data": {
      "text/html": [
       "<div>\n",
       "<style scoped>\n",
       "    .dataframe tbody tr th:only-of-type {\n",
       "        vertical-align: middle;\n",
       "    }\n",
       "\n",
       "    .dataframe tbody tr th {\n",
       "        vertical-align: top;\n",
       "    }\n",
       "\n",
       "    .dataframe thead th {\n",
       "        text-align: right;\n",
       "    }\n",
       "</style>\n",
       "<table border=\"1\" class=\"dataframe\">\n",
       "  <thead>\n",
       "    <tr style=\"text-align: right;\">\n",
       "      <th></th>\n",
       "      <th>크기(라벨링)</th>\n",
       "      <th>나이</th>\n",
       "      <th>산책시간(시간)</th>\n",
       "      <th>체중</th>\n",
       "      <th>성별</th>\n",
       "      <th>음수량</th>\n",
       "      <th>pc1</th>\n",
       "    </tr>\n",
       "  </thead>\n",
       "  <tbody>\n",
       "    <tr>\n",
       "      <th>0</th>\n",
       "      <td>2</td>\n",
       "      <td>13</td>\n",
       "      <td>0.5</td>\n",
       "      <td>27.0</td>\n",
       "      <td>1</td>\n",
       "      <td>1755.0</td>\n",
       "      <td>2.631135</td>\n",
       "    </tr>\n",
       "    <tr>\n",
       "      <th>1</th>\n",
       "      <td>2</td>\n",
       "      <td>10</td>\n",
       "      <td>0.5</td>\n",
       "      <td>25.0</td>\n",
       "      <td>0</td>\n",
       "      <td>1625.0</td>\n",
       "      <td>0.561511</td>\n",
       "    </tr>\n",
       "    <tr>\n",
       "      <th>2</th>\n",
       "      <td>2</td>\n",
       "      <td>9</td>\n",
       "      <td>0.5</td>\n",
       "      <td>40.0</td>\n",
       "      <td>1</td>\n",
       "      <td>2600.0</td>\n",
       "      <td>1.722708</td>\n",
       "    </tr>\n",
       "    <tr>\n",
       "      <th>3</th>\n",
       "      <td>2</td>\n",
       "      <td>8</td>\n",
       "      <td>0.5</td>\n",
       "      <td>28.0</td>\n",
       "      <td>0</td>\n",
       "      <td>1820.0</td>\n",
       "      <td>0.107297</td>\n",
       "    </tr>\n",
       "    <tr>\n",
       "      <th>4</th>\n",
       "      <td>2</td>\n",
       "      <td>8</td>\n",
       "      <td>0.5</td>\n",
       "      <td>33.0</td>\n",
       "      <td>1</td>\n",
       "      <td>2145.0</td>\n",
       "      <td>1.495601</td>\n",
       "    </tr>\n",
       "  </tbody>\n",
       "</table>\n",
       "</div>"
      ],
      "text/plain": [
       "   크기(라벨링)  나이  산책시간(시간)    체중  성별     음수량       pc1\n",
       "0        2  13       0.5  27.0   1  1755.0  2.631135\n",
       "1        2  10       0.5  25.0   0  1625.0  0.561511\n",
       "2        2   9       0.5  40.0   1  2600.0  1.722708\n",
       "3        2   8       0.5  28.0   0  1820.0  0.107297\n",
       "4        2   8       0.5  33.0   1  2145.0  1.495601"
      ]
     },
     "execution_count": 80,
     "metadata": {},
     "output_type": "execute_result"
    }
   ],
   "source": [
    "df.head()"
   ]
  },
  {
   "cell_type": "code",
   "execution_count": 82,
   "id": "0bf007c9-71f0-4403-8d9d-7cc78216dc6d",
   "metadata": {},
   "outputs": [
    {
     "data": {
      "text/plain": [
       "<seaborn.axisgrid.JointGrid at 0x1a988d93310>"
      ]
     },
     "execution_count": 82,
     "metadata": {},
     "output_type": "execute_result"
    },
    {
     "data": {
      "image/png": "[encoded data removed]",
      "text/plain": [
       "<Figure size 432x432 with 3 Axes>"
      ]
     },
     "metadata": {
      "needs_background": "light"
     },
     "output_type": "display_data"
    }
   ],
   "source": [
    "# 이전보다 상관성도 높아지고 pc1 바플랏도 조금 다듬어짐 \n",
    "sns.jointplot(data = df, x = 'pc1', y='크기(라벨링)', kind='reg')"
   ]
  },
  {
   "cell_type": "code",
   "execution_count": 83,
   "id": "6a65ba31-c05b-4d5c-9798-dadabbdf2a7b",
   "metadata": {},
   "outputs": [
    {
     "data": {
      "text/plain": [
       "-0.08800671099175277"
      ]
     },
     "execution_count": 83,
     "metadata": {},
     "output_type": "execute_result"
    }
   ],
   "source": [
    "df['pc1'].corr(df['크기(라벨링)'])"
   ]
  },
  {
   "cell_type": "code",
   "execution_count": 84,
   "id": "b40e4414-0d09-4b5c-805f-76aeea108d5e",
   "metadata": {},
   "outputs": [
    {
     "data": {
      "text/plain": [
       "<AxesSubplot:xlabel='나이', ylabel='Density'>"
      ]
     },
     "execution_count": 84,
     "metadata": {},
     "output_type": "execute_result"
    },
    {
     "data": {
      "image/png": "[encoded data removed]",
      "text/plain": [
       "<Figure size 432x288 with 1 Axes>"
      ]
     },
     "metadata": {
      "needs_background": "light"
     },
     "output_type": "display_data"
    }
   ],
   "source": [
    "sns.distplot(x['나이'], kde=True, rug=True)"
   ]
  },
  {
   "cell_type": "code",
   "execution_count": 86,
   "id": "f0796212-59b9-4803-b48f-7de412045b6a",
   "metadata": {},
   "outputs": [
    {
     "data": {
      "text/plain": [
       "<AxesSubplot:xlabel='성별', ylabel='Density'>"
      ]
     },
     "execution_count": 86,
     "metadata": {},
     "output_type": "execute_result"
    },
    {
     "data": {
      "image/png": "[encoded data removed]",
      "text/plain": [
       "<Figure size 432x288 with 1 Axes>"
      ]
     },
     "metadata": {
      "needs_background": "light"
     },
     "output_type": "display_data"
    }
   ],
   "source": [
    "sns.distplot(x['성별'], kde=True, rug=True)"
   ]
  },
  {
   "cell_type": "code",
   "execution_count": null,
   "id": "a5a52a0e-a71b-4aed-85e4-6a1dcf9e3d1e",
   "metadata": {},
   "outputs": [],
   "source": [
    "# 성별이 범주형 변수라서 안되는건가 "
   ]
  }
 ],
 "metadata": {
  "kernelspec": {
   "display_name": "Python 3 (ipykernel)",
   "language": "python",
   "name": "python3"
  },
  "language_info": {
   "codemirror_mode": {
    "name": "ipython",
    "version": 3
   },
   "file_extension": ".py",
   "mimetype": "text/x-python",
   "name": "python",
   "nbconvert_exporter": "python",
   "pygments_lexer": "ipython3",
   "version": "3.9.7"
  }
 },
 "nbformat": 4,
 "nbformat_minor": 5
}
