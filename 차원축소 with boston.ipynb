{
 "cells": [
  {
   "cell_type": "markdown",
   "id": "e45f389a-a79b-4d24-97cb-bbd04f2157bd",
   "metadata": {},
   "source": [
    "# ♣ 머신러닝 차원축소 ♣\n",
    "- 변수(피쳐 혹은 컬럼이라고도 함) 의 조합을 통해 새로운 변수 발견 "
   ]
  },
  {
   "cell_type": "markdown",
   "id": "564e1461-42b9-445e-b222-532125535c12",
   "metadata": {},
   "source": [
    "## 1. Feature Selection\n",
    "\n",
    "- 가지고 있는 변수들 중에 의미있는 변수만 선택\n",
    "- 변수를 선택하는 방법은 주로 상관분석을 이용(공분산과 상관계수)"
   ]
  },
  {
   "cell_type": "markdown",
   "id": "4facf1a6-7b16-421f-8ed4-fbbf9316dc87",
   "metadata": {},
   "source": [
    "##  2. Feature Extraction \n",
    "- 변수추출 (1,2,3 번 변수를 조합해서 A,B라는 새로운 변수를 생성)\n",
    "- 주로 사용되는 방법은 주성분분석(PCA : Principal Componene Analysis)\n",
    "- PCA 실행결과 나온 Variance를 그래프로 그린 뒤 급격하게 떨어지는 지점에서 PC개수 선택"
   ]
  },
  {
   "cell_type": "markdown",
   "id": "d252a072-7465-40b5-8758-01343ad5b975",
   "metadata": {},
   "source": [
    "### 2.1 PCA? \n",
    "1. 분산이 최대인 축 찾기\n",
    "2. 찾은 축과 직교하면서 분산이 최대인 두번째 축 찾기\n",
    "3. 첫번째 축과 두번째 축에 직교히고 분산을 보존하는 세번째 축 찾기 "
   ]
  },
  {
   "cell_type": "markdown",
   "id": "89f979eb-2f8f-4b1d-8f48-4df42afcf6ea",
   "metadata": {},
   "source": [
    "### 2.2 정규화\n",
    "- PCA를 위해서 반드시 필요함\n",
    "- 스케일이 다르면 분산이 다름"
   ]
  },
  {
   "cell_type": "code",
   "execution_count": null,
   "id": "cf846e83-8a7d-4786-9505-afd1a2f826c4",
   "metadata": {},
   "outputs": [],
   "source": []
  },
  {
   "cell_type": "markdown",
   "id": "4deaf3b4-636a-472d-a80e-eeaab71f4847",
   "metadata": {},
   "source": [
    "# ♣ 필요한 라이브러리 불러오기 "
   ]
  },
  {
   "cell_type": "code",
   "execution_count": 1,
   "id": "b18092a9-9d00-4fe9-ad7d-3d13fa81ec38",
   "metadata": {},
   "outputs": [],
   "source": [
    "import pandas as pd\n",
    "import seaborn as sns\n",
    "import matplotlib.pyplot as plt"
   ]
  },
  {
   "cell_type": "code",
   "execution_count": 2,
   "id": "dfbc017b-1f01-4540-9cb9-fc64c5d670d9",
   "metadata": {},
   "outputs": [],
   "source": [
    "import warnings\n",
    "\n",
    "# 경고 메시지를 무시하고 숨기거나\n",
    "warnings.filterwarnings(action='ignore')"
   ]
  },
  {
   "cell_type": "code",
   "execution_count": 3,
   "id": "35c0c14e-cb33-430c-84b7-bb2cba478a80",
   "metadata": {},
   "outputs": [
    {
     "data": {
      "text/plain": [
       "['data\\\\boston.csv']"
      ]
     },
     "execution_count": 3,
     "metadata": {},
     "output_type": "execute_result"
    }
   ],
   "source": [
    "## 분석할 데이터를 불러와봅시당\n",
    "## 보스턴 집값 데이터 \n",
    "import glob\n",
    "path = glob.glob('data/*.csv')\n",
    "path"
   ]
  },
  {
   "cell_type": "code",
   "execution_count": 4,
   "id": "bd63938b-fe58-4b50-9385-762eb824a403",
   "metadata": {},
   "outputs": [
    {
     "data": {
      "text/html": [
       "<div>\n",
       "<style scoped>\n",
       "    .dataframe tbody tr th:only-of-type {\n",
       "        vertical-align: middle;\n",
       "    }\n",
       "\n",
       "    .dataframe tbody tr th {\n",
       "        vertical-align: top;\n",
       "    }\n",
       "\n",
       "    .dataframe thead th {\n",
       "        text-align: right;\n",
       "    }\n",
       "</style>\n",
       "<table border=\"1\" class=\"dataframe\">\n",
       "  <thead>\n",
       "    <tr style=\"text-align: right;\">\n",
       "      <th></th>\n",
       "      <th>crim</th>\n",
       "      <th>zn</th>\n",
       "      <th>indus</th>\n",
       "      <th>chas</th>\n",
       "      <th>nox</th>\n",
       "      <th>rm</th>\n",
       "      <th>age</th>\n",
       "      <th>dis</th>\n",
       "      <th>rad</th>\n",
       "      <th>tax</th>\n",
       "      <th>ptratio</th>\n",
       "      <th>b</th>\n",
       "      <th>lstat</th>\n",
       "      <th>medv</th>\n",
       "    </tr>\n",
       "  </thead>\n",
       "  <tbody>\n",
       "    <tr>\n",
       "      <th>0</th>\n",
       "      <td>0.00632</td>\n",
       "      <td>18.0</td>\n",
       "      <td>2.31</td>\n",
       "      <td>0.0</td>\n",
       "      <td>0.538</td>\n",
       "      <td>6.575</td>\n",
       "      <td>65.2</td>\n",
       "      <td>4.0900</td>\n",
       "      <td>1.0</td>\n",
       "      <td>296.0</td>\n",
       "      <td>15.3</td>\n",
       "      <td>396.90</td>\n",
       "      <td>4.98</td>\n",
       "      <td>24.0</td>\n",
       "    </tr>\n",
       "    <tr>\n",
       "      <th>1</th>\n",
       "      <td>0.02731</td>\n",
       "      <td>0.0</td>\n",
       "      <td>7.07</td>\n",
       "      <td>0.0</td>\n",
       "      <td>0.469</td>\n",
       "      <td>6.421</td>\n",
       "      <td>78.9</td>\n",
       "      <td>4.9671</td>\n",
       "      <td>2.0</td>\n",
       "      <td>242.0</td>\n",
       "      <td>17.8</td>\n",
       "      <td>396.90</td>\n",
       "      <td>9.14</td>\n",
       "      <td>21.6</td>\n",
       "    </tr>\n",
       "    <tr>\n",
       "      <th>2</th>\n",
       "      <td>0.02729</td>\n",
       "      <td>0.0</td>\n",
       "      <td>7.07</td>\n",
       "      <td>0.0</td>\n",
       "      <td>0.469</td>\n",
       "      <td>7.185</td>\n",
       "      <td>61.1</td>\n",
       "      <td>4.9671</td>\n",
       "      <td>2.0</td>\n",
       "      <td>242.0</td>\n",
       "      <td>17.8</td>\n",
       "      <td>392.83</td>\n",
       "      <td>4.03</td>\n",
       "      <td>34.7</td>\n",
       "    </tr>\n",
       "    <tr>\n",
       "      <th>3</th>\n",
       "      <td>0.03237</td>\n",
       "      <td>0.0</td>\n",
       "      <td>2.18</td>\n",
       "      <td>0.0</td>\n",
       "      <td>0.458</td>\n",
       "      <td>6.998</td>\n",
       "      <td>45.8</td>\n",
       "      <td>6.0622</td>\n",
       "      <td>3.0</td>\n",
       "      <td>222.0</td>\n",
       "      <td>18.7</td>\n",
       "      <td>394.63</td>\n",
       "      <td>2.94</td>\n",
       "      <td>33.4</td>\n",
       "    </tr>\n",
       "    <tr>\n",
       "      <th>4</th>\n",
       "      <td>0.06905</td>\n",
       "      <td>0.0</td>\n",
       "      <td>2.18</td>\n",
       "      <td>0.0</td>\n",
       "      <td>0.458</td>\n",
       "      <td>7.147</td>\n",
       "      <td>54.2</td>\n",
       "      <td>6.0622</td>\n",
       "      <td>3.0</td>\n",
       "      <td>222.0</td>\n",
       "      <td>18.7</td>\n",
       "      <td>396.90</td>\n",
       "      <td>5.33</td>\n",
       "      <td>36.2</td>\n",
       "    </tr>\n",
       "    <tr>\n",
       "      <th>...</th>\n",
       "      <td>...</td>\n",
       "      <td>...</td>\n",
       "      <td>...</td>\n",
       "      <td>...</td>\n",
       "      <td>...</td>\n",
       "      <td>...</td>\n",
       "      <td>...</td>\n",
       "      <td>...</td>\n",
       "      <td>...</td>\n",
       "      <td>...</td>\n",
       "      <td>...</td>\n",
       "      <td>...</td>\n",
       "      <td>...</td>\n",
       "      <td>...</td>\n",
       "    </tr>\n",
       "    <tr>\n",
       "      <th>501</th>\n",
       "      <td>0.06263</td>\n",
       "      <td>0.0</td>\n",
       "      <td>11.93</td>\n",
       "      <td>0.0</td>\n",
       "      <td>0.573</td>\n",
       "      <td>6.593</td>\n",
       "      <td>69.1</td>\n",
       "      <td>2.4786</td>\n",
       "      <td>1.0</td>\n",
       "      <td>273.0</td>\n",
       "      <td>21.0</td>\n",
       "      <td>391.99</td>\n",
       "      <td>9.67</td>\n",
       "      <td>22.4</td>\n",
       "    </tr>\n",
       "    <tr>\n",
       "      <th>502</th>\n",
       "      <td>0.04527</td>\n",
       "      <td>0.0</td>\n",
       "      <td>11.93</td>\n",
       "      <td>0.0</td>\n",
       "      <td>0.573</td>\n",
       "      <td>6.120</td>\n",
       "      <td>76.7</td>\n",
       "      <td>2.2875</td>\n",
       "      <td>1.0</td>\n",
       "      <td>273.0</td>\n",
       "      <td>21.0</td>\n",
       "      <td>396.90</td>\n",
       "      <td>9.08</td>\n",
       "      <td>20.6</td>\n",
       "    </tr>\n",
       "    <tr>\n",
       "      <th>503</th>\n",
       "      <td>0.06076</td>\n",
       "      <td>0.0</td>\n",
       "      <td>11.93</td>\n",
       "      <td>0.0</td>\n",
       "      <td>0.573</td>\n",
       "      <td>6.976</td>\n",
       "      <td>91.0</td>\n",
       "      <td>2.1675</td>\n",
       "      <td>1.0</td>\n",
       "      <td>273.0</td>\n",
       "      <td>21.0</td>\n",
       "      <td>396.90</td>\n",
       "      <td>5.64</td>\n",
       "      <td>23.9</td>\n",
       "    </tr>\n",
       "    <tr>\n",
       "      <th>504</th>\n",
       "      <td>0.10959</td>\n",
       "      <td>0.0</td>\n",
       "      <td>11.93</td>\n",
       "      <td>0.0</td>\n",
       "      <td>0.573</td>\n",
       "      <td>6.794</td>\n",
       "      <td>89.3</td>\n",
       "      <td>2.3889</td>\n",
       "      <td>1.0</td>\n",
       "      <td>273.0</td>\n",
       "      <td>21.0</td>\n",
       "      <td>393.45</td>\n",
       "      <td>6.48</td>\n",
       "      <td>22.0</td>\n",
       "    </tr>\n",
       "    <tr>\n",
       "      <th>505</th>\n",
       "      <td>0.04741</td>\n",
       "      <td>0.0</td>\n",
       "      <td>11.93</td>\n",
       "      <td>0.0</td>\n",
       "      <td>0.573</td>\n",
       "      <td>6.030</td>\n",
       "      <td>80.8</td>\n",
       "      <td>2.5050</td>\n",
       "      <td>1.0</td>\n",
       "      <td>273.0</td>\n",
       "      <td>21.0</td>\n",
       "      <td>396.90</td>\n",
       "      <td>7.88</td>\n",
       "      <td>11.9</td>\n",
       "    </tr>\n",
       "  </tbody>\n",
       "</table>\n",
       "<p>506 rows × 14 columns</p>\n",
       "</div>"
      ],
      "text/plain": [
       "        crim    zn  indus  chas    nox     rm   age     dis  rad    tax  \\\n",
       "0    0.00632  18.0   2.31   0.0  0.538  6.575  65.2  4.0900  1.0  296.0   \n",
       "1    0.02731   0.0   7.07   0.0  0.469  6.421  78.9  4.9671  2.0  242.0   \n",
       "2    0.02729   0.0   7.07   0.0  0.469  7.185  61.1  4.9671  2.0  242.0   \n",
       "3    0.03237   0.0   2.18   0.0  0.458  6.998  45.8  6.0622  3.0  222.0   \n",
       "4    0.06905   0.0   2.18   0.0  0.458  7.147  54.2  6.0622  3.0  222.0   \n",
       "..       ...   ...    ...   ...    ...    ...   ...     ...  ...    ...   \n",
       "501  0.06263   0.0  11.93   0.0  0.573  6.593  69.1  2.4786  1.0  273.0   \n",
       "502  0.04527   0.0  11.93   0.0  0.573  6.120  76.7  2.2875  1.0  273.0   \n",
       "503  0.06076   0.0  11.93   0.0  0.573  6.976  91.0  2.1675  1.0  273.0   \n",
       "504  0.10959   0.0  11.93   0.0  0.573  6.794  89.3  2.3889  1.0  273.0   \n",
       "505  0.04741   0.0  11.93   0.0  0.573  6.030  80.8  2.5050  1.0  273.0   \n",
       "\n",
       "     ptratio       b  lstat  medv  \n",
       "0       15.3  396.90   4.98  24.0  \n",
       "1       17.8  396.90   9.14  21.6  \n",
       "2       17.8  392.83   4.03  34.7  \n",
       "3       18.7  394.63   2.94  33.4  \n",
       "4       18.7  396.90   5.33  36.2  \n",
       "..       ...     ...    ...   ...  \n",
       "501     21.0  391.99   9.67  22.4  \n",
       "502     21.0  396.90   9.08  20.6  \n",
       "503     21.0  396.90   5.64  23.9  \n",
       "504     21.0  393.45   6.48  22.0  \n",
       "505     21.0  396.90   7.88  11.9  \n",
       "\n",
       "[506 rows x 14 columns]"
      ]
     },
     "execution_count": 4,
     "metadata": {},
     "output_type": "execute_result"
    }
   ],
   "source": [
    "data = pd.read_csv(path[0])\n",
    "data"
   ]
  },
  {
   "cell_type": "markdown",
   "id": "0af0203d-f1fc-4104-a5a1-d7918cf91543",
   "metadata": {
    "tags": []
   },
   "source": [
    "## 데이터 설명\n",
    "\n",
    "- crim: 범죄율\n",
    "- zn: 25,000 평방피트를 초과 거주지역 비율\n",
    "- indus: 비소매상업지역 면적 비율\n",
    "- chas: 찰스강의 경계에 위치한 경우는 1, 아니면 0\n",
    "- nox: 일산화질소 농도\n",
    "- rm: 주택당 방 수\n",
    "- age: 1940년 이전에 건축된 주택의 비율\n",
    "- dis: 직업센터의 거리\n",
    "- rad: 방사형 고속도로까지의 거리\n",
    "- tax: 재산세율\n",
    "- ptratio: 학생/교사 비율\n",
    "- b: 인구 중 흑인 비율\n",
    "- lstat: 인구 중 하위 계층 비율\n",
    "- medv : 보스턴 506개 타운의 1978년 주택 가격 중앙값 (단위 1,000 달러)"
   ]
  },
  {
   "cell_type": "code",
   "execution_count": null,
   "id": "0ea2cb11-003e-4954-9bcf-7cce7680bcdf",
   "metadata": {},
   "outputs": [],
   "source": []
  },
  {
   "cell_type": "markdown",
   "id": "2dc02e77-7b42-4322-ad3d-77d5855ac4d6",
   "metadata": {},
   "source": [
    "# 1. Feature Selection\n",
    "\n",
    "`상관계수`와 `공분산`을 바탕으로 피처를 선택하여 봅시다.\n",
    "\n",
    "## 가설1 - 범죄율이 높은 곳의 집 값은 낮을까?\n",
    "\n",
    "일반적인 상식으로는 범죄율이 높다면, 집 값은 낮아야하는게 사실입니다. 하지만 데이터를 살펴보았을 때 일반적인 상식과 다른 경우가 나오는 데이터가 있을 수 있으므로 꼭 실제 데이터로 그래프를 그려본 뒤 가설을 확인해보는것이 중요합니다."
   ]
  },
  {
   "cell_type": "code",
   "execution_count": 5,
   "id": "9da09d75-1c3e-4cbf-9947-1229083e3692",
   "metadata": {},
   "outputs": [
    {
     "data": {
      "text/html": [
       "<div>\n",
       "<style scoped>\n",
       "    .dataframe tbody tr th:only-of-type {\n",
       "        vertical-align: middle;\n",
       "    }\n",
       "\n",
       "    .dataframe tbody tr th {\n",
       "        vertical-align: top;\n",
       "    }\n",
       "\n",
       "    .dataframe thead th {\n",
       "        text-align: right;\n",
       "    }\n",
       "</style>\n",
       "<table border=\"1\" class=\"dataframe\">\n",
       "  <thead>\n",
       "    <tr style=\"text-align: right;\">\n",
       "      <th></th>\n",
       "      <th>crim</th>\n",
       "      <th>zn</th>\n",
       "      <th>indus</th>\n",
       "      <th>chas</th>\n",
       "      <th>nox</th>\n",
       "      <th>rm</th>\n",
       "      <th>age</th>\n",
       "      <th>dis</th>\n",
       "      <th>rad</th>\n",
       "      <th>tax</th>\n",
       "      <th>ptratio</th>\n",
       "      <th>b</th>\n",
       "      <th>lstat</th>\n",
       "      <th>medv</th>\n",
       "    </tr>\n",
       "  </thead>\n",
       "  <tbody>\n",
       "    <tr>\n",
       "      <th>count</th>\n",
       "      <td>506.000000</td>\n",
       "      <td>506.000000</td>\n",
       "      <td>506.000000</td>\n",
       "      <td>506.000000</td>\n",
       "      <td>506.000000</td>\n",
       "      <td>506.000000</td>\n",
       "      <td>506.000000</td>\n",
       "      <td>506.000000</td>\n",
       "      <td>506.000000</td>\n",
       "      <td>506.000000</td>\n",
       "      <td>506.000000</td>\n",
       "      <td>506.000000</td>\n",
       "      <td>506.000000</td>\n",
       "      <td>506.000000</td>\n",
       "    </tr>\n",
       "    <tr>\n",
       "      <th>mean</th>\n",
       "      <td>3.613524</td>\n",
       "      <td>11.363636</td>\n",
       "      <td>11.136779</td>\n",
       "      <td>0.069170</td>\n",
       "      <td>0.554695</td>\n",
       "      <td>6.284634</td>\n",
       "      <td>68.574901</td>\n",
       "      <td>3.795043</td>\n",
       "      <td>9.549407</td>\n",
       "      <td>408.237154</td>\n",
       "      <td>18.455534</td>\n",
       "      <td>356.674032</td>\n",
       "      <td>12.653063</td>\n",
       "      <td>22.532806</td>\n",
       "    </tr>\n",
       "    <tr>\n",
       "      <th>std</th>\n",
       "      <td>8.601545</td>\n",
       "      <td>23.322453</td>\n",
       "      <td>6.860353</td>\n",
       "      <td>0.253994</td>\n",
       "      <td>0.115878</td>\n",
       "      <td>0.702617</td>\n",
       "      <td>28.148861</td>\n",
       "      <td>2.105710</td>\n",
       "      <td>8.707259</td>\n",
       "      <td>168.537116</td>\n",
       "      <td>2.164946</td>\n",
       "      <td>91.294864</td>\n",
       "      <td>7.141062</td>\n",
       "      <td>9.197104</td>\n",
       "    </tr>\n",
       "    <tr>\n",
       "      <th>min</th>\n",
       "      <td>0.006320</td>\n",
       "      <td>0.000000</td>\n",
       "      <td>0.460000</td>\n",
       "      <td>0.000000</td>\n",
       "      <td>0.385000</td>\n",
       "      <td>3.561000</td>\n",
       "      <td>2.900000</td>\n",
       "      <td>1.129600</td>\n",
       "      <td>1.000000</td>\n",
       "      <td>187.000000</td>\n",
       "      <td>12.600000</td>\n",
       "      <td>0.320000</td>\n",
       "      <td>1.730000</td>\n",
       "      <td>5.000000</td>\n",
       "    </tr>\n",
       "    <tr>\n",
       "      <th>25%</th>\n",
       "      <td>0.082045</td>\n",
       "      <td>0.000000</td>\n",
       "      <td>5.190000</td>\n",
       "      <td>0.000000</td>\n",
       "      <td>0.449000</td>\n",
       "      <td>5.885500</td>\n",
       "      <td>45.025000</td>\n",
       "      <td>2.100175</td>\n",
       "      <td>4.000000</td>\n",
       "      <td>279.000000</td>\n",
       "      <td>17.400000</td>\n",
       "      <td>375.377500</td>\n",
       "      <td>6.950000</td>\n",
       "      <td>17.025000</td>\n",
       "    </tr>\n",
       "    <tr>\n",
       "      <th>50%</th>\n",
       "      <td>0.256510</td>\n",
       "      <td>0.000000</td>\n",
       "      <td>9.690000</td>\n",
       "      <td>0.000000</td>\n",
       "      <td>0.538000</td>\n",
       "      <td>6.208500</td>\n",
       "      <td>77.500000</td>\n",
       "      <td>3.207450</td>\n",
       "      <td>5.000000</td>\n",
       "      <td>330.000000</td>\n",
       "      <td>19.050000</td>\n",
       "      <td>391.440000</td>\n",
       "      <td>11.360000</td>\n",
       "      <td>21.200000</td>\n",
       "    </tr>\n",
       "    <tr>\n",
       "      <th>75%</th>\n",
       "      <td>3.677083</td>\n",
       "      <td>12.500000</td>\n",
       "      <td>18.100000</td>\n",
       "      <td>0.000000</td>\n",
       "      <td>0.624000</td>\n",
       "      <td>6.623500</td>\n",
       "      <td>94.075000</td>\n",
       "      <td>5.188425</td>\n",
       "      <td>24.000000</td>\n",
       "      <td>666.000000</td>\n",
       "      <td>20.200000</td>\n",
       "      <td>396.225000</td>\n",
       "      <td>16.955000</td>\n",
       "      <td>25.000000</td>\n",
       "    </tr>\n",
       "    <tr>\n",
       "      <th>max</th>\n",
       "      <td>88.976200</td>\n",
       "      <td>100.000000</td>\n",
       "      <td>27.740000</td>\n",
       "      <td>1.000000</td>\n",
       "      <td>0.871000</td>\n",
       "      <td>8.780000</td>\n",
       "      <td>100.000000</td>\n",
       "      <td>12.126500</td>\n",
       "      <td>24.000000</td>\n",
       "      <td>711.000000</td>\n",
       "      <td>22.000000</td>\n",
       "      <td>396.900000</td>\n",
       "      <td>37.970000</td>\n",
       "      <td>50.000000</td>\n",
       "    </tr>\n",
       "  </tbody>\n",
       "</table>\n",
       "</div>"
      ],
      "text/plain": [
       "             crim          zn       indus        chas         nox          rm  \\\n",
       "count  506.000000  506.000000  506.000000  506.000000  506.000000  506.000000   \n",
       "mean     3.613524   11.363636   11.136779    0.069170    0.554695    6.284634   \n",
       "std      8.601545   23.322453    6.860353    0.253994    0.115878    0.702617   \n",
       "min      0.006320    0.000000    0.460000    0.000000    0.385000    3.561000   \n",
       "25%      0.082045    0.000000    5.190000    0.000000    0.449000    5.885500   \n",
       "50%      0.256510    0.000000    9.690000    0.000000    0.538000    6.208500   \n",
       "75%      3.677083   12.500000   18.100000    0.000000    0.624000    6.623500   \n",
       "max     88.976200  100.000000   27.740000    1.000000    0.871000    8.780000   \n",
       "\n",
       "              age         dis         rad         tax     ptratio           b  \\\n",
       "count  506.000000  506.000000  506.000000  506.000000  506.000000  506.000000   \n",
       "mean    68.574901    3.795043    9.549407  408.237154   18.455534  356.674032   \n",
       "std     28.148861    2.105710    8.707259  168.537116    2.164946   91.294864   \n",
       "min      2.900000    1.129600    1.000000  187.000000   12.600000    0.320000   \n",
       "25%     45.025000    2.100175    4.000000  279.000000   17.400000  375.377500   \n",
       "50%     77.500000    3.207450    5.000000  330.000000   19.050000  391.440000   \n",
       "75%     94.075000    5.188425   24.000000  666.000000   20.200000  396.225000   \n",
       "max    100.000000   12.126500   24.000000  711.000000   22.000000  396.900000   \n",
       "\n",
       "            lstat        medv  \n",
       "count  506.000000  506.000000  \n",
       "mean    12.653063   22.532806  \n",
       "std      7.141062    9.197104  \n",
       "min      1.730000    5.000000  \n",
       "25%      6.950000   17.025000  \n",
       "50%     11.360000   21.200000  \n",
       "75%     16.955000   25.000000  \n",
       "max     37.970000   50.000000  "
      ]
     },
     "execution_count": 5,
     "metadata": {},
     "output_type": "execute_result"
    }
   ],
   "source": [
    "#연속형변수 / 범주형변수 찾아내기 위해서 describe() 메서드 이용\n",
    "data.describe()"
   ]
  },
  {
   "cell_type": "code",
   "execution_count": 6,
   "id": "9b2f94a1-8a48-43c7-b6f5-8a03c1800d1c",
   "metadata": {},
   "outputs": [],
   "source": [
    "# 먼저, 상관계수와 공분산은 연속형자료를 분석하기 때문에 범주형변수를 제거합니다.\n",
    "# data['chas'] & data['rad']\n",
    "del data['chas']\n",
    "del data['rad']"
   ]
  },
  {
   "cell_type": "code",
   "execution_count": 7,
   "id": "cd470a4b-89e1-4d32-9c22-83882e4f0161",
   "metadata": {},
   "outputs": [
    {
     "data": {
      "text/plain": [
       "<seaborn.axisgrid.JointGrid at 0x20529e06880>"
      ]
     },
     "execution_count": 7,
     "metadata": {},
     "output_type": "execute_result"
    },
    {
     "data": {
      "image/png": "[encoded data removed]",
      "text/plain": [
       "<Figure size 432x432 with 3 Axes>"
      ]
     },
     "metadata": {
      "needs_background": "light"
     },
     "output_type": "display_data"
    }
   ],
   "source": [
    "# 실제 집 값과 범죄율의 상관관계가 있는지 그래프를 통해 살펴봅시다.\n",
    "# 범죄율이 높을 수록 집값이 낮다는 것을 알 수 있음 \n",
    "sns.jointplot(data = data, x = 'crim', y = 'medv', kind = 'reg')"
   ]
  },
  {
   "cell_type": "code",
   "execution_count": null,
   "id": "ca41700a-5d67-4d7d-81a2-05efd1067300",
   "metadata": {},
   "outputs": [],
   "source": []
  },
  {
   "cell_type": "markdown",
   "id": "cdf4b61d-28c5-4f3e-bf98-77f30493c4ef",
   "metadata": {},
   "source": [
    "#### `x.cov(y)`\n",
    "\n",
    "- 공분산을 확인하기 위한 함수입니다.\n",
    "- x와 y에 같은 시리즈형의 데이터를 대입합니다.\n",
    "- df.cov()처럼 데이터프레임을 x에 넣고 y자리에 아무것도 적지 않으면 각 변수별로 공분산을 계산하여 줍니다."
   ]
  },
  {
   "cell_type": "code",
   "execution_count": 8,
   "id": "01682416-b427-4bf7-a4b1-8e74d5ad7371",
   "metadata": {},
   "outputs": [
    {
     "data": {
      "text/plain": [
       "-30.718507964458173"
      ]
     },
     "execution_count": 8,
     "metadata": {},
     "output_type": "execute_result"
    }
   ],
   "source": [
    "# 집값과 범죄율의 공분산을 확인해 봅시당\n",
    "data['crim'].cov(data['medv'])"
   ]
  },
  {
   "cell_type": "markdown",
   "id": "2d4232f3-362b-4669-8853-1659156feeb0",
   "metadata": {},
   "source": [
    "##### '-30.718507964458173' 이라는 수치가 실제 범죄율과 집값사이에 얼마만큼의 상관성을 가지는 지는 알려주지 않는다 (공분산의 한계) \n",
    "##### 서로 음의 방향으로 진행된다는 정도만 알 수 있고 상관성은 상관계수를 통해 알 수 있다.\n"
   ]
  },
  {
   "cell_type": "code",
   "execution_count": 9,
   "id": "c5154a05-65a4-4acc-afcd-c90a5b5a82c6",
   "metadata": {},
   "outputs": [
    {
     "data": {
      "text/html": [
       "<div>\n",
       "<style scoped>\n",
       "    .dataframe tbody tr th:only-of-type {\n",
       "        vertical-align: middle;\n",
       "    }\n",
       "\n",
       "    .dataframe tbody tr th {\n",
       "        vertical-align: top;\n",
       "    }\n",
       "\n",
       "    .dataframe thead th {\n",
       "        text-align: right;\n",
       "    }\n",
       "</style>\n",
       "<table border=\"1\" class=\"dataframe\">\n",
       "  <thead>\n",
       "    <tr style=\"text-align: right;\">\n",
       "      <th></th>\n",
       "      <th>crim</th>\n",
       "      <th>zn</th>\n",
       "      <th>indus</th>\n",
       "      <th>nox</th>\n",
       "      <th>rm</th>\n",
       "      <th>age</th>\n",
       "      <th>dis</th>\n",
       "      <th>tax</th>\n",
       "      <th>ptratio</th>\n",
       "      <th>b</th>\n",
       "      <th>lstat</th>\n",
       "      <th>medv</th>\n",
       "    </tr>\n",
       "  </thead>\n",
       "  <tbody>\n",
       "    <tr>\n",
       "      <th>crim</th>\n",
       "      <td>73.986578</td>\n",
       "      <td>-40.215956</td>\n",
       "      <td>23.992339</td>\n",
       "      <td>0.419594</td>\n",
       "      <td>-1.325038</td>\n",
       "      <td>85.405322</td>\n",
       "      <td>-6.876722</td>\n",
       "      <td>844.821538</td>\n",
       "      <td>5.399331</td>\n",
       "      <td>-302.381816</td>\n",
       "      <td>27.986168</td>\n",
       "      <td>-30.718508</td>\n",
       "    </tr>\n",
       "    <tr>\n",
       "      <th>zn</th>\n",
       "      <td>-40.215956</td>\n",
       "      <td>543.936814</td>\n",
       "      <td>-85.412648</td>\n",
       "      <td>-1.396148</td>\n",
       "      <td>5.112513</td>\n",
       "      <td>-373.901548</td>\n",
       "      <td>32.629304</td>\n",
       "      <td>-1236.453735</td>\n",
       "      <td>-19.776571</td>\n",
       "      <td>373.721402</td>\n",
       "      <td>-68.783037</td>\n",
       "      <td>77.315176</td>\n",
       "    </tr>\n",
       "    <tr>\n",
       "      <th>indus</th>\n",
       "      <td>23.992339</td>\n",
       "      <td>-85.412648</td>\n",
       "      <td>47.064442</td>\n",
       "      <td>0.607074</td>\n",
       "      <td>-1.887957</td>\n",
       "      <td>124.513903</td>\n",
       "      <td>-10.228097</td>\n",
       "      <td>833.360290</td>\n",
       "      <td>5.692104</td>\n",
       "      <td>-223.579756</td>\n",
       "      <td>29.580270</td>\n",
       "      <td>-30.520823</td>\n",
       "    </tr>\n",
       "    <tr>\n",
       "      <th>nox</th>\n",
       "      <td>0.419594</td>\n",
       "      <td>-1.396148</td>\n",
       "      <td>0.607074</td>\n",
       "      <td>0.013428</td>\n",
       "      <td>-0.024603</td>\n",
       "      <td>2.385927</td>\n",
       "      <td>-0.187696</td>\n",
       "      <td>13.046286</td>\n",
       "      <td>0.047397</td>\n",
       "      <td>-4.020570</td>\n",
       "      <td>0.488946</td>\n",
       "      <td>-0.455412</td>\n",
       "    </tr>\n",
       "    <tr>\n",
       "      <th>rm</th>\n",
       "      <td>-1.325038</td>\n",
       "      <td>5.112513</td>\n",
       "      <td>-1.887957</td>\n",
       "      <td>-0.024603</td>\n",
       "      <td>0.493671</td>\n",
       "      <td>-4.751929</td>\n",
       "      <td>0.303663</td>\n",
       "      <td>-34.583448</td>\n",
       "      <td>-0.540763</td>\n",
       "      <td>8.215006</td>\n",
       "      <td>-3.079741</td>\n",
       "      <td>4.493446</td>\n",
       "    </tr>\n",
       "    <tr>\n",
       "      <th>age</th>\n",
       "      <td>85.405322</td>\n",
       "      <td>-373.901548</td>\n",
       "      <td>124.513903</td>\n",
       "      <td>2.385927</td>\n",
       "      <td>-4.751929</td>\n",
       "      <td>792.358399</td>\n",
       "      <td>-44.329379</td>\n",
       "      <td>2402.690122</td>\n",
       "      <td>15.936921</td>\n",
       "      <td>-702.940328</td>\n",
       "      <td>121.077725</td>\n",
       "      <td>-97.589017</td>\n",
       "    </tr>\n",
       "    <tr>\n",
       "      <th>dis</th>\n",
       "      <td>-6.876722</td>\n",
       "      <td>32.629304</td>\n",
       "      <td>-10.228097</td>\n",
       "      <td>-0.187696</td>\n",
       "      <td>0.303663</td>\n",
       "      <td>-44.329379</td>\n",
       "      <td>4.434015</td>\n",
       "      <td>-189.664592</td>\n",
       "      <td>-1.059775</td>\n",
       "      <td>56.040356</td>\n",
       "      <td>-7.473329</td>\n",
       "      <td>4.840229</td>\n",
       "    </tr>\n",
       "    <tr>\n",
       "      <th>tax</th>\n",
       "      <td>844.821538</td>\n",
       "      <td>-1236.453735</td>\n",
       "      <td>833.360290</td>\n",
       "      <td>13.046286</td>\n",
       "      <td>-34.583448</td>\n",
       "      <td>2402.690122</td>\n",
       "      <td>-189.664592</td>\n",
       "      <td>28404.759488</td>\n",
       "      <td>168.153141</td>\n",
       "      <td>-6797.911215</td>\n",
       "      <td>654.714520</td>\n",
       "      <td>-726.255716</td>\n",
       "    </tr>\n",
       "    <tr>\n",
       "      <th>ptratio</th>\n",
       "      <td>5.399331</td>\n",
       "      <td>-19.776571</td>\n",
       "      <td>5.692104</td>\n",
       "      <td>0.047397</td>\n",
       "      <td>-0.540763</td>\n",
       "      <td>15.936921</td>\n",
       "      <td>-1.059775</td>\n",
       "      <td>168.153141</td>\n",
       "      <td>4.686989</td>\n",
       "      <td>-35.059527</td>\n",
       "      <td>5.782729</td>\n",
       "      <td>-10.110657</td>\n",
       "    </tr>\n",
       "    <tr>\n",
       "      <th>b</th>\n",
       "      <td>-302.381816</td>\n",
       "      <td>373.721402</td>\n",
       "      <td>-223.579756</td>\n",
       "      <td>-4.020570</td>\n",
       "      <td>8.215006</td>\n",
       "      <td>-702.940328</td>\n",
       "      <td>56.040356</td>\n",
       "      <td>-6797.911215</td>\n",
       "      <td>-35.059527</td>\n",
       "      <td>8334.752263</td>\n",
       "      <td>-238.667516</td>\n",
       "      <td>279.989834</td>\n",
       "    </tr>\n",
       "    <tr>\n",
       "      <th>lstat</th>\n",
       "      <td>27.986168</td>\n",
       "      <td>-68.783037</td>\n",
       "      <td>29.580270</td>\n",
       "      <td>0.488946</td>\n",
       "      <td>-3.079741</td>\n",
       "      <td>121.077725</td>\n",
       "      <td>-7.473329</td>\n",
       "      <td>654.714520</td>\n",
       "      <td>5.782729</td>\n",
       "      <td>-238.667516</td>\n",
       "      <td>50.994760</td>\n",
       "      <td>-48.447538</td>\n",
       "    </tr>\n",
       "    <tr>\n",
       "      <th>medv</th>\n",
       "      <td>-30.718508</td>\n",
       "      <td>77.315176</td>\n",
       "      <td>-30.520823</td>\n",
       "      <td>-0.455412</td>\n",
       "      <td>4.493446</td>\n",
       "      <td>-97.589017</td>\n",
       "      <td>4.840229</td>\n",
       "      <td>-726.255716</td>\n",
       "      <td>-10.110657</td>\n",
       "      <td>279.989834</td>\n",
       "      <td>-48.447538</td>\n",
       "      <td>84.586724</td>\n",
       "    </tr>\n",
       "  </tbody>\n",
       "</table>\n",
       "</div>"
      ],
      "text/plain": [
       "               crim           zn       indus        nox         rm  \\\n",
       "crim      73.986578   -40.215956   23.992339   0.419594  -1.325038   \n",
       "zn       -40.215956   543.936814  -85.412648  -1.396148   5.112513   \n",
       "indus     23.992339   -85.412648   47.064442   0.607074  -1.887957   \n",
       "nox        0.419594    -1.396148    0.607074   0.013428  -0.024603   \n",
       "rm        -1.325038     5.112513   -1.887957  -0.024603   0.493671   \n",
       "age       85.405322  -373.901548  124.513903   2.385927  -4.751929   \n",
       "dis       -6.876722    32.629304  -10.228097  -0.187696   0.303663   \n",
       "tax      844.821538 -1236.453735  833.360290  13.046286 -34.583448   \n",
       "ptratio    5.399331   -19.776571    5.692104   0.047397  -0.540763   \n",
       "b       -302.381816   373.721402 -223.579756  -4.020570   8.215006   \n",
       "lstat     27.986168   -68.783037   29.580270   0.488946  -3.079741   \n",
       "medv     -30.718508    77.315176  -30.520823  -0.455412   4.493446   \n",
       "\n",
       "                 age         dis           tax     ptratio            b  \\\n",
       "crim       85.405322   -6.876722    844.821538    5.399331  -302.381816   \n",
       "zn       -373.901548   32.629304  -1236.453735  -19.776571   373.721402   \n",
       "indus     124.513903  -10.228097    833.360290    5.692104  -223.579756   \n",
       "nox         2.385927   -0.187696     13.046286    0.047397    -4.020570   \n",
       "rm         -4.751929    0.303663    -34.583448   -0.540763     8.215006   \n",
       "age       792.358399  -44.329379   2402.690122   15.936921  -702.940328   \n",
       "dis       -44.329379    4.434015   -189.664592   -1.059775    56.040356   \n",
       "tax      2402.690122 -189.664592  28404.759488  168.153141 -6797.911215   \n",
       "ptratio    15.936921   -1.059775    168.153141    4.686989   -35.059527   \n",
       "b        -702.940328   56.040356  -6797.911215  -35.059527  8334.752263   \n",
       "lstat     121.077725   -7.473329    654.714520    5.782729  -238.667516   \n",
       "medv      -97.589017    4.840229   -726.255716  -10.110657   279.989834   \n",
       "\n",
       "              lstat        medv  \n",
       "crim      27.986168  -30.718508  \n",
       "zn       -68.783037   77.315176  \n",
       "indus     29.580270  -30.520823  \n",
       "nox        0.488946   -0.455412  \n",
       "rm        -3.079741    4.493446  \n",
       "age      121.077725  -97.589017  \n",
       "dis       -7.473329    4.840229  \n",
       "tax      654.714520 -726.255716  \n",
       "ptratio    5.782729  -10.110657  \n",
       "b       -238.667516  279.989834  \n",
       "lstat     50.994760  -48.447538  \n",
       "medv     -48.447538   84.586724  "
      ]
     },
     "execution_count": 9,
     "metadata": {},
     "output_type": "execute_result"
    }
   ],
   "source": [
    "# 각 피쳐 간 공분산 분석 \n",
    "data.cov()"
   ]
  },
  {
   "cell_type": "code",
   "execution_count": null,
   "id": "67a0832f-c6b1-4986-bc24-5e91f25e01a7",
   "metadata": {},
   "outputs": [],
   "source": []
  },
  {
   "cell_type": "markdown",
   "id": "628b3f30-adb8-44e5-8bf7-ad2b4662f852",
   "metadata": {},
   "source": [
    "#### `x.corr(y)`\n",
    "\n",
    "- 상관계수를 확인하기 위한 함수입니다.\n",
    "- x와 y에 같은 시리즈형의 데이터를 대입합니다.\n",
    "- df.corr()처럼 데이터프레임을 x에 넣고 y자리에 아무것도 적지 않으면 각 변수별로 공분산을 계산하여 줍니다."
   ]
  },
  {
   "cell_type": "code",
   "execution_count": 10,
   "id": "3ae53bac-c78b-403b-b5c6-7bed7cd66aa5",
   "metadata": {},
   "outputs": [
    {
     "data": {
      "text/plain": [
       "-0.38830460858681143"
      ]
     },
     "execution_count": 10,
     "metadata": {},
     "output_type": "execute_result"
    }
   ],
   "source": [
    "# 실제 범죄율과 집 값의 상관계수도 확인해봅시다.\n",
    "data['crim'].corr(data['medv'])"
   ]
  },
  {
   "cell_type": "code",
   "execution_count": 11,
   "id": "ab0f1035-f395-4880-8bc0-456586dfb6c5",
   "metadata": {},
   "outputs": [
    {
     "data": {
      "text/html": [
       "<div>\n",
       "<style scoped>\n",
       "    .dataframe tbody tr th:only-of-type {\n",
       "        vertical-align: middle;\n",
       "    }\n",
       "\n",
       "    .dataframe tbody tr th {\n",
       "        vertical-align: top;\n",
       "    }\n",
       "\n",
       "    .dataframe thead th {\n",
       "        text-align: right;\n",
       "    }\n",
       "</style>\n",
       "<table border=\"1\" class=\"dataframe\">\n",
       "  <thead>\n",
       "    <tr style=\"text-align: right;\">\n",
       "      <th></th>\n",
       "      <th>crim</th>\n",
       "      <th>zn</th>\n",
       "      <th>indus</th>\n",
       "      <th>nox</th>\n",
       "      <th>rm</th>\n",
       "      <th>age</th>\n",
       "      <th>dis</th>\n",
       "      <th>tax</th>\n",
       "      <th>ptratio</th>\n",
       "      <th>b</th>\n",
       "      <th>lstat</th>\n",
       "      <th>medv</th>\n",
       "    </tr>\n",
       "  </thead>\n",
       "  <tbody>\n",
       "    <tr>\n",
       "      <th>crim</th>\n",
       "      <td>1.000000</td>\n",
       "      <td>-0.200469</td>\n",
       "      <td>0.406583</td>\n",
       "      <td>0.420972</td>\n",
       "      <td>-0.219247</td>\n",
       "      <td>0.352734</td>\n",
       "      <td>-0.379670</td>\n",
       "      <td>0.582764</td>\n",
       "      <td>0.289946</td>\n",
       "      <td>-0.385064</td>\n",
       "      <td>0.455621</td>\n",
       "      <td>-0.388305</td>\n",
       "    </tr>\n",
       "    <tr>\n",
       "      <th>zn</th>\n",
       "      <td>-0.200469</td>\n",
       "      <td>1.000000</td>\n",
       "      <td>-0.533828</td>\n",
       "      <td>-0.516604</td>\n",
       "      <td>0.311991</td>\n",
       "      <td>-0.569537</td>\n",
       "      <td>0.664408</td>\n",
       "      <td>-0.314563</td>\n",
       "      <td>-0.391679</td>\n",
       "      <td>0.175520</td>\n",
       "      <td>-0.412995</td>\n",
       "      <td>0.360445</td>\n",
       "    </tr>\n",
       "    <tr>\n",
       "      <th>indus</th>\n",
       "      <td>0.406583</td>\n",
       "      <td>-0.533828</td>\n",
       "      <td>1.000000</td>\n",
       "      <td>0.763651</td>\n",
       "      <td>-0.391676</td>\n",
       "      <td>0.644779</td>\n",
       "      <td>-0.708027</td>\n",
       "      <td>0.720760</td>\n",
       "      <td>0.383248</td>\n",
       "      <td>-0.356977</td>\n",
       "      <td>0.603800</td>\n",
       "      <td>-0.483725</td>\n",
       "    </tr>\n",
       "    <tr>\n",
       "      <th>nox</th>\n",
       "      <td>0.420972</td>\n",
       "      <td>-0.516604</td>\n",
       "      <td>0.763651</td>\n",
       "      <td>1.000000</td>\n",
       "      <td>-0.302188</td>\n",
       "      <td>0.731470</td>\n",
       "      <td>-0.769230</td>\n",
       "      <td>0.668023</td>\n",
       "      <td>0.188933</td>\n",
       "      <td>-0.380051</td>\n",
       "      <td>0.590879</td>\n",
       "      <td>-0.427321</td>\n",
       "    </tr>\n",
       "    <tr>\n",
       "      <th>rm</th>\n",
       "      <td>-0.219247</td>\n",
       "      <td>0.311991</td>\n",
       "      <td>-0.391676</td>\n",
       "      <td>-0.302188</td>\n",
       "      <td>1.000000</td>\n",
       "      <td>-0.240265</td>\n",
       "      <td>0.205246</td>\n",
       "      <td>-0.292048</td>\n",
       "      <td>-0.355501</td>\n",
       "      <td>0.128069</td>\n",
       "      <td>-0.613808</td>\n",
       "      <td>0.695360</td>\n",
       "    </tr>\n",
       "    <tr>\n",
       "      <th>age</th>\n",
       "      <td>0.352734</td>\n",
       "      <td>-0.569537</td>\n",
       "      <td>0.644779</td>\n",
       "      <td>0.731470</td>\n",
       "      <td>-0.240265</td>\n",
       "      <td>1.000000</td>\n",
       "      <td>-0.747881</td>\n",
       "      <td>0.506456</td>\n",
       "      <td>0.261515</td>\n",
       "      <td>-0.273534</td>\n",
       "      <td>0.602339</td>\n",
       "      <td>-0.376955</td>\n",
       "    </tr>\n",
       "    <tr>\n",
       "      <th>dis</th>\n",
       "      <td>-0.379670</td>\n",
       "      <td>0.664408</td>\n",
       "      <td>-0.708027</td>\n",
       "      <td>-0.769230</td>\n",
       "      <td>0.205246</td>\n",
       "      <td>-0.747881</td>\n",
       "      <td>1.000000</td>\n",
       "      <td>-0.534432</td>\n",
       "      <td>-0.232471</td>\n",
       "      <td>0.291512</td>\n",
       "      <td>-0.496996</td>\n",
       "      <td>0.249929</td>\n",
       "    </tr>\n",
       "    <tr>\n",
       "      <th>tax</th>\n",
       "      <td>0.582764</td>\n",
       "      <td>-0.314563</td>\n",
       "      <td>0.720760</td>\n",
       "      <td>0.668023</td>\n",
       "      <td>-0.292048</td>\n",
       "      <td>0.506456</td>\n",
       "      <td>-0.534432</td>\n",
       "      <td>1.000000</td>\n",
       "      <td>0.460853</td>\n",
       "      <td>-0.441808</td>\n",
       "      <td>0.543993</td>\n",
       "      <td>-0.468536</td>\n",
       "    </tr>\n",
       "    <tr>\n",
       "      <th>ptratio</th>\n",
       "      <td>0.289946</td>\n",
       "      <td>-0.391679</td>\n",
       "      <td>0.383248</td>\n",
       "      <td>0.188933</td>\n",
       "      <td>-0.355501</td>\n",
       "      <td>0.261515</td>\n",
       "      <td>-0.232471</td>\n",
       "      <td>0.460853</td>\n",
       "      <td>1.000000</td>\n",
       "      <td>-0.177383</td>\n",
       "      <td>0.374044</td>\n",
       "      <td>-0.507787</td>\n",
       "    </tr>\n",
       "    <tr>\n",
       "      <th>b</th>\n",
       "      <td>-0.385064</td>\n",
       "      <td>0.175520</td>\n",
       "      <td>-0.356977</td>\n",
       "      <td>-0.380051</td>\n",
       "      <td>0.128069</td>\n",
       "      <td>-0.273534</td>\n",
       "      <td>0.291512</td>\n",
       "      <td>-0.441808</td>\n",
       "      <td>-0.177383</td>\n",
       "      <td>1.000000</td>\n",
       "      <td>-0.366087</td>\n",
       "      <td>0.333461</td>\n",
       "    </tr>\n",
       "    <tr>\n",
       "      <th>lstat</th>\n",
       "      <td>0.455621</td>\n",
       "      <td>-0.412995</td>\n",
       "      <td>0.603800</td>\n",
       "      <td>0.590879</td>\n",
       "      <td>-0.613808</td>\n",
       "      <td>0.602339</td>\n",
       "      <td>-0.496996</td>\n",
       "      <td>0.543993</td>\n",
       "      <td>0.374044</td>\n",
       "      <td>-0.366087</td>\n",
       "      <td>1.000000</td>\n",
       "      <td>-0.737663</td>\n",
       "    </tr>\n",
       "    <tr>\n",
       "      <th>medv</th>\n",
       "      <td>-0.388305</td>\n",
       "      <td>0.360445</td>\n",
       "      <td>-0.483725</td>\n",
       "      <td>-0.427321</td>\n",
       "      <td>0.695360</td>\n",
       "      <td>-0.376955</td>\n",
       "      <td>0.249929</td>\n",
       "      <td>-0.468536</td>\n",
       "      <td>-0.507787</td>\n",
       "      <td>0.333461</td>\n",
       "      <td>-0.737663</td>\n",
       "      <td>1.000000</td>\n",
       "    </tr>\n",
       "  </tbody>\n",
       "</table>\n",
       "</div>"
      ],
      "text/plain": [
       "             crim        zn     indus       nox        rm       age       dis  \\\n",
       "crim     1.000000 -0.200469  0.406583  0.420972 -0.219247  0.352734 -0.379670   \n",
       "zn      -0.200469  1.000000 -0.533828 -0.516604  0.311991 -0.569537  0.664408   \n",
       "indus    0.406583 -0.533828  1.000000  0.763651 -0.391676  0.644779 -0.708027   \n",
       "nox      0.420972 -0.516604  0.763651  1.000000 -0.302188  0.731470 -0.769230   \n",
       "rm      -0.219247  0.311991 -0.391676 -0.302188  1.000000 -0.240265  0.205246   \n",
       "age      0.352734 -0.569537  0.644779  0.731470 -0.240265  1.000000 -0.747881   \n",
       "dis     -0.379670  0.664408 -0.708027 -0.769230  0.205246 -0.747881  1.000000   \n",
       "tax      0.582764 -0.314563  0.720760  0.668023 -0.292048  0.506456 -0.534432   \n",
       "ptratio  0.289946 -0.391679  0.383248  0.188933 -0.355501  0.261515 -0.232471   \n",
       "b       -0.385064  0.175520 -0.356977 -0.380051  0.128069 -0.273534  0.291512   \n",
       "lstat    0.455621 -0.412995  0.603800  0.590879 -0.613808  0.602339 -0.496996   \n",
       "medv    -0.388305  0.360445 -0.483725 -0.427321  0.695360 -0.376955  0.249929   \n",
       "\n",
       "              tax   ptratio         b     lstat      medv  \n",
       "crim     0.582764  0.289946 -0.385064  0.455621 -0.388305  \n",
       "zn      -0.314563 -0.391679  0.175520 -0.412995  0.360445  \n",
       "indus    0.720760  0.383248 -0.356977  0.603800 -0.483725  \n",
       "nox      0.668023  0.188933 -0.380051  0.590879 -0.427321  \n",
       "rm      -0.292048 -0.355501  0.128069 -0.613808  0.695360  \n",
       "age      0.506456  0.261515 -0.273534  0.602339 -0.376955  \n",
       "dis     -0.534432 -0.232471  0.291512 -0.496996  0.249929  \n",
       "tax      1.000000  0.460853 -0.441808  0.543993 -0.468536  \n",
       "ptratio  0.460853  1.000000 -0.177383  0.374044 -0.507787  \n",
       "b       -0.441808 -0.177383  1.000000 -0.366087  0.333461  \n",
       "lstat    0.543993  0.374044 -0.366087  1.000000 -0.737663  \n",
       "medv    -0.468536 -0.507787  0.333461 -0.737663  1.000000  "
      ]
     },
     "execution_count": 11,
     "metadata": {},
     "output_type": "execute_result"
    }
   ],
   "source": [
    "# 각 피쳐 간 상괸관계 분석 \n",
    "data.corr()"
   ]
  },
  {
   "cell_type": "code",
   "execution_count": null,
   "id": "9545874b-2851-4ff1-a17f-f07dc0480b2c",
   "metadata": {},
   "outputs": [],
   "source": []
  },
  {
   "cell_type": "markdown",
   "id": "b5348c7c-9aa1-4c48-a96d-48cb8253c49b",
   "metadata": {
    "tags": []
   },
   "source": [
    "## 가설2 - 방의 개수가 많은 곳이 집 값이 비쌀까?"
   ]
  },
  {
   "cell_type": "code",
   "execution_count": 12,
   "id": "83955446-fc3a-4d96-b167-d05ec5e1a576",
   "metadata": {},
   "outputs": [
    {
     "data": {
      "text/plain": [
       "<seaborn.axisgrid.JointGrid at 0x2052a7b3670>"
      ]
     },
     "execution_count": 12,
     "metadata": {},
     "output_type": "execute_result"
    },
    {
     "data": {
      "image/png": "[encoded data removed]",
      "text/plain": [
       "<Figure size 432x432 with 3 Axes>"
      ]
     },
     "metadata": {
      "needs_background": "light"
     },
     "output_type": "display_data"
    }
   ],
   "source": [
    "# 방의 갯수와 집값의 상관관계 분석 \n",
    "sns.jointplot(data = data, x = 'rm', y = 'medv', kind = 'reg')\n",
    "# 방의 갯수가 많을 수록 집값이 비싸다는 걸 알 수 있음 "
   ]
  },
  {
   "cell_type": "code",
   "execution_count": 13,
   "id": "5c3fcc91-00ca-4251-b741-ed7a41311ca4",
   "metadata": {},
   "outputs": [
    {
     "data": {
      "text/plain": [
       "0.6953599470715393"
      ]
     },
     "execution_count": 13,
     "metadata": {},
     "output_type": "execute_result"
    }
   ],
   "source": [
    "# 방의 갯수와 집값의 상관 관계와 공분산도 알아보자 \n",
    "# 높은 양의 상관관계 \n",
    "data['rm'].corr(data['medv'])"
   ]
  },
  {
   "cell_type": "code",
   "execution_count": 14,
   "id": "fc87e7ee-604e-475e-86b9-70fc066f5b03",
   "metadata": {},
   "outputs": [
    {
     "data": {
      "text/plain": [
       "4.493445879544476"
      ]
     },
     "execution_count": 14,
     "metadata": {},
     "output_type": "execute_result"
    }
   ],
   "source": [
    "# 공분산\n",
    "data['rm'].cov(data['medv'])\n",
    "#공분산은 낮아도 상관계수는 높을 수 있다는 것을 반증하는 데이터 "
   ]
  },
  {
   "cell_type": "markdown",
   "id": "d24f3417-bd07-4be2-a794-0c1a73ddda95",
   "metadata": {},
   "source": [
    "#### `sns.heatmap(df, cmap, annot, fmt)`\n",
    "\n",
    "- 앞에서 배운 heatmap의 심화\n",
    "- cmap - 전체적인 색을 지정 (summer /  YlGnBu / RdYlGn_r 등)\n",
    "- annot - True / False 로써 숫자를 표현해줄 것인지 기입\n",
    "- fmt - 숫자의 소숫점 자리수 설정"
   ]
  },
  {
   "cell_type": "code",
   "execution_count": 15,
   "id": "82ce59eb-ec3a-4f1a-902e-65a03d0e3417",
   "metadata": {},
   "outputs": [
    {
     "data": {
      "text/plain": [
       "<AxesSubplot:>"
      ]
     },
     "execution_count": 15,
     "metadata": {},
     "output_type": "execute_result"
    },
    {
     "data": {
      "image/png": "[encoded data removed]",
      "text/plain": [
       "<Figure size 1152x648 with 2 Axes>"
      ]
     },
     "metadata": {
      "needs_background": "light"
     },
     "output_type": "display_data"
    }
   ],
   "source": [
    "# 피쳐 별 상관관계를 heatmap으로 시각화 해준다\n",
    "# 상관 계수 값 전체를 heatmap으로 표현한다는 의미.\n",
    "plt.figure(figsize = (16,9))\n",
    "sns.heatmap(data.corr(), cmap = 'summer', annot = True, fmt = '0.1f')"
   ]
  },
  {
   "cell_type": "markdown",
   "id": "623a0b83-b8ef-4ef9-916b-87266b5a8a25",
   "metadata": {},
   "source": [
    "위의 Heatmap으로 알 수 있는 건 ?\n",
    "- \n",
    "data['medv'] 랑 data['dis'] 와 data['b'] 의 상관관계가 너무 낮아서 변수추출 - PCA를 통해 1개의 새로운 변수로 합칠 예정 "
   ]
  },
  {
   "cell_type": "code",
   "execution_count": null,
   "id": "8d94294c-2d50-4219-abe5-9a8ae8e5bcf6",
   "metadata": {},
   "outputs": [],
   "source": []
  },
  {
   "cell_type": "markdown",
   "id": "4320a400-c46d-4748-8411-5bce4fb64cc3",
   "metadata": {},
   "source": [
    "# 2. Feature Extraction (변수추출)\n",
    "`PCA`를 이용하여 새로운 변수를 만들어보자."
   ]
  },
  {
   "cell_type": "code",
   "execution_count": 16,
   "id": "d7aa900a-c649-4250-b207-777dea2f72ad",
   "metadata": {},
   "outputs": [
    {
     "name": "stdout",
     "output_type": "stream",
     "text": [
      "crim\n",
      "zn\n",
      "indus\n",
      "nox\n",
      "rm\n",
      "age\n",
      "dis\n",
      "tax\n",
      "ptratio\n",
      "b\n",
      "lstat\n",
      "medv\n"
     ]
    }
   ],
   "source": [
    "for column in data.columns :\n",
    "    print(column)"
   ]
  },
  {
   "cell_type": "code",
   "execution_count": 17,
   "id": "c3778d59-32c4-41ac-ab59-a01727257001",
   "metadata": {},
   "outputs": [
    {
     "name": "stdout",
     "output_type": "stream",
     "text": [
      "-0.38830460858681143\n",
      "0.3604453424505435\n",
      "-0.48372516002837357\n",
      "-0.42732077237328264\n",
      "0.6953599470715393\n",
      "-0.37695456500459623\n",
      "0.24992873408590394\n",
      "-0.46853593356776685\n",
      "-0.5077866855375616\n",
      "0.3334608196570666\n",
      "-0.7376627261740151\n",
      "1.0\n"
     ]
    }
   ],
   "source": [
    "# 반복문으로 출력되는 값은? 각 컬럼들과 medv의 상관관계\n",
    "for column in data.columns :\n",
    "    print(data[column].corr(data['medv']))"
   ]
  },
  {
   "cell_type": "code",
   "execution_count": 18,
   "id": "5c074cc9-940f-4c21-8a83-c642e61f7883",
   "metadata": {},
   "outputs": [
    {
     "name": "stdout",
     "output_type": "stream",
     "text": [
      "crim과 medv의 상관관계 : -0.38830460858681143\n",
      "\n",
      "zn과 medv의 상관관계 : 0.3604453424505435\n",
      "\n",
      "indus과 medv의 상관관계 : -0.48372516002837357\n",
      "\n",
      "nox과 medv의 상관관계 : -0.42732077237328264\n",
      "\n",
      "rm과 medv의 상관관계 : 0.6953599470715393\n",
      "\n",
      "age과 medv의 상관관계 : -0.37695456500459623\n",
      "\n",
      "dis과 medv의 상관관계 : 0.24992873408590394\n",
      "\n",
      "tax과 medv의 상관관계 : -0.46853593356776685\n",
      "\n",
      "ptratio과 medv의 상관관계 : -0.5077866855375616\n",
      "\n",
      "b과 medv의 상관관계 : 0.3334608196570666\n",
      "\n",
      "lstat과 medv의 상관관계 : -0.7376627261740151\n",
      "\n",
      "medv과 medv의 상관관계 : 1.0\n",
      "\n"
     ]
    }
   ],
   "source": [
    "# 변수들의 상관계수를 전부 확인하고 몇개의 변수를 몇개로 줄일 것인지 확인해보자\n",
    "\n",
    "\n",
    "corr_bar = []\n",
    "for column in data.columns :\n",
    "    print(f'{column}과 medv의 상관관계 : {data[\"medv\"].corr(data[column])}\\n')\n",
    "    corr_bar.append(data['medv'].corr(data[column]))"
   ]
  },
  {
   "cell_type": "code",
   "execution_count": 19,
   "id": "cd730a37-fcb4-411e-98fa-2701a80fc83e",
   "metadata": {},
   "outputs": [
    {
     "data": {
      "text/plain": [
       "<AxesSubplot:>"
      ]
     },
     "execution_count": 19,
     "metadata": {},
     "output_type": "execute_result"
    },
    {
     "data": {
      "image/png": "[encoded data removed]",
      "text/plain": [
       "<Figure size 432x288 with 1 Axes>"
      ]
     },
     "metadata": {
      "needs_background": "light"
     },
     "output_type": "display_data"
    }
   ],
   "source": [
    "#barplot으로 수치형 피쳐별 data['medv']와의 상관관계 시각화 \n",
    "sns.barplot(data.columns, corr_bar)"
   ]
  },
  {
   "cell_type": "code",
   "execution_count": 20,
   "id": "6ed2cc43-a623-4471-982d-81ebee4866a8",
   "metadata": {},
   "outputs": [
    {
     "data": {
      "text/html": [
       "<div>\n",
       "<style scoped>\n",
       "    .dataframe tbody tr th:only-of-type {\n",
       "        vertical-align: middle;\n",
       "    }\n",
       "\n",
       "    .dataframe tbody tr th {\n",
       "        vertical-align: top;\n",
       "    }\n",
       "\n",
       "    .dataframe thead th {\n",
       "        text-align: right;\n",
       "    }\n",
       "</style>\n",
       "<table border=\"1\" class=\"dataframe\">\n",
       "  <thead>\n",
       "    <tr style=\"text-align: right;\">\n",
       "      <th></th>\n",
       "      <th>dis</th>\n",
       "      <th>b</th>\n",
       "    </tr>\n",
       "  </thead>\n",
       "  <tbody>\n",
       "    <tr>\n",
       "      <th>110</th>\n",
       "      <td>2.7778</td>\n",
       "      <td>393.49</td>\n",
       "    </tr>\n",
       "    <tr>\n",
       "      <th>421</th>\n",
       "      <td>1.8746</td>\n",
       "      <td>319.98</td>\n",
       "    </tr>\n",
       "  </tbody>\n",
       "</table>\n",
       "</div>"
      ],
      "text/plain": [
       "        dis       b\n",
       "110  2.7778  393.49\n",
       "421  1.8746  319.98"
      ]
     },
     "execution_count": 20,
     "metadata": {},
     "output_type": "execute_result"
    }
   ],
   "source": [
    "#data['dis'] & data['b'] -> 수치형 데이터 중 비교적 상관관계가 낮은 두개의 변수를 선택\n",
    "x = data[['dis','b']]\n",
    "x.sample(2)"
   ]
  },
  {
   "cell_type": "code",
   "execution_count": 21,
   "id": "e67db58c-a100-47ea-bcce-f90c3536198d",
   "metadata": {},
   "outputs": [],
   "source": [
    "#pca를 위한 라이브러리 불러오기 -> sklearn\n",
    "\n",
    "from sklearn.decomposition import PCA"
   ]
  },
  {
   "cell_type": "code",
   "execution_count": null,
   "id": "f6648b22-1c1a-4d65-a84a-d966f0675943",
   "metadata": {},
   "outputs": [],
   "source": []
  },
  {
   "cell_type": "markdown",
   "id": "1f413ffd-2fc0-42fa-bd62-552d795186e4",
   "metadata": {},
   "source": [
    "## 2.1 PCA"
   ]
  },
  {
   "cell_type": "markdown",
   "id": "f53f8d55-fe13-49c8-b8c0-45e4c55cd6fb",
   "metadata": {},
   "source": [
    "#### `PCA(n_components)`\n",
    "\n",
    "- n_components : 몇가지의 변수를 만들지 개수를 정합니다.\n",
    "- 객체를 생성하는 개념\n",
    "\n",
    "#### `PCA.fit(x)`\n",
    "\n",
    "- x의 데이터를 학습시킴으로써 앞에서 생성한 객체가 데이터를 공부하는 개념\n",
    "\n",
    "#### `PCA.components_`\n",
    "\n",
    "- 앞서 학습한 내용을 바탕으로 만들어진 변수속에 담긴 이 전 변수의 분산이 담김 정도\n",
    "\n",
    "#### `PCA.explained_variance_ratio_`\n",
    "\n",
    "- 새로운 변수가 설명하는 분산의 비율\n",
    "\n",
    "#### `PCA.fit_transform`\n",
    "\n",
    "- 학습한 내용을 바탕으로 만들어진 학습기로 x의 데이터를 변환"
   ]
  },
  {
   "cell_type": "code",
   "execution_count": null,
   "id": "f568edd8-c1b4-42f0-b211-0d49d68e60ab",
   "metadata": {},
   "outputs": [],
   "source": []
  },
  {
   "cell_type": "markdown",
   "id": "d6863551-c122-4c1b-b5ed-0b41dba66c6a",
   "metadata": {
    "tags": []
   },
   "source": [
    "#### 2.1.1 객체생성  \n",
    "\n",
    "p c a = P C A ( n _ c o m p o n e n t s = ? ) "
   ]
  },
  {
   "cell_type": "code",
   "execution_count": 22,
   "id": "502f3fd8-075c-4cec-a97e-964bf621288f",
   "metadata": {},
   "outputs": [],
   "source": [
    "# 2개의 변수를 조합하여 1개의 변수를 만들어보자 \n",
    "pca = PCA(n_components = 1)"
   ]
  },
  {
   "cell_type": "code",
   "execution_count": null,
   "id": "a1327c31-7fda-4126-975a-fa2213971f4a",
   "metadata": {},
   "outputs": [],
   "source": []
  },
  {
   "cell_type": "markdown",
   "id": "7492b714-432a-47d0-b6a7-9f472273cb8a",
   "metadata": {},
   "source": [
    "#### 2.1.2 데이터학습\n",
    "\n",
    "P C A . f i t ( x )\n",
    "\n",
    "x는 상관계수가 낮은 컬럼들을 합친 서브셋을 변수로 지정한거라고 보면 됨 "
   ]
  },
  {
   "cell_type": "code",
   "execution_count": 23,
   "id": "c5a41262-50d3-4581-9fa6-9dadeacd7d16",
   "metadata": {},
   "outputs": [
    {
     "data": {
      "text/plain": [
       "PCA(n_components=1)"
      ]
     },
     "execution_count": 23,
     "metadata": {},
     "output_type": "execute_result"
    }
   ],
   "source": [
    "# pca에 아까 만든 피쳐 2개의 조합 변수 x를 할당해 데이터를 학습시킨다.\n",
    "pca.fit(x)"
   ]
  },
  {
   "cell_type": "markdown",
   "id": "1de64b80-00f8-4ca9-88eb-3bd341e0ecf5",
   "metadata": {},
   "source": [
    "#### 2.1.3 변수의 분산 확인\n",
    "\n",
    "P C A . c o m p o n e n t s _"
   ]
  },
  {
   "cell_type": "code",
   "execution_count": 24,
   "id": "7b8bfd14-9418-4eca-a454-677526d195d4",
   "metadata": {},
   "outputs": [],
   "source": [
    "# x = data[['dis','b']]을 학습시켜 PC1이라는 하나의 새로운 변수로 만듬"
   ]
  },
  {
   "cell_type": "code",
   "execution_count": 25,
   "id": "a432844b-aa5a-48ed-b14f-63804d6675e3",
   "metadata": {},
   "outputs": [
    {
     "data": {
      "text/plain": [
       "array([[-0.00672682, -0.99997737]])"
      ]
     },
     "execution_count": 25,
     "metadata": {},
     "output_type": "execute_result"
    }
   ],
   "source": [
    "#새로운 변수에 담긴 각 변수의 분산을 확인 할 수 있다. \n",
    "pca.components_"
   ]
  },
  {
   "cell_type": "markdown",
   "id": "461537bf-8d4d-478a-a736-c764f4fb724f",
   "metadata": {},
   "source": [
    "array([[-0.00672682, -0.99997737]]) 가 의미하는 건 ...\n",
    "- dis 와 b 각각의 분산이 담긴 비율"
   ]
  },
  {
   "cell_type": "code",
   "execution_count": 26,
   "id": "9359fc1a-ae72-4b91-aa5a-d6a6e02331ab",
   "metadata": {},
   "outputs": [
    {
     "data": {
      "text/html": [
       "<div>\n",
       "<style scoped>\n",
       "    .dataframe tbody tr th:only-of-type {\n",
       "        vertical-align: middle;\n",
       "    }\n",
       "\n",
       "    .dataframe tbody tr th {\n",
       "        vertical-align: top;\n",
       "    }\n",
       "\n",
       "    .dataframe thead th {\n",
       "        text-align: right;\n",
       "    }\n",
       "</style>\n",
       "<table border=\"1\" class=\"dataframe\">\n",
       "  <thead>\n",
       "    <tr style=\"text-align: right;\">\n",
       "      <th></th>\n",
       "      <th>dis</th>\n",
       "      <th>b</th>\n",
       "    </tr>\n",
       "  </thead>\n",
       "  <tbody>\n",
       "    <tr>\n",
       "      <th>0</th>\n",
       "      <td>4.0900</td>\n",
       "      <td>396.90</td>\n",
       "    </tr>\n",
       "    <tr>\n",
       "      <th>1</th>\n",
       "      <td>4.9671</td>\n",
       "      <td>396.90</td>\n",
       "    </tr>\n",
       "    <tr>\n",
       "      <th>2</th>\n",
       "      <td>4.9671</td>\n",
       "      <td>392.83</td>\n",
       "    </tr>\n",
       "    <tr>\n",
       "      <th>3</th>\n",
       "      <td>6.0622</td>\n",
       "      <td>394.63</td>\n",
       "    </tr>\n",
       "    <tr>\n",
       "      <th>4</th>\n",
       "      <td>6.0622</td>\n",
       "      <td>396.90</td>\n",
       "    </tr>\n",
       "  </tbody>\n",
       "</table>\n",
       "</div>"
      ],
      "text/plain": [
       "      dis       b\n",
       "0  4.0900  396.90\n",
       "1  4.9671  396.90\n",
       "2  4.9671  392.83\n",
       "3  6.0622  394.63\n",
       "4  6.0622  396.90"
      ]
     },
     "execution_count": 26,
     "metadata": {},
     "output_type": "execute_result"
    }
   ],
   "source": [
    "x.head()"
   ]
  },
  {
   "cell_type": "code",
   "execution_count": null,
   "id": "56dd470e-5f24-486e-b933-7859e6ce765c",
   "metadata": {},
   "outputs": [],
   "source": []
  },
  {
   "cell_type": "markdown",
   "id": "5bc1d7c7-270f-489a-8c33-d58b99ecdc2a",
   "metadata": {},
   "source": [
    "#### 2.1.3 변수의 분산 확인\n",
    "\n",
    "P C A . e x p l a i n e d _ v a r i a n c e _ r a t i o _"
   ]
  },
  {
   "cell_type": "code",
   "execution_count": 27,
   "id": "68cb214a-e952-4984-be3e-83e2f59798d2",
   "metadata": {},
   "outputs": [
    {
     "data": {
      "text/plain": [
       "array([0.9995135])"
      ]
     },
     "execution_count": 27,
     "metadata": {},
     "output_type": "execute_result"
    }
   ],
   "source": [
    "# 새로운 변수 PC1이 설명하는 분산의 비율\n",
    "pca.explained_variance_ratio_"
   ]
  },
  {
   "cell_type": "markdown",
   "id": "896b5e57-23d0-40ab-8563-2b510dde42aa",
   "metadata": {},
   "source": [
    "#### 2.1.4 변수를 데이터로 변환\n",
    "P C A . t r a n s f o r m"
   ]
  },
  {
   "cell_type": "markdown",
   "id": "d3456bd3-8aec-45c5-9fbf-43a825b344c4",
   "metadata": {},
   "source": [
    "d f [ ' 새 로 운 컬 럼 ' ] = p c a . t r a n s f o r m ( x ) \n",
    "\n",
    "\n",
    "- 위에서 fit 학습시킨 내용을 바탕으로 transform 함수를 실행한다"
   ]
  },
  {
   "cell_type": "markdown",
   "id": "971a29fb-814e-4665-944e-7d1b7a8cc238",
   "metadata": {},
   "source": [
    "d f [ ' 새 로 운 컬 럼 ' ] = p c a . f i t _ t r a n s f o r m ( x ) \n",
    "\n",
    "- 학습과 변환을 동시에 진행한다"
   ]
  },
  {
   "cell_type": "code",
   "execution_count": 28,
   "id": "2f2344d5-a8f4-47cb-9d39-b3275a7f147d",
   "metadata": {},
   "outputs": [],
   "source": [
    "#새로운 변수 PC1을 data['pc1'] 이라는 새로운 컬럼으로 추가해주자\n",
    "data['pc1'] = pca.fit_transform(x)"
   ]
  },
  {
   "cell_type": "code",
   "execution_count": 29,
   "id": "c0e34091-00f5-4932-8a15-030a413661e3",
   "metadata": {},
   "outputs": [
    {
     "data": {
      "text/plain": [
       "<seaborn.axisgrid.JointGrid at 0x2052c4b1b80>"
      ]
     },
     "execution_count": 29,
     "metadata": {},
     "output_type": "execute_result"
    },
    {
     "data": {
      "image/png": "[encoded data removed]",
      "text/plain": [
       "<Figure size 432x432 with 3 Axes>"
      ]
     },
     "metadata": {
      "needs_background": "light"
     },
     "output_type": "display_data"
    }
   ],
   "source": [
    "# data['pc1'] 과 data['medv']의 상관관계 확인해보기\n",
    "sns.jointplot(data = data, x = 'pc1', y = 'medv', kind = 'reg')"
   ]
  },
  {
   "cell_type": "code",
   "execution_count": 30,
   "id": "0fe5f2cf-93e2-4840-a41a-405d6db0cb74",
   "metadata": {},
   "outputs": [
    {
     "data": {
      "text/plain": [
       "-0.3334845106741897"
      ]
     },
     "execution_count": 30,
     "metadata": {},
     "output_type": "execute_result"
    }
   ],
   "source": [
    "# data['pc1'] 과 data['medv']의 상관계수\n",
    "data['pc1'].corr(data['medv'])"
   ]
  },
  {
   "cell_type": "markdown",
   "id": "a95bf0d4-039e-4e14-bb47-f98faa655380",
   "metadata": {
    "tags": []
   },
   "source": [
    "##### 상관계수 해설 \n",
    "\n",
    "-0.3334845106741897이 나온 이유는?\n",
    "\n",
    "두 변수 (dis와 b)를 합친 pc1 이라는 새로운 변수를, \n",
    "array에 나열된 비율로 합칠거임\n",
    "array([[-0.00672682, -0.99997737]])\n",
    "\n",
    "        dis     ,    b \n",
    "\n",
    "\n",
    "즉 b의 비율이 99%로 담겼음\n",
    "\n",
    "dis과 medv 의 상관관계 : 0.24992873408590394\n",
    "\n",
    "b과 medv 의 상관관계 : 0.3334608196570666\n",
    "\n",
    "※ 그래서 상관계수가 b와 medv의 상관관계값과 유사하게 출력된것임\n",
    "\n",
    "b(흑인)비율을 조절하기 위해 ★정규화★ 작업 진행할거임\n"
   ]
  },
  {
   "cell_type": "code",
   "execution_count": null,
   "id": "3ea2ebed-f8bd-4a32-96a5-d8676aeda61a",
   "metadata": {},
   "outputs": [],
   "source": []
  },
  {
   "cell_type": "markdown",
   "id": "758cb721-b28b-4437-9066-17aaf6666a42",
   "metadata": {},
   "source": [
    "## 2.2 정규화\n",
    "`정규화`를 진행하기 전과 진행한 후의 결과 차이를 보며 정규화를 왜 해야하는지 알아봅시다.\n",
    "\n",
    "#### `StandardScaler()`\n",
    "\n",
    "- 정규화 객체 생성\n",
    "\n",
    "#### `scaler.fit(x)`\n",
    "\n",
    "- 정규화 객체로 학습\n",
    "\n",
    "#### `scaler.transform(x)`\n",
    "\n",
    "- 학습된 학습기로 변수 x의 데이터를 변환"
   ]
  },
  {
   "cell_type": "code",
   "execution_count": null,
   "id": "7cfacb37-f79b-4cdd-8860-fc43fbf455dc",
   "metadata": {},
   "outputs": [],
   "source": []
  },
  {
   "cell_type": "code",
   "execution_count": 31,
   "id": "4dca3b0f-36a2-4de9-846f-0f598fcf61f2",
   "metadata": {},
   "outputs": [],
   "source": [
    "# 정규화에 필요한 라이브러리 로드 \n",
    "\n",
    "from sklearn.preprocessing import StandardScaler"
   ]
  },
  {
   "cell_type": "code",
   "execution_count": null,
   "id": "7aa22f40-a82a-4355-bd33-a2a882d97f20",
   "metadata": {},
   "outputs": [],
   "source": []
  },
  {
   "cell_type": "markdown",
   "id": "83160f25-e519-4497-83f9-446bd817860e",
   "metadata": {},
   "source": [
    "1. `StandardScaler()`"
   ]
  },
  {
   "cell_type": "code",
   "execution_count": 32,
   "id": "3b94d066-fad8-4812-8630-d87aeaa94b61",
   "metadata": {},
   "outputs": [],
   "source": [
    "# 정규화 객체를 만들어 줍니다 \n",
    "scaler = StandardScaler()"
   ]
  },
  {
   "cell_type": "code",
   "execution_count": null,
   "id": "99343c6a-6640-4023-bab6-763dd9f1c7b8",
   "metadata": {},
   "outputs": [],
   "source": []
  },
  {
   "cell_type": "markdown",
   "id": "cb898130-ec3b-4ff0-9daf-d7269ad177e6",
   "metadata": {},
   "source": [
    "2. `scaler.fit(x)`"
   ]
  },
  {
   "cell_type": "code",
   "execution_count": 33,
   "id": "e5b8b96d-ce31-44c6-81d6-8c5df0a72ff0",
   "metadata": {},
   "outputs": [
    {
     "data": {
      "text/plain": [
       "StandardScaler()"
      ]
     },
     "execution_count": 33,
     "metadata": {},
     "output_type": "execute_result"
    }
   ],
   "source": [
    "# x를 학습 시킨 후 변형하여 정규화 된 x로 만들어 준다 \n",
    "scaler.fit(x)"
   ]
  },
  {
   "cell_type": "code",
   "execution_count": null,
   "id": "2baee86a-839a-44bd-9900-736b4794ef6d",
   "metadata": {},
   "outputs": [],
   "source": []
  },
  {
   "cell_type": "markdown",
   "id": "b9750421-ade3-4e20-a7e5-8dc562932207",
   "metadata": {},
   "source": [
    "3. `scaler.transform(x)`"
   ]
  },
  {
   "cell_type": "code",
   "execution_count": 34,
   "id": "2fe0d2ad-e745-4ef3-a04e-093aa4ed876a",
   "metadata": {},
   "outputs": [],
   "source": [
    "scaler_x = scaler.transform(x)"
   ]
  },
  {
   "cell_type": "code",
   "execution_count": 35,
   "id": "6c46ccdc-ed60-41aa-b5ed-91cf9b4a7638",
   "metadata": {},
   "outputs": [
    {
     "data": {
      "text/plain": [
       "array([[ 0.1402136 ,  0.44105193],\n",
       "       [ 0.55715988,  0.44105193],\n",
       "       [ 0.55715988,  0.39642699],\n",
       "       ...,\n",
       "       [-0.77368357,  0.44105193],\n",
       "       [-0.66843684,  0.4032249 ],\n",
       "       [-0.61324648,  0.44105193]])"
      ]
     },
     "execution_count": 35,
     "metadata": {},
     "output_type": "execute_result"
    }
   ],
   "source": [
    "scaler_x  # 변형된 데이터들을 의미"
   ]
  },
  {
   "cell_type": "code",
   "execution_count": null,
   "id": "9c959476-3b80-40f4-9100-a19cd2ff7992",
   "metadata": {},
   "outputs": [],
   "source": []
  },
  {
   "cell_type": "markdown",
   "id": "8f17c61a-a14c-466b-bb7c-9b4e517627df",
   "metadata": {},
   "source": [
    "#### `PCA와 동일한 반복작업 수행`\n"
   ]
  },
  {
   "cell_type": "code",
   "execution_count": 36,
   "id": "c0c44ad3-d977-4e83-b34d-f10ad795f3c5",
   "metadata": {},
   "outputs": [
    {
     "data": {
      "text/plain": [
       "array([[-0.70710678, -0.70710678]])"
      ]
     },
     "execution_count": 36,
     "metadata": {},
     "output_type": "execute_result"
    }
   ],
   "source": [
    "#PCA의 갯수 찾기 \n",
    "pca = PCA(n_components = 1)\n",
    "\n",
    "#데이터 학습\n",
    "pca.fit(scaler_x)\n",
    "\n",
    "# 새로운 변수에 담긴 각 변수의 분산을 확인\n",
    "# 위와 달라진 분산의 정도를 확인할 수 있습니다.\n",
    "pca.components_"
   ]
  },
  {
   "cell_type": "markdown",
   "id": "b3b0462c-bff1-463b-87a5-93956a67a54c",
   "metadata": {},
   "source": [
    "array([[-0.00672682, -0.99997737]])\n",
    "\n",
    "          dis     ,    b \n",
    "          \n",
    "두 변수가 같은 비율로 변경됨"
   ]
  },
  {
   "cell_type": "code",
   "execution_count": 37,
   "id": "bf53f4e8-f992-4340-a97e-72dfdaa33763",
   "metadata": {},
   "outputs": [
    {
     "data": {
      "text/plain": [
       "array([0.64575584])"
      ]
     },
     "execution_count": 37,
     "metadata": {},
     "output_type": "execute_result"
    }
   ],
   "source": [
    "# 새로운 변수 PC1이 설명하는 분산의 비율입니다.\n",
    "pca.explained_variance_ratio_"
   ]
  },
  {
   "cell_type": "markdown",
   "id": "d0ded6ad-ab69-483c-8429-c3cd4dd5a94b",
   "metadata": {},
   "source": [
    "비율이 0.64 정도로 낮아짐 \n",
    "\n",
    "정규화 이전 PC1의 비율은 0.99 "
   ]
  },
  {
   "cell_type": "code",
   "execution_count": 38,
   "id": "b60ba0e0-ee28-43f2-b515-b25937cbb0b8",
   "metadata": {},
   "outputs": [],
   "source": [
    "# 위와 같이 pc1의 컬럼에 데이터를 넣어봅시다.\n",
    "data['pc1'] = pca.fit_transform(scaler_x)"
   ]
  },
  {
   "cell_type": "code",
   "execution_count": 42,
   "id": "f3985c7b-d4c5-48fe-9b79-1fe5a937ca4c",
   "metadata": {},
   "outputs": [
    {
     "data": {
      "text/html": [
       "<div>\n",
       "<style scoped>\n",
       "    .dataframe tbody tr th:only-of-type {\n",
       "        vertical-align: middle;\n",
       "    }\n",
       "\n",
       "    .dataframe tbody tr th {\n",
       "        vertical-align: top;\n",
       "    }\n",
       "\n",
       "    .dataframe thead th {\n",
       "        text-align: right;\n",
       "    }\n",
       "</style>\n",
       "<table border=\"1\" class=\"dataframe\">\n",
       "  <thead>\n",
       "    <tr style=\"text-align: right;\">\n",
       "      <th></th>\n",
       "      <th>crim</th>\n",
       "      <th>zn</th>\n",
       "      <th>indus</th>\n",
       "      <th>nox</th>\n",
       "      <th>rm</th>\n",
       "      <th>age</th>\n",
       "      <th>dis</th>\n",
       "      <th>tax</th>\n",
       "      <th>ptratio</th>\n",
       "      <th>b</th>\n",
       "      <th>lstat</th>\n",
       "      <th>medv</th>\n",
       "      <th>pc1</th>\n",
       "    </tr>\n",
       "  </thead>\n",
       "  <tbody>\n",
       "    <tr>\n",
       "      <th>0</th>\n",
       "      <td>0.00632</td>\n",
       "      <td>18.0</td>\n",
       "      <td>2.31</td>\n",
       "      <td>0.538</td>\n",
       "      <td>6.575</td>\n",
       "      <td>65.2</td>\n",
       "      <td>4.0900</td>\n",
       "      <td>296.0</td>\n",
       "      <td>15.3</td>\n",
       "      <td>396.90</td>\n",
       "      <td>4.98</td>\n",
       "      <td>24.0</td>\n",
       "      <td>-0.411017</td>\n",
       "    </tr>\n",
       "    <tr>\n",
       "      <th>1</th>\n",
       "      <td>0.02731</td>\n",
       "      <td>0.0</td>\n",
       "      <td>7.07</td>\n",
       "      <td>0.469</td>\n",
       "      <td>6.421</td>\n",
       "      <td>78.9</td>\n",
       "      <td>4.9671</td>\n",
       "      <td>242.0</td>\n",
       "      <td>17.8</td>\n",
       "      <td>396.90</td>\n",
       "      <td>9.14</td>\n",
       "      <td>21.6</td>\n",
       "      <td>-0.705842</td>\n",
       "    </tr>\n",
       "    <tr>\n",
       "      <th>2</th>\n",
       "      <td>0.02729</td>\n",
       "      <td>0.0</td>\n",
       "      <td>7.07</td>\n",
       "      <td>0.469</td>\n",
       "      <td>7.185</td>\n",
       "      <td>61.1</td>\n",
       "      <td>4.9671</td>\n",
       "      <td>242.0</td>\n",
       "      <td>17.8</td>\n",
       "      <td>392.83</td>\n",
       "      <td>4.03</td>\n",
       "      <td>34.7</td>\n",
       "      <td>-0.674288</td>\n",
       "    </tr>\n",
       "    <tr>\n",
       "      <th>3</th>\n",
       "      <td>0.03237</td>\n",
       "      <td>0.0</td>\n",
       "      <td>2.18</td>\n",
       "      <td>0.458</td>\n",
       "      <td>6.998</td>\n",
       "      <td>45.8</td>\n",
       "      <td>6.0622</td>\n",
       "      <td>222.0</td>\n",
       "      <td>18.7</td>\n",
       "      <td>394.63</td>\n",
       "      <td>2.94</td>\n",
       "      <td>33.4</td>\n",
       "      <td>-1.056346</td>\n",
       "    </tr>\n",
       "    <tr>\n",
       "      <th>4</th>\n",
       "      <td>0.06905</td>\n",
       "      <td>0.0</td>\n",
       "      <td>2.18</td>\n",
       "      <td>0.458</td>\n",
       "      <td>7.147</td>\n",
       "      <td>54.2</td>\n",
       "      <td>6.0622</td>\n",
       "      <td>222.0</td>\n",
       "      <td>18.7</td>\n",
       "      <td>396.90</td>\n",
       "      <td>5.33</td>\n",
       "      <td>36.2</td>\n",
       "      <td>-1.073946</td>\n",
       "    </tr>\n",
       "  </tbody>\n",
       "</table>\n",
       "</div>"
      ],
      "text/plain": [
       "      crim    zn  indus    nox     rm   age     dis    tax  ptratio       b  \\\n",
       "0  0.00632  18.0   2.31  0.538  6.575  65.2  4.0900  296.0     15.3  396.90   \n",
       "1  0.02731   0.0   7.07  0.469  6.421  78.9  4.9671  242.0     17.8  396.90   \n",
       "2  0.02729   0.0   7.07  0.469  7.185  61.1  4.9671  242.0     17.8  392.83   \n",
       "3  0.03237   0.0   2.18  0.458  6.998  45.8  6.0622  222.0     18.7  394.63   \n",
       "4  0.06905   0.0   2.18  0.458  7.147  54.2  6.0622  222.0     18.7  396.90   \n",
       "\n",
       "   lstat  medv       pc1  \n",
       "0   4.98  24.0 -0.411017  \n",
       "1   9.14  21.6 -0.705842  \n",
       "2   4.03  34.7 -0.674288  \n",
       "3   2.94  33.4 -1.056346  \n",
       "4   5.33  36.2 -1.073946  "
      ]
     },
     "execution_count": 42,
     "metadata": {},
     "output_type": "execute_result"
    }
   ],
   "source": [
    "data.head()"
   ]
  },
  {
   "cell_type": "markdown",
   "id": "831eebab-fa86-4d85-b815-2a4f0036a082",
   "metadata": {},
   "source": [
    "정규화 이전 pc1 컬럼의 데이터와 비교해보면 수치가 변함"
   ]
  },
  {
   "cell_type": "code",
   "execution_count": 39,
   "id": "041b76c3-5a02-40ba-9cc2-49e475ca805c",
   "metadata": {},
   "outputs": [
    {
     "data": {
      "text/plain": [
       "<seaborn.axisgrid.JointGrid at 0x2052c6ac940>"
      ]
     },
     "execution_count": 39,
     "metadata": {},
     "output_type": "execute_result"
    },
    {
     "data": {
      "image/png": "[encoded data removed]",
      "text/plain": [
       "<Figure size 432x432 with 3 Axes>"
      ]
     },
     "metadata": {
      "needs_background": "light"
     },
     "output_type": "display_data"
    }
   ],
   "source": [
    "sns.jointplot(data=data, x = 'pc1', y='medv', kind='reg')"
   ]
  },
  {
   "cell_type": "code",
   "execution_count": 40,
   "id": "7cf562b9-bea4-417b-8c24-d04c7bd047e3",
   "metadata": {},
   "outputs": [
    {
     "data": {
      "text/plain": [
       "-0.36298985100090203"
      ]
     },
     "execution_count": 40,
     "metadata": {},
     "output_type": "execute_result"
    }
   ],
   "source": [
    "data['pc1'].corr(data['medv'])"
   ]
  },
  {
   "cell_type": "code",
   "execution_count": 43,
   "id": "1cc0e7b6-5242-4beb-b12a-0c43d62a2d7e",
   "metadata": {},
   "outputs": [
    {
     "data": {
      "text/plain": [
       "0.3334608196570666"
      ]
     },
     "execution_count": 43,
     "metadata": {},
     "output_type": "execute_result"
    }
   ],
   "source": [
    "data['b'].corr(data['medv'])"
   ]
  },
  {
   "cell_type": "markdown",
   "id": "ee33bf57-4086-4ef7-87da-5ce44f37cfac",
   "metadata": {},
   "source": [
    "pc1이 b보다 상관성이 조금 높아진 것을 알 수 있다. "
   ]
  },
  {
   "cell_type": "code",
   "execution_count": 41,
   "id": "e173c8ae-f20e-48df-b6a8-4ddb3ee983e3",
   "metadata": {},
   "outputs": [
    {
     "data": {
      "text/plain": [
       "<AxesSubplot:xlabel='b', ylabel='Density'>"
      ]
     },
     "execution_count": 41,
     "metadata": {},
     "output_type": "execute_result"
    },
    {
     "data": {
      "image/png": "[encoded data removed]",
      "text/plain": [
       "<Figure size 432x288 with 1 Axes>"
      ]
     },
     "metadata": {
      "needs_background": "light"
     },
     "output_type": "display_data"
    }
   ],
   "source": [
    "sns.distplot(x['b'], kde=True, rug=True)"
   ]
  }
 ],
 "metadata": {
  "kernelspec": {
   "display_name": "Python 3 (ipykernel)",
   "language": "python",
   "name": "python3"
  },
  "language_info": {
   "codemirror_mode": {
    "name": "ipython",
    "version": 3
   },
   "file_extension": ".py",
   "mimetype": "text/x-python",
   "name": "python",
   "nbconvert_exporter": "python",
   "pygments_lexer": "ipython3",
   "version": "3.9.7"
  }
 },
 "nbformat": 4,
 "nbformat_minor": 5
}
