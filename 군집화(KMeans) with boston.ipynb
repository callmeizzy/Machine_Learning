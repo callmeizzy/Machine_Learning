{
 "cells": [
  {
   "cell_type": "markdown",
   "id": "dee3d107-4da2-44f8-888c-9148abaaa378",
   "metadata": {},
   "source": [
    "# 군집화 (클러스터링)\n",
    "\n",
    "- 비슷한 성향을 가진 그룹을 찾을 수 있음 \n",
    "- 우리는 그 중 군집화의 알고리즘 K-Means를 사용하겠다"
   ]
  },
  {
   "cell_type": "markdown",
   "id": "983a6620-2caa-4f6b-afc1-bba4d51dd50e",
   "metadata": {},
   "source": [
    "## K-Means 특징\n",
    "\n",
    "- 전체 data를 k개로 군집화 하겠다는 뜻 \n",
    "- 거리를 이용한 분류 / 연속형 범주에 적합한 모델\n",
    "- 반복된 작업을 수행 (euclidian 거리기법)\n",
    "- 짧은 계산 시간\n",
    "- 주어진 자료에 대한 사전정보 없이 의미있는 자료구조 찾기 가능\n",
    "- 범주형(카테고리형) 변수를 다룰 경우 주의 "
   ]
  },
  {
   "cell_type": "markdown",
   "id": "2ae7e00d-6483-4cc4-949b-ed5e6fd22034",
   "metadata": {},
   "source": [
    "## K-Means 순서"
   ]
  },
  {
   "cell_type": "markdown",
   "id": "b889fa3c-0c41-4e06-9586-436d92e952d7",
   "metadata": {
    "jp-MarkdownHeadingCollapsed": true,
    "tags": []
   },
   "source": [
    "### KMeans(n_cluster = k)\n",
    "\n",
    "- 주어진 값들 사이의 거리 혹은 유사성을 이용하여 분류\n",
    "- 전체 데이터를 k개의 집단으로 그룹화\n",
    "- 데이터를 기준점 중심으로 euclidian 거리가 최소가 되도록 k개의 그룹으로 군집\n",
    "- 군집 별 중심 값에서 중심과의 거리를 기반으로 데이터를 분류하는 군집기법 "
   ]
  },
  {
   "cell_type": "markdown",
   "id": "81c5b342-642c-4877-8395-3e6e9f75570f",
   "metadata": {},
   "source": [
    "### Kmeans.fit()\n",
    "\n",
    "- 학습시키기"
   ]
  },
  {
   "cell_type": "markdown",
   "id": "083d6e41-9130-4a84-8202-947ab278cd04",
   "metadata": {},
   "source": [
    "### KMeans.inertia_\n",
    "\n",
    "- 학습된 KMeans의 응집도를 확인\n",
    "- 응집도란 각 데이터로부터 자신이 속한 군집의 중심까지의 거리를 의미\n",
    "- 즉, 낮을수록 군집화가 더 잘 되어있다"
   ]
  },
  {
   "cell_type": "markdown",
   "id": "e0596eea-42d7-45ac-afd4-7a9bb1185146",
   "metadata": {},
   "source": [
    "### KMeans.predict(data)\n",
    "\n",
    "- 학습된 데이터를 바탕으로 데이터를 변환시켜줌"
   ]
  },
  {
   "cell_type": "code",
   "execution_count": null,
   "id": "6ad5093d-db10-4448-92bc-8a163328f1cd",
   "metadata": {},
   "outputs": [],
   "source": []
  },
  {
   "cell_type": "markdown",
   "id": "90fec5fb-fc5d-4b16-ace9-d5e8df17374d",
   "metadata": {},
   "source": [
    "# 필요 라이브러리 불러오기 "
   ]
  },
  {
   "cell_type": "code",
   "execution_count": 1,
   "id": "362cc84d-e52e-43b3-bd74-ba03a678b538",
   "metadata": {},
   "outputs": [],
   "source": [
    "import pandas as pd\n",
    "import matplotlib.pyplot as plt\n",
    "import seaborn as sns"
   ]
  },
  {
   "cell_type": "code",
   "execution_count": 2,
   "id": "ca237185-251e-4778-874e-0b44e7698c20",
   "metadata": {},
   "outputs": [],
   "source": [
    "import warnings\n",
    "\n",
    "# 경고 메시지를 무시하고 숨기거나\n",
    "warnings.filterwarnings(action='ignore')"
   ]
  },
  {
   "cell_type": "code",
   "execution_count": null,
   "id": "75c850ee-788c-4602-86d3-0e819f821ad6",
   "metadata": {},
   "outputs": [],
   "source": []
  },
  {
   "cell_type": "markdown",
   "id": "8f40ae12-4e2e-4259-a320-2d7e1c3dc891",
   "metadata": {},
   "source": [
    "# 데이터 불러오기"
   ]
  },
  {
   "cell_type": "code",
   "execution_count": 3,
   "id": "6985722e-3839-49a3-966a-a2e5b691a2e9",
   "metadata": {},
   "outputs": [],
   "source": [
    "import glob"
   ]
  },
  {
   "cell_type": "code",
   "execution_count": 4,
   "id": "4ff9db02-16f2-4187-85c7-3abd2e6b0abd",
   "metadata": {},
   "outputs": [
    {
     "data": {
      "text/plain": [
       "['data\\\\boston.csv']"
      ]
     },
     "execution_count": 4,
     "metadata": {},
     "output_type": "execute_result"
    }
   ],
   "source": [
    "path = glob.glob('data/*.csv')\n",
    "path"
   ]
  },
  {
   "cell_type": "code",
   "execution_count": 5,
   "id": "fc05e558-55f8-4ff0-9a69-33f20d05f92d",
   "metadata": {},
   "outputs": [],
   "source": [
    "data = pd.read_csv(path[0])"
   ]
  },
  {
   "cell_type": "code",
   "execution_count": 6,
   "id": "86868c32-032a-4f2a-9a81-085aabb4c1f4",
   "metadata": {},
   "outputs": [
    {
     "data": {
      "text/html": [
       "<div>\n",
       "<style scoped>\n",
       "    .dataframe tbody tr th:only-of-type {\n",
       "        vertical-align: middle;\n",
       "    }\n",
       "\n",
       "    .dataframe tbody tr th {\n",
       "        vertical-align: top;\n",
       "    }\n",
       "\n",
       "    .dataframe thead th {\n",
       "        text-align: right;\n",
       "    }\n",
       "</style>\n",
       "<table border=\"1\" class=\"dataframe\">\n",
       "  <thead>\n",
       "    <tr style=\"text-align: right;\">\n",
       "      <th></th>\n",
       "      <th>crim</th>\n",
       "      <th>zn</th>\n",
       "      <th>indus</th>\n",
       "      <th>chas</th>\n",
       "      <th>nox</th>\n",
       "      <th>rm</th>\n",
       "      <th>age</th>\n",
       "      <th>dis</th>\n",
       "      <th>rad</th>\n",
       "      <th>tax</th>\n",
       "      <th>ptratio</th>\n",
       "      <th>b</th>\n",
       "      <th>lstat</th>\n",
       "      <th>medv</th>\n",
       "    </tr>\n",
       "  </thead>\n",
       "  <tbody>\n",
       "    <tr>\n",
       "      <th>0</th>\n",
       "      <td>0.00632</td>\n",
       "      <td>18.0</td>\n",
       "      <td>2.31</td>\n",
       "      <td>0.0</td>\n",
       "      <td>0.538</td>\n",
       "      <td>6.575</td>\n",
       "      <td>65.2</td>\n",
       "      <td>4.0900</td>\n",
       "      <td>1.0</td>\n",
       "      <td>296.0</td>\n",
       "      <td>15.3</td>\n",
       "      <td>396.90</td>\n",
       "      <td>4.98</td>\n",
       "      <td>24.0</td>\n",
       "    </tr>\n",
       "    <tr>\n",
       "      <th>1</th>\n",
       "      <td>0.02731</td>\n",
       "      <td>0.0</td>\n",
       "      <td>7.07</td>\n",
       "      <td>0.0</td>\n",
       "      <td>0.469</td>\n",
       "      <td>6.421</td>\n",
       "      <td>78.9</td>\n",
       "      <td>4.9671</td>\n",
       "      <td>2.0</td>\n",
       "      <td>242.0</td>\n",
       "      <td>17.8</td>\n",
       "      <td>396.90</td>\n",
       "      <td>9.14</td>\n",
       "      <td>21.6</td>\n",
       "    </tr>\n",
       "    <tr>\n",
       "      <th>2</th>\n",
       "      <td>0.02729</td>\n",
       "      <td>0.0</td>\n",
       "      <td>7.07</td>\n",
       "      <td>0.0</td>\n",
       "      <td>0.469</td>\n",
       "      <td>7.185</td>\n",
       "      <td>61.1</td>\n",
       "      <td>4.9671</td>\n",
       "      <td>2.0</td>\n",
       "      <td>242.0</td>\n",
       "      <td>17.8</td>\n",
       "      <td>392.83</td>\n",
       "      <td>4.03</td>\n",
       "      <td>34.7</td>\n",
       "    </tr>\n",
       "    <tr>\n",
       "      <th>3</th>\n",
       "      <td>0.03237</td>\n",
       "      <td>0.0</td>\n",
       "      <td>2.18</td>\n",
       "      <td>0.0</td>\n",
       "      <td>0.458</td>\n",
       "      <td>6.998</td>\n",
       "      <td>45.8</td>\n",
       "      <td>6.0622</td>\n",
       "      <td>3.0</td>\n",
       "      <td>222.0</td>\n",
       "      <td>18.7</td>\n",
       "      <td>394.63</td>\n",
       "      <td>2.94</td>\n",
       "      <td>33.4</td>\n",
       "    </tr>\n",
       "    <tr>\n",
       "      <th>4</th>\n",
       "      <td>0.06905</td>\n",
       "      <td>0.0</td>\n",
       "      <td>2.18</td>\n",
       "      <td>0.0</td>\n",
       "      <td>0.458</td>\n",
       "      <td>7.147</td>\n",
       "      <td>54.2</td>\n",
       "      <td>6.0622</td>\n",
       "      <td>3.0</td>\n",
       "      <td>222.0</td>\n",
       "      <td>18.7</td>\n",
       "      <td>396.90</td>\n",
       "      <td>5.33</td>\n",
       "      <td>36.2</td>\n",
       "    </tr>\n",
       "  </tbody>\n",
       "</table>\n",
       "</div>"
      ],
      "text/plain": [
       "      crim    zn  indus  chas    nox     rm   age     dis  rad    tax  \\\n",
       "0  0.00632  18.0   2.31   0.0  0.538  6.575  65.2  4.0900  1.0  296.0   \n",
       "1  0.02731   0.0   7.07   0.0  0.469  6.421  78.9  4.9671  2.0  242.0   \n",
       "2  0.02729   0.0   7.07   0.0  0.469  7.185  61.1  4.9671  2.0  242.0   \n",
       "3  0.03237   0.0   2.18   0.0  0.458  6.998  45.8  6.0622  3.0  222.0   \n",
       "4  0.06905   0.0   2.18   0.0  0.458  7.147  54.2  6.0622  3.0  222.0   \n",
       "\n",
       "   ptratio       b  lstat  medv  \n",
       "0     15.3  396.90   4.98  24.0  \n",
       "1     17.8  396.90   9.14  21.6  \n",
       "2     17.8  392.83   4.03  34.7  \n",
       "3     18.7  394.63   2.94  33.4  \n",
       "4     18.7  396.90   5.33  36.2  "
      ]
     },
     "execution_count": 6,
     "metadata": {},
     "output_type": "execute_result"
    }
   ],
   "source": [
    "data.head()"
   ]
  },
  {
   "cell_type": "code",
   "execution_count": null,
   "id": "28394dff-82f1-4ae2-95a2-b4b5ab60ba71",
   "metadata": {},
   "outputs": [],
   "source": []
  },
  {
   "cell_type": "markdown",
   "id": "289f381e-e373-414a-a2a5-f36fe5a90a34",
   "metadata": {},
   "source": [
    "# 군집화\n",
    "\n",
    "군집화를 통해서 비슷한 성향을 가진 그룹을 찾아보자 "
   ]
  },
  {
   "cell_type": "code",
   "execution_count": 7,
   "id": "894fcddb-5584-4621-9946-8b5be4210acb",
   "metadata": {},
   "outputs": [],
   "source": [
    "#'chas'는 범주형데이터 \n",
    "# 군집화는 연속형 데이터로만 가능함 \n",
    "del data['chas'] "
   ]
  },
  {
   "cell_type": "code",
   "execution_count": 8,
   "id": "8547b96a-1c3a-40ba-8900-744e7039016e",
   "metadata": {},
   "outputs": [],
   "source": [
    "# 비교할 'medv'컬럼도 복사 후 제거하자 \n",
    "medv = data['medv'] \n",
    "del data['medv']"
   ]
  },
  {
   "cell_type": "code",
   "execution_count": 9,
   "id": "64d7b46f-cdd8-4029-b9d1-489b644a6d38",
   "metadata": {},
   "outputs": [],
   "source": [
    "# 군집화를 진행하기에 앞서 수월한 시각화 및 설명력을 첨부하기 위하여 PCA를 통해 변수를 2개로 압축해보자.\n",
    "from sklearn.preprocessing import StandardScaler\n",
    "from sklearn.decomposition import PCA"
   ]
  },
  {
   "cell_type": "markdown",
   "id": "1a245106-e12b-4b3f-a728-de2406cd2618",
   "metadata": {},
   "source": [
    "`1. StandardScaler() - 정규화 객체 생성`"
   ]
  },
  {
   "cell_type": "code",
   "execution_count": 10,
   "id": "d8c577ad-6e27-4a21-8f73-5f8b7baef6a7",
   "metadata": {},
   "outputs": [],
   "source": [
    "#정규화 진행 및 객체 생성\n",
    "scaler = StandardScaler()"
   ]
  },
  {
   "cell_type": "markdown",
   "id": "9fe3e7a4-4df6-4da2-acdc-153dae304bc5",
   "metadata": {},
   "source": [
    "`2. scaler.fit(x) - 정규화 객체로 학습`"
   ]
  },
  {
   "cell_type": "code",
   "execution_count": 11,
   "id": "c744921f-12fe-4610-8e99-eb4c1c0a4f7a",
   "metadata": {},
   "outputs": [
    {
     "data": {
      "text/plain": [
       "StandardScaler()"
      ]
     },
     "execution_count": 11,
     "metadata": {},
     "output_type": "execute_result"
    }
   ],
   "source": [
    "#데이터 학습 \n",
    "scaler.fit(data)"
   ]
  },
  {
   "cell_type": "markdown",
   "id": "723604a1-cea3-47ca-9203-9d7b6c81fb33",
   "metadata": {},
   "source": [
    "`3. scaler.transform(x) - 학습된 학습기로 변수 x의 데이터를 변환`"
   ]
  },
  {
   "cell_type": "code",
   "execution_count": 12,
   "id": "98402349-8dcc-44b9-a50b-0f59b3a775df",
   "metadata": {},
   "outputs": [],
   "source": [
    "scaler_data = scaler.transform(data)"
   ]
  },
  {
   "cell_type": "markdown",
   "id": "451fe8d6-7757-4e3c-8530-0b2a406f676a",
   "metadata": {},
   "source": [
    "`4. PCA(n_components)`\n",
    "\n",
    "- n_components : 몇가지의 변수를 만들지 개수를 정합니다. (객체를 생성하는 개념)"
   ]
  },
  {
   "cell_type": "code",
   "execution_count": 13,
   "id": "f1f7ad3a-e693-4a1e-b7b0-fba2f55cb3f8",
   "metadata": {},
   "outputs": [],
   "source": [
    "#객체생성 (2개의 객체 만들것임)\n",
    "pca = PCA(n_components = 2)"
   ]
  },
  {
   "cell_type": "markdown",
   "id": "1d96a3da-5bd3-4ccc-b906-9eca565c8283",
   "metadata": {},
   "source": [
    "`5. PCA.fit(x)`\n",
    "- x의 데이터를 학습시킴으로써 앞에서 생성한 객체가 데이터를 공부하는 개념"
   ]
  },
  {
   "cell_type": "code",
   "execution_count": 14,
   "id": "249b8a6f-6d85-4381-b9c8-4b508cdb53f4",
   "metadata": {},
   "outputs": [
    {
     "data": {
      "text/plain": [
       "PCA(n_components=2)"
      ]
     },
     "execution_count": 14,
     "metadata": {},
     "output_type": "execute_result"
    }
   ],
   "source": [
    "pca.fit(scaler_data)"
   ]
  },
  {
   "cell_type": "markdown",
   "id": "d262af83-cf5f-429f-857e-b7e41ec0a3d2",
   "metadata": {},
   "source": [
    "`6. PCA.fit_transform`\n",
    "- 학습한 내용을 바탕으로 만들어진 학습기로 x의 데이터를 변환"
   ]
  },
  {
   "cell_type": "code",
   "execution_count": 15,
   "id": "50135e70-51a0-4d87-bce6-019bf1786f3a",
   "metadata": {},
   "outputs": [
    {
     "data": {
      "text/plain": [
       "array([[-2.09723388, -0.72017904],\n",
       "       [-1.456003  , -0.94769427],\n",
       "       [-2.07345404, -0.62533575],\n",
       "       ...,\n",
       "       [-0.31128314, -1.39524641],\n",
       "       [-0.26939083, -1.35059004],\n",
       "       [-0.12452556, -1.34293829]])"
      ]
     },
     "execution_count": 15,
     "metadata": {},
     "output_type": "execute_result"
    }
   ],
   "source": [
    "pca.transform(scaler_data)"
   ]
  },
  {
   "cell_type": "code",
   "execution_count": 16,
   "id": "49c23ec4-728c-4302-9dd1-44452ac29d43",
   "metadata": {},
   "outputs": [
    {
     "data": {
      "text/html": [
       "<div>\n",
       "<style scoped>\n",
       "    .dataframe tbody tr th:only-of-type {\n",
       "        vertical-align: middle;\n",
       "    }\n",
       "\n",
       "    .dataframe tbody tr th {\n",
       "        vertical-align: top;\n",
       "    }\n",
       "\n",
       "    .dataframe thead th {\n",
       "        text-align: right;\n",
       "    }\n",
       "</style>\n",
       "<table border=\"1\" class=\"dataframe\">\n",
       "  <thead>\n",
       "    <tr style=\"text-align: right;\">\n",
       "      <th></th>\n",
       "      <th>pc1</th>\n",
       "      <th>pc2</th>\n",
       "    </tr>\n",
       "  </thead>\n",
       "  <tbody>\n",
       "    <tr>\n",
       "      <th>0</th>\n",
       "      <td>-2.097234</td>\n",
       "      <td>-0.720179</td>\n",
       "    </tr>\n",
       "    <tr>\n",
       "      <th>1</th>\n",
       "      <td>-1.456003</td>\n",
       "      <td>-0.947694</td>\n",
       "    </tr>\n",
       "    <tr>\n",
       "      <th>2</th>\n",
       "      <td>-2.073454</td>\n",
       "      <td>-0.625336</td>\n",
       "    </tr>\n",
       "    <tr>\n",
       "      <th>3</th>\n",
       "      <td>-2.610161</td>\n",
       "      <td>-0.134044</td>\n",
       "    </tr>\n",
       "    <tr>\n",
       "      <th>4</th>\n",
       "      <td>-2.456866</td>\n",
       "      <td>-0.229919</td>\n",
       "    </tr>\n",
       "  </tbody>\n",
       "</table>\n",
       "</div>"
      ],
      "text/plain": [
       "        pc1       pc2\n",
       "0 -2.097234 -0.720179\n",
       "1 -1.456003 -0.947694\n",
       "2 -2.073454 -0.625336\n",
       "3 -2.610161 -0.134044\n",
       "4 -2.456866 -0.229919"
      ]
     },
     "execution_count": 16,
     "metadata": {},
     "output_type": "execute_result"
    }
   ],
   "source": [
    "#2개의 피쳐로 학습된 데이터를 데이터프레임 형태로 변환해주자 \n",
    "data2 = pd.DataFrame(data = pca.transform(scaler_data), columns = ['pc1', 'pc2'])\n",
    "data2.head()"
   ]
  },
  {
   "cell_type": "code",
   "execution_count": null,
   "id": "0719bbbf-53f3-4eee-bb8c-60461e0da67f",
   "metadata": {},
   "outputs": [],
   "source": []
  },
  {
   "cell_type": "markdown",
   "id": "b4a14853-9d01-4170-9019-88a47c591664",
   "metadata": {
    "tags": []
   },
   "source": [
    "# 그렇다면 몇 개로 군집화를 하는게 가장 적당한가?\n",
    "- 위의 데이터를 몇 개의 군집화로 나누는 것이 가장 올바른 군집화인지 살펴보자 \n",
    "\n",
    "`KMeans(n_cluster = k)`\n",
    "\n",
    "- k개의 군집화를 하겠다는 객체 생성\n",
    "\n",
    "`Kmeans.fit()`\n",
    "\n",
    "- 학습시키기\n",
    "\n",
    "`KMeans.inertia_`\n",
    "\n",
    "- 학습된 KMeans의 응집도를 확인\n",
    "- 응집도란 각 데이터로부터 자신이 속한 군집의 중심까지의 거리를 의미\n",
    "- 즉, 낮을수록 군집화가 더 잘되어있음.\n",
    "\n",
    "`KMeans.predict(data)`\n",
    "\n",
    "- 학습된 데이터를 바탕으로 데이터를 변환시켜줌"
   ]
  },
  {
   "cell_type": "code",
   "execution_count": 17,
   "id": "0e255910-2bb3-46c1-acb7-93de5f3471eb",
   "metadata": {},
   "outputs": [],
   "source": [
    "# 군집화 라이브러리 불러오기 \n",
    "from sklearn.cluster import KMeans"
   ]
  },
  {
   "cell_type": "code",
   "execution_count": 18,
   "id": "1983b40c-ddc7-485a-a4a4-2a825d8fc735",
   "metadata": {},
   "outputs": [],
   "source": [
    "x = [] #k가 몇개인지 -\n",
    "y = [] #응집도가 몇인지 \n",
    "\n",
    "# 범위가 1~30인 이유\n",
    "for k in range (1,30): \n",
    "    kmeans = KMeans(n_clusters = k) # 1~ 29개의 군집화 된 객체를 kmeans라고 함   \n",
    "    kmeans.fit(data2)               # kmeans에다가 data2를 학습시킬것임 \n",
    "    \n",
    "    x.append(k)\n",
    "    y.append(kmeans.inertia_)\n",
    "\n",
    "    \n",
    "#k가 n개 일 때 응집도는 a라고 이해하면 된다 "
   ]
  },
  {
   "cell_type": "code",
   "execution_count": 19,
   "id": "0dc9f389-eebd-4dd7-adc9-64199dfe0eb7",
   "metadata": {},
   "outputs": [
    {
     "data": {
      "text/plain": [
       "[<matplotlib.lines.Line2D at 0x2250216e670>]"
      ]
     },
     "execution_count": 19,
     "metadata": {},
     "output_type": "execute_result"
    },
    {
     "data": {
      "image/png": "[encoded data removed]",
      "text/plain": [
       "<Figure size 432x288 with 1 Axes>"
      ]
     },
     "metadata": {
      "needs_background": "light"
     },
     "output_type": "display_data"
    }
   ],
   "source": [
    "#그래프 그리기\n",
    "plt.plot(x,y)"
   ]
  },
  {
   "cell_type": "code",
   "execution_count": null,
   "id": "f156ba4f-1977-4bf7-a94f-83e6bd13e9b6",
   "metadata": {},
   "outputs": [],
   "source": []
  },
  {
   "cell_type": "markdown",
   "id": "0527e31b-a530-4ab6-8c56-af3875080708",
   "metadata": {
    "tags": []
   },
   "source": [
    "# ELBOW Point = 4 로 지정 후 클러스터링 시작 "
   ]
  },
  {
   "cell_type": "code",
   "execution_count": 20,
   "id": "73f11e7f-d036-4259-bf42-377059f860a5",
   "metadata": {},
   "outputs": [],
   "source": [
    "# 4개로 군집화 된 객체를 생성 \n",
    "kmeans = KMeans(n_clusters = 4)"
   ]
  },
  {
   "cell_type": "code",
   "execution_count": 21,
   "id": "66167d86-d919-42a1-8305-ea6a4e3683eb",
   "metadata": {},
   "outputs": [
    {
     "data": {
      "text/plain": [
       "KMeans(n_clusters=4)"
      ]
     },
     "execution_count": 21,
     "metadata": {},
     "output_type": "execute_result"
    }
   ],
   "source": [
    "# 군집화 할 데이터 'data2'를 학습시키기 \n",
    "kmeans.fit(data2)"
   ]
  },
  {
   "cell_type": "code",
   "execution_count": 22,
   "id": "bd0d91bc-7e82-4398-b988-6909a787a2f9",
   "metadata": {},
   "outputs": [],
   "source": [
    "# 학습된 kmeans의 응집도 확인 (각 데이터로부터 자신이 속한 군집의 중심까지의 거리)\n",
    "# 응집도가 낮을수록 군집화가 더 잘되어있는 것이다\n"
   ]
  },
  {
   "cell_type": "code",
   "execution_count": 23,
   "id": "04102936-a09e-4066-90ec-1ce66f3ba68f",
   "metadata": {},
   "outputs": [],
   "source": [
    "# 학습된 데이터를  labels 라는 컬럼에 넣어주자 \n",
    "data2['labels'] = kmeans.predict(data2)"
   ]
  },
  {
   "cell_type": "code",
   "execution_count": 24,
   "id": "7f7cc515-7c73-461a-91d8-ba17f8a650a8",
   "metadata": {},
   "outputs": [
    {
     "data": {
      "text/html": [
       "<div>\n",
       "<style scoped>\n",
       "    .dataframe tbody tr th:only-of-type {\n",
       "        vertical-align: middle;\n",
       "    }\n",
       "\n",
       "    .dataframe tbody tr th {\n",
       "        vertical-align: top;\n",
       "    }\n",
       "\n",
       "    .dataframe thead th {\n",
       "        text-align: right;\n",
       "    }\n",
       "</style>\n",
       "<table border=\"1\" class=\"dataframe\">\n",
       "  <thead>\n",
       "    <tr style=\"text-align: right;\">\n",
       "      <th></th>\n",
       "      <th>pc1</th>\n",
       "      <th>pc2</th>\n",
       "      <th>labels</th>\n",
       "    </tr>\n",
       "  </thead>\n",
       "  <tbody>\n",
       "    <tr>\n",
       "      <th>0</th>\n",
       "      <td>-2.097234</td>\n",
       "      <td>-0.720179</td>\n",
       "      <td>0</td>\n",
       "    </tr>\n",
       "    <tr>\n",
       "      <th>1</th>\n",
       "      <td>-1.456003</td>\n",
       "      <td>-0.947694</td>\n",
       "      <td>0</td>\n",
       "    </tr>\n",
       "    <tr>\n",
       "      <th>2</th>\n",
       "      <td>-2.073454</td>\n",
       "      <td>-0.625336</td>\n",
       "      <td>0</td>\n",
       "    </tr>\n",
       "    <tr>\n",
       "      <th>3</th>\n",
       "      <td>-2.610161</td>\n",
       "      <td>-0.134044</td>\n",
       "      <td>0</td>\n",
       "    </tr>\n",
       "    <tr>\n",
       "      <th>4</th>\n",
       "      <td>-2.456866</td>\n",
       "      <td>-0.229919</td>\n",
       "      <td>0</td>\n",
       "    </tr>\n",
       "  </tbody>\n",
       "</table>\n",
       "</div>"
      ],
      "text/plain": [
       "        pc1       pc2  labels\n",
       "0 -2.097234 -0.720179       0\n",
       "1 -1.456003 -0.947694       0\n",
       "2 -2.073454 -0.625336       0\n",
       "3 -2.610161 -0.134044       0\n",
       "4 -2.456866 -0.229919       0"
      ]
     },
     "execution_count": 24,
     "metadata": {},
     "output_type": "execute_result"
    }
   ],
   "source": [
    "data2.head()"
   ]
  },
  {
   "cell_type": "code",
   "execution_count": null,
   "id": "8232acfa-aeb8-48b2-810e-1c52a00bac4d",
   "metadata": {},
   "outputs": [],
   "source": [
    "# 위의 값들을 시각화 할거고 그래서 pca를 만든것 "
   ]
  },
  {
   "cell_type": "code",
   "execution_count": 25,
   "id": "b8735e21-f292-4dda-9bc2-813531fe79d2",
   "metadata": {},
   "outputs": [
    {
     "data": {
      "text/plain": [
       "<AxesSubplot:xlabel='pc1', ylabel='pc2'>"
      ]
     },
     "execution_count": 25,
     "metadata": {},
     "output_type": "execute_result"
    },
    {
     "data": {
      "image/png": "[encoded data removed]",
      "text/plain": [
       "<Figure size 432x288 with 1 Axes>"
      ]
     },
     "metadata": {
      "needs_background": "light"
     },
     "output_type": "display_data"
    }
   ],
   "source": [
    "sns.scatterplot(x = 'pc1', y = 'pc2', hue = 'labels', data = data2)"
   ]
  },
  {
   "cell_type": "code",
   "execution_count": null,
   "id": "ac87003c-ac49-436d-904f-0801081c20c9",
   "metadata": {},
   "outputs": [],
   "source": []
  },
  {
   "cell_type": "markdown",
   "id": "5c33caa6-d06b-4c02-80b8-f9ffde163473",
   "metadata": {},
   "source": [
    "# 클러스터링 결과 해석하기\n",
    "\n",
    "pca와 클러스터링을 통해 결과를 해석해봅시다\n",
    "\n",
    "가장 먼저 어떠한 그룹이 집 값이 높은지 평균을 비교하자"
   ]
  },
  {
   "cell_type": "code",
   "execution_count": 26,
   "id": "6ef7dda6-63d5-4d3d-8b8d-57993efddcb9",
   "metadata": {},
   "outputs": [],
   "source": [
    "#집 값이랑 비교해야하니까 맨 첨에 떼어둔 data['medv']를 추가해주기\n",
    "data2['medv'] = medv"
   ]
  },
  {
   "cell_type": "code",
   "execution_count": 27,
   "id": "30d55232-8de3-49ab-8a21-0364cd54a443",
   "metadata": {},
   "outputs": [
    {
     "data": {
      "text/html": [
       "<div>\n",
       "<style scoped>\n",
       "    .dataframe tbody tr th:only-of-type {\n",
       "        vertical-align: middle;\n",
       "    }\n",
       "\n",
       "    .dataframe tbody tr th {\n",
       "        vertical-align: top;\n",
       "    }\n",
       "\n",
       "    .dataframe thead th {\n",
       "        text-align: right;\n",
       "    }\n",
       "</style>\n",
       "<table border=\"1\" class=\"dataframe\">\n",
       "  <thead>\n",
       "    <tr style=\"text-align: right;\">\n",
       "      <th></th>\n",
       "      <th>pc1</th>\n",
       "      <th>pc2</th>\n",
       "      <th>labels</th>\n",
       "      <th>medv</th>\n",
       "    </tr>\n",
       "  </thead>\n",
       "  <tbody>\n",
       "    <tr>\n",
       "      <th>0</th>\n",
       "      <td>-2.097234</td>\n",
       "      <td>-0.720179</td>\n",
       "      <td>0</td>\n",
       "      <td>24.0</td>\n",
       "    </tr>\n",
       "    <tr>\n",
       "      <th>1</th>\n",
       "      <td>-1.456003</td>\n",
       "      <td>-0.947694</td>\n",
       "      <td>0</td>\n",
       "      <td>21.6</td>\n",
       "    </tr>\n",
       "    <tr>\n",
       "      <th>2</th>\n",
       "      <td>-2.073454</td>\n",
       "      <td>-0.625336</td>\n",
       "      <td>0</td>\n",
       "      <td>34.7</td>\n",
       "    </tr>\n",
       "    <tr>\n",
       "      <th>3</th>\n",
       "      <td>-2.610161</td>\n",
       "      <td>-0.134044</td>\n",
       "      <td>0</td>\n",
       "      <td>33.4</td>\n",
       "    </tr>\n",
       "    <tr>\n",
       "      <th>4</th>\n",
       "      <td>-2.456866</td>\n",
       "      <td>-0.229919</td>\n",
       "      <td>0</td>\n",
       "      <td>36.2</td>\n",
       "    </tr>\n",
       "  </tbody>\n",
       "</table>\n",
       "</div>"
      ],
      "text/plain": [
       "        pc1       pc2  labels  medv\n",
       "0 -2.097234 -0.720179       0  24.0\n",
       "1 -1.456003 -0.947694       0  21.6\n",
       "2 -2.073454 -0.625336       0  34.7\n",
       "3 -2.610161 -0.134044       0  33.4\n",
       "4 -2.456866 -0.229919       0  36.2"
      ]
     },
     "execution_count": 27,
     "metadata": {},
     "output_type": "execute_result"
    }
   ],
   "source": [
    "data2.head()"
   ]
  },
  {
   "cell_type": "code",
   "execution_count": 28,
   "id": "e37e60f3-681a-4616-9252-0fda42b79987",
   "metadata": {},
   "outputs": [],
   "source": [
    "# 시각화를 위해 각 그룹별 medv값을 따로 변수로 생성합니다.\n",
    "# labels값 별 집값의 평균을 구해놓은 변수임\n",
    "\n",
    "mdedv_0 = data2[data2['labels']==0]['medv'].mean()\n",
    "mdedv_1 = data2[data2['labels']==1]['medv'].mean()\n",
    "mdedv_2 = data2[data2['labels']==2]['medv'].mean()\n",
    "mdedv_3 = data2[data2['labels']==3]['medv'].mean()"
   ]
  },
  {
   "cell_type": "code",
   "execution_count": 29,
   "id": "76fc5e08-2274-4ccd-92c8-99c7708ef846",
   "metadata": {},
   "outputs": [
    {
     "data": {
      "text/plain": [
       "<AxesSubplot:>"
      ]
     },
     "execution_count": 29,
     "metadata": {},
     "output_type": "execute_result"
    },
    {
     "data": {
      "image/png": "[encoded data removed]",
      "text/plain": [
       "<Figure size 432x288 with 1 Axes>"
      ]
     },
     "metadata": {
      "needs_background": "light"
     },
     "output_type": "display_data"
    }
   ],
   "source": [
    "# 주의 모든 과정을 똑같이 하였어도 kmeans의 기본 중심값 설정은 '랜덤'임을 잊지 말 것\n",
    "sns.barplot(x = ['group_0','group_1','group_2','group_3'], y = [mdedv_0, mdedv_1, mdedv_2, mdedv_3])"
   ]
  },
  {
   "cell_type": "code",
   "execution_count": null,
   "id": "f3281d67-8d4a-4095-9813-734d5f8cda43",
   "metadata": {},
   "outputs": [],
   "source": []
  },
  {
   "cell_type": "markdown",
   "id": "88c708ad-64dc-42e9-9010-bac45594a02f",
   "metadata": {},
   "source": [
    "# 그룹들의 특징을 살펴보자\n",
    "\n",
    "최상위 그룹과 최하위 그룹의 특징을 살펴보며 집 값이 높은 이유 혹은 집 값이 낮은 이유에 대해서 살펴볼것\n",
    "\n",
    "- 최 상위 그룹 - group 2\n",
    "- 최 하위 그룹 - group 1"
   ]
  },
  {
   "cell_type": "code",
   "execution_count": 33,
   "id": "bc66a42e-458c-459c-8398-f935cc48aaab",
   "metadata": {},
   "outputs": [
    {
     "data": {
      "text/html": [
       "<div>\n",
       "<style scoped>\n",
       "    .dataframe tbody tr th:only-of-type {\n",
       "        vertical-align: middle;\n",
       "    }\n",
       "\n",
       "    .dataframe tbody tr th {\n",
       "        vertical-align: top;\n",
       "    }\n",
       "\n",
       "    .dataframe thead th {\n",
       "        text-align: right;\n",
       "    }\n",
       "</style>\n",
       "<table border=\"1\" class=\"dataframe\">\n",
       "  <thead>\n",
       "    <tr style=\"text-align: right;\">\n",
       "      <th></th>\n",
       "      <th>crim</th>\n",
       "      <th>zn</th>\n",
       "      <th>indus</th>\n",
       "      <th>nox</th>\n",
       "      <th>rm</th>\n",
       "      <th>age</th>\n",
       "      <th>dis</th>\n",
       "      <th>rad</th>\n",
       "      <th>tax</th>\n",
       "      <th>ptratio</th>\n",
       "      <th>b</th>\n",
       "      <th>lstat</th>\n",
       "      <th>labels</th>\n",
       "    </tr>\n",
       "  </thead>\n",
       "  <tbody>\n",
       "    <tr>\n",
       "      <th>0</th>\n",
       "      <td>0.00632</td>\n",
       "      <td>18.0</td>\n",
       "      <td>2.31</td>\n",
       "      <td>0.538</td>\n",
       "      <td>6.575</td>\n",
       "      <td>65.2</td>\n",
       "      <td>4.0900</td>\n",
       "      <td>1.0</td>\n",
       "      <td>296.0</td>\n",
       "      <td>15.3</td>\n",
       "      <td>396.90</td>\n",
       "      <td>4.98</td>\n",
       "      <td>0</td>\n",
       "    </tr>\n",
       "    <tr>\n",
       "      <th>1</th>\n",
       "      <td>0.02731</td>\n",
       "      <td>0.0</td>\n",
       "      <td>7.07</td>\n",
       "      <td>0.469</td>\n",
       "      <td>6.421</td>\n",
       "      <td>78.9</td>\n",
       "      <td>4.9671</td>\n",
       "      <td>2.0</td>\n",
       "      <td>242.0</td>\n",
       "      <td>17.8</td>\n",
       "      <td>396.90</td>\n",
       "      <td>9.14</td>\n",
       "      <td>0</td>\n",
       "    </tr>\n",
       "    <tr>\n",
       "      <th>2</th>\n",
       "      <td>0.02729</td>\n",
       "      <td>0.0</td>\n",
       "      <td>7.07</td>\n",
       "      <td>0.469</td>\n",
       "      <td>7.185</td>\n",
       "      <td>61.1</td>\n",
       "      <td>4.9671</td>\n",
       "      <td>2.0</td>\n",
       "      <td>242.0</td>\n",
       "      <td>17.8</td>\n",
       "      <td>392.83</td>\n",
       "      <td>4.03</td>\n",
       "      <td>0</td>\n",
       "    </tr>\n",
       "    <tr>\n",
       "      <th>3</th>\n",
       "      <td>0.03237</td>\n",
       "      <td>0.0</td>\n",
       "      <td>2.18</td>\n",
       "      <td>0.458</td>\n",
       "      <td>6.998</td>\n",
       "      <td>45.8</td>\n",
       "      <td>6.0622</td>\n",
       "      <td>3.0</td>\n",
       "      <td>222.0</td>\n",
       "      <td>18.7</td>\n",
       "      <td>394.63</td>\n",
       "      <td>2.94</td>\n",
       "      <td>0</td>\n",
       "    </tr>\n",
       "    <tr>\n",
       "      <th>4</th>\n",
       "      <td>0.06905</td>\n",
       "      <td>0.0</td>\n",
       "      <td>2.18</td>\n",
       "      <td>0.458</td>\n",
       "      <td>7.147</td>\n",
       "      <td>54.2</td>\n",
       "      <td>6.0622</td>\n",
       "      <td>3.0</td>\n",
       "      <td>222.0</td>\n",
       "      <td>18.7</td>\n",
       "      <td>396.90</td>\n",
       "      <td>5.33</td>\n",
       "      <td>0</td>\n",
       "    </tr>\n",
       "    <tr>\n",
       "      <th>...</th>\n",
       "      <td>...</td>\n",
       "      <td>...</td>\n",
       "      <td>...</td>\n",
       "      <td>...</td>\n",
       "      <td>...</td>\n",
       "      <td>...</td>\n",
       "      <td>...</td>\n",
       "      <td>...</td>\n",
       "      <td>...</td>\n",
       "      <td>...</td>\n",
       "      <td>...</td>\n",
       "      <td>...</td>\n",
       "      <td>...</td>\n",
       "    </tr>\n",
       "    <tr>\n",
       "      <th>501</th>\n",
       "      <td>0.06263</td>\n",
       "      <td>0.0</td>\n",
       "      <td>11.93</td>\n",
       "      <td>0.573</td>\n",
       "      <td>6.593</td>\n",
       "      <td>69.1</td>\n",
       "      <td>2.4786</td>\n",
       "      <td>1.0</td>\n",
       "      <td>273.0</td>\n",
       "      <td>21.0</td>\n",
       "      <td>391.99</td>\n",
       "      <td>9.67</td>\n",
       "      <td>3</td>\n",
       "    </tr>\n",
       "    <tr>\n",
       "      <th>502</th>\n",
       "      <td>0.04527</td>\n",
       "      <td>0.0</td>\n",
       "      <td>11.93</td>\n",
       "      <td>0.573</td>\n",
       "      <td>6.120</td>\n",
       "      <td>76.7</td>\n",
       "      <td>2.2875</td>\n",
       "      <td>1.0</td>\n",
       "      <td>273.0</td>\n",
       "      <td>21.0</td>\n",
       "      <td>396.90</td>\n",
       "      <td>9.08</td>\n",
       "      <td>3</td>\n",
       "    </tr>\n",
       "    <tr>\n",
       "      <th>503</th>\n",
       "      <td>0.06076</td>\n",
       "      <td>0.0</td>\n",
       "      <td>11.93</td>\n",
       "      <td>0.573</td>\n",
       "      <td>6.976</td>\n",
       "      <td>91.0</td>\n",
       "      <td>2.1675</td>\n",
       "      <td>1.0</td>\n",
       "      <td>273.0</td>\n",
       "      <td>21.0</td>\n",
       "      <td>396.90</td>\n",
       "      <td>5.64</td>\n",
       "      <td>3</td>\n",
       "    </tr>\n",
       "    <tr>\n",
       "      <th>504</th>\n",
       "      <td>0.10959</td>\n",
       "      <td>0.0</td>\n",
       "      <td>11.93</td>\n",
       "      <td>0.573</td>\n",
       "      <td>6.794</td>\n",
       "      <td>89.3</td>\n",
       "      <td>2.3889</td>\n",
       "      <td>1.0</td>\n",
       "      <td>273.0</td>\n",
       "      <td>21.0</td>\n",
       "      <td>393.45</td>\n",
       "      <td>6.48</td>\n",
       "      <td>3</td>\n",
       "    </tr>\n",
       "    <tr>\n",
       "      <th>505</th>\n",
       "      <td>0.04741</td>\n",
       "      <td>0.0</td>\n",
       "      <td>11.93</td>\n",
       "      <td>0.573</td>\n",
       "      <td>6.030</td>\n",
       "      <td>80.8</td>\n",
       "      <td>2.5050</td>\n",
       "      <td>1.0</td>\n",
       "      <td>273.0</td>\n",
       "      <td>21.0</td>\n",
       "      <td>396.90</td>\n",
       "      <td>7.88</td>\n",
       "      <td>3</td>\n",
       "    </tr>\n",
       "  </tbody>\n",
       "</table>\n",
       "<p>506 rows × 13 columns</p>\n",
       "</div>"
      ],
      "text/plain": [
       "        crim    zn  indus    nox     rm   age     dis  rad    tax  ptratio  \\\n",
       "0    0.00632  18.0   2.31  0.538  6.575  65.2  4.0900  1.0  296.0     15.3   \n",
       "1    0.02731   0.0   7.07  0.469  6.421  78.9  4.9671  2.0  242.0     17.8   \n",
       "2    0.02729   0.0   7.07  0.469  7.185  61.1  4.9671  2.0  242.0     17.8   \n",
       "3    0.03237   0.0   2.18  0.458  6.998  45.8  6.0622  3.0  222.0     18.7   \n",
       "4    0.06905   0.0   2.18  0.458  7.147  54.2  6.0622  3.0  222.0     18.7   \n",
       "..       ...   ...    ...    ...    ...   ...     ...  ...    ...      ...   \n",
       "501  0.06263   0.0  11.93  0.573  6.593  69.1  2.4786  1.0  273.0     21.0   \n",
       "502  0.04527   0.0  11.93  0.573  6.120  76.7  2.2875  1.0  273.0     21.0   \n",
       "503  0.06076   0.0  11.93  0.573  6.976  91.0  2.1675  1.0  273.0     21.0   \n",
       "504  0.10959   0.0  11.93  0.573  6.794  89.3  2.3889  1.0  273.0     21.0   \n",
       "505  0.04741   0.0  11.93  0.573  6.030  80.8  2.5050  1.0  273.0     21.0   \n",
       "\n",
       "          b  lstat  labels  \n",
       "0    396.90   4.98       0  \n",
       "1    396.90   9.14       0  \n",
       "2    392.83   4.03       0  \n",
       "3    394.63   2.94       0  \n",
       "4    396.90   5.33       0  \n",
       "..      ...    ...     ...  \n",
       "501  391.99   9.67       3  \n",
       "502  396.90   9.08       3  \n",
       "503  396.90   5.64       3  \n",
       "504  393.45   6.48       3  \n",
       "505  396.90   7.88       3  \n",
       "\n",
       "[506 rows x 13 columns]"
      ]
     },
     "execution_count": 33,
     "metadata": {},
     "output_type": "execute_result"
    }
   ],
   "source": [
    "# 원본 데이터에 라벨을 복제합니다.\n",
    "data['labels'] = data2['labels']\n",
    "data"
   ]
  },
  {
   "cell_type": "code",
   "execution_count": 32,
   "id": "75a0bad8-ca28-4682-8d1f-a90fde359653",
   "metadata": {},
   "outputs": [
    {
     "data": {
      "text/html": [
       "<div>\n",
       "<style scoped>\n",
       "    .dataframe tbody tr th:only-of-type {\n",
       "        vertical-align: middle;\n",
       "    }\n",
       "\n",
       "    .dataframe tbody tr th {\n",
       "        vertical-align: top;\n",
       "    }\n",
       "\n",
       "    .dataframe thead th {\n",
       "        text-align: right;\n",
       "    }\n",
       "</style>\n",
       "<table border=\"1\" class=\"dataframe\">\n",
       "  <thead>\n",
       "    <tr style=\"text-align: right;\">\n",
       "      <th></th>\n",
       "      <th>crim</th>\n",
       "      <th>zn</th>\n",
       "      <th>indus</th>\n",
       "      <th>nox</th>\n",
       "      <th>rm</th>\n",
       "      <th>age</th>\n",
       "      <th>dis</th>\n",
       "      <th>rad</th>\n",
       "      <th>tax</th>\n",
       "      <th>ptratio</th>\n",
       "      <th>b</th>\n",
       "      <th>lstat</th>\n",
       "      <th>labels</th>\n",
       "    </tr>\n",
       "  </thead>\n",
       "  <tbody>\n",
       "    <tr>\n",
       "      <th>39</th>\n",
       "      <td>0.02763</td>\n",
       "      <td>75.0</td>\n",
       "      <td>2.95</td>\n",
       "      <td>0.428</td>\n",
       "      <td>6.595</td>\n",
       "      <td>21.8</td>\n",
       "      <td>5.4011</td>\n",
       "      <td>3.0</td>\n",
       "      <td>252.0</td>\n",
       "      <td>18.3</td>\n",
       "      <td>395.63</td>\n",
       "      <td>4.32</td>\n",
       "      <td>2</td>\n",
       "    </tr>\n",
       "    <tr>\n",
       "      <th>40</th>\n",
       "      <td>0.03359</td>\n",
       "      <td>75.0</td>\n",
       "      <td>2.95</td>\n",
       "      <td>0.428</td>\n",
       "      <td>7.024</td>\n",
       "      <td>15.8</td>\n",
       "      <td>5.4011</td>\n",
       "      <td>3.0</td>\n",
       "      <td>252.0</td>\n",
       "      <td>18.3</td>\n",
       "      <td>395.62</td>\n",
       "      <td>1.98</td>\n",
       "      <td>2</td>\n",
       "    </tr>\n",
       "    <tr>\n",
       "      <th>41</th>\n",
       "      <td>0.12744</td>\n",
       "      <td>0.0</td>\n",
       "      <td>6.91</td>\n",
       "      <td>0.448</td>\n",
       "      <td>6.770</td>\n",
       "      <td>2.9</td>\n",
       "      <td>5.7209</td>\n",
       "      <td>3.0</td>\n",
       "      <td>233.0</td>\n",
       "      <td>17.9</td>\n",
       "      <td>385.41</td>\n",
       "      <td>4.84</td>\n",
       "      <td>2</td>\n",
       "    </tr>\n",
       "    <tr>\n",
       "      <th>52</th>\n",
       "      <td>0.05360</td>\n",
       "      <td>21.0</td>\n",
       "      <td>5.64</td>\n",
       "      <td>0.439</td>\n",
       "      <td>6.511</td>\n",
       "      <td>21.1</td>\n",
       "      <td>6.8147</td>\n",
       "      <td>4.0</td>\n",
       "      <td>243.0</td>\n",
       "      <td>16.8</td>\n",
       "      <td>396.90</td>\n",
       "      <td>5.28</td>\n",
       "      <td>2</td>\n",
       "    </tr>\n",
       "    <tr>\n",
       "      <th>53</th>\n",
       "      <td>0.04981</td>\n",
       "      <td>21.0</td>\n",
       "      <td>5.64</td>\n",
       "      <td>0.439</td>\n",
       "      <td>5.998</td>\n",
       "      <td>21.4</td>\n",
       "      <td>6.8147</td>\n",
       "      <td>4.0</td>\n",
       "      <td>243.0</td>\n",
       "      <td>16.8</td>\n",
       "      <td>396.90</td>\n",
       "      <td>8.43</td>\n",
       "      <td>2</td>\n",
       "    </tr>\n",
       "    <tr>\n",
       "      <th>...</th>\n",
       "      <td>...</td>\n",
       "      <td>...</td>\n",
       "      <td>...</td>\n",
       "      <td>...</td>\n",
       "      <td>...</td>\n",
       "      <td>...</td>\n",
       "      <td>...</td>\n",
       "      <td>...</td>\n",
       "      <td>...</td>\n",
       "      <td>...</td>\n",
       "      <td>...</td>\n",
       "      <td>...</td>\n",
       "      <td>...</td>\n",
       "    </tr>\n",
       "    <tr>\n",
       "      <th>485</th>\n",
       "      <td>3.67367</td>\n",
       "      <td>0.0</td>\n",
       "      <td>18.10</td>\n",
       "      <td>0.583</td>\n",
       "      <td>6.312</td>\n",
       "      <td>51.9</td>\n",
       "      <td>3.9917</td>\n",
       "      <td>24.0</td>\n",
       "      <td>666.0</td>\n",
       "      <td>20.2</td>\n",
       "      <td>388.62</td>\n",
       "      <td>10.58</td>\n",
       "      <td>1</td>\n",
       "    </tr>\n",
       "    <tr>\n",
       "      <th>486</th>\n",
       "      <td>5.69175</td>\n",
       "      <td>0.0</td>\n",
       "      <td>18.10</td>\n",
       "      <td>0.583</td>\n",
       "      <td>6.114</td>\n",
       "      <td>79.8</td>\n",
       "      <td>3.5459</td>\n",
       "      <td>24.0</td>\n",
       "      <td>666.0</td>\n",
       "      <td>20.2</td>\n",
       "      <td>392.68</td>\n",
       "      <td>14.98</td>\n",
       "      <td>1</td>\n",
       "    </tr>\n",
       "    <tr>\n",
       "      <th>487</th>\n",
       "      <td>4.83567</td>\n",
       "      <td>0.0</td>\n",
       "      <td>18.10</td>\n",
       "      <td>0.583</td>\n",
       "      <td>5.905</td>\n",
       "      <td>53.2</td>\n",
       "      <td>3.1523</td>\n",
       "      <td>24.0</td>\n",
       "      <td>666.0</td>\n",
       "      <td>20.2</td>\n",
       "      <td>388.22</td>\n",
       "      <td>11.45</td>\n",
       "      <td>1</td>\n",
       "    </tr>\n",
       "    <tr>\n",
       "      <th>489</th>\n",
       "      <td>0.18337</td>\n",
       "      <td>0.0</td>\n",
       "      <td>27.74</td>\n",
       "      <td>0.609</td>\n",
       "      <td>5.414</td>\n",
       "      <td>98.3</td>\n",
       "      <td>1.7554</td>\n",
       "      <td>4.0</td>\n",
       "      <td>711.0</td>\n",
       "      <td>20.1</td>\n",
       "      <td>344.05</td>\n",
       "      <td>23.97</td>\n",
       "      <td>1</td>\n",
       "    </tr>\n",
       "    <tr>\n",
       "      <th>490</th>\n",
       "      <td>0.20746</td>\n",
       "      <td>0.0</td>\n",
       "      <td>27.74</td>\n",
       "      <td>0.609</td>\n",
       "      <td>5.093</td>\n",
       "      <td>98.0</td>\n",
       "      <td>1.8226</td>\n",
       "      <td>4.0</td>\n",
       "      <td>711.0</td>\n",
       "      <td>20.1</td>\n",
       "      <td>318.43</td>\n",
       "      <td>29.68</td>\n",
       "      <td>1</td>\n",
       "    </tr>\n",
       "  </tbody>\n",
       "</table>\n",
       "<p>222 rows × 13 columns</p>\n",
       "</div>"
      ],
      "text/plain": [
       "        crim    zn  indus    nox     rm   age     dis   rad    tax  ptratio  \\\n",
       "39   0.02763  75.0   2.95  0.428  6.595  21.8  5.4011   3.0  252.0     18.3   \n",
       "40   0.03359  75.0   2.95  0.428  7.024  15.8  5.4011   3.0  252.0     18.3   \n",
       "41   0.12744   0.0   6.91  0.448  6.770   2.9  5.7209   3.0  233.0     17.9   \n",
       "52   0.05360  21.0   5.64  0.439  6.511  21.1  6.8147   4.0  243.0     16.8   \n",
       "53   0.04981  21.0   5.64  0.439  5.998  21.4  6.8147   4.0  243.0     16.8   \n",
       "..       ...   ...    ...    ...    ...   ...     ...   ...    ...      ...   \n",
       "485  3.67367   0.0  18.10  0.583  6.312  51.9  3.9917  24.0  666.0     20.2   \n",
       "486  5.69175   0.0  18.10  0.583  6.114  79.8  3.5459  24.0  666.0     20.2   \n",
       "487  4.83567   0.0  18.10  0.583  5.905  53.2  3.1523  24.0  666.0     20.2   \n",
       "489  0.18337   0.0  27.74  0.609  5.414  98.3  1.7554   4.0  711.0     20.1   \n",
       "490  0.20746   0.0  27.74  0.609  5.093  98.0  1.8226   4.0  711.0     20.1   \n",
       "\n",
       "          b  lstat  labels  \n",
       "39   395.63   4.32       2  \n",
       "40   395.62   1.98       2  \n",
       "41   385.41   4.84       2  \n",
       "52   396.90   5.28       2  \n",
       "53   396.90   8.43       2  \n",
       "..      ...    ...     ...  \n",
       "485  388.62  10.58       1  \n",
       "486  392.68  14.98       1  \n",
       "487  388.22  11.45       1  \n",
       "489  344.05  23.97       1  \n",
       "490  318.43  29.68       1  \n",
       "\n",
       "[222 rows x 13 columns]"
      ]
     },
     "execution_count": 32,
     "metadata": {},
     "output_type": "execute_result"
    }
   ],
   "source": [
    "# 각 그룹의 데이터를 나누어서 변수에 담습니다.\n",
    "group = data[(data['labels']==1) | (data['labels']==2)]\n",
    "group"
   ]
  },
  {
   "cell_type": "code",
   "execution_count": 36,
   "id": "eabd2d03-f684-4420-8e6f-6aaaf7a52631",
   "metadata": {},
   "outputs": [],
   "source": [
    "#group에 있는 값들을 labels로 묶은 각 컬럼 별 평균치 구해주기\n",
    "# 지저분한 index들 reset해주깅\n",
    "group = group.groupby('labels').mean().reset_index()"
   ]
  },
  {
   "cell_type": "code",
   "execution_count": 37,
   "id": "433a6cc0-874d-4b53-a560-b0c735542cd4",
   "metadata": {},
   "outputs": [
    {
     "data": {
      "text/html": [
       "<div>\n",
       "<style scoped>\n",
       "    .dataframe tbody tr th:only-of-type {\n",
       "        vertical-align: middle;\n",
       "    }\n",
       "\n",
       "    .dataframe tbody tr th {\n",
       "        vertical-align: top;\n",
       "    }\n",
       "\n",
       "    .dataframe thead th {\n",
       "        text-align: right;\n",
       "    }\n",
       "</style>\n",
       "<table border=\"1\" class=\"dataframe\">\n",
       "  <thead>\n",
       "    <tr style=\"text-align: right;\">\n",
       "      <th></th>\n",
       "      <th>labels</th>\n",
       "      <th>crim</th>\n",
       "      <th>zn</th>\n",
       "      <th>indus</th>\n",
       "      <th>nox</th>\n",
       "      <th>rm</th>\n",
       "      <th>age</th>\n",
       "      <th>dis</th>\n",
       "      <th>rad</th>\n",
       "      <th>tax</th>\n",
       "      <th>ptratio</th>\n",
       "      <th>b</th>\n",
       "      <th>lstat</th>\n",
       "    </tr>\n",
       "  </thead>\n",
       "  <tbody>\n",
       "    <tr>\n",
       "      <th>0</th>\n",
       "      <td>1</td>\n",
       "      <td>12.571770</td>\n",
       "      <td>0.0000</td>\n",
       "      <td>18.243881</td>\n",
       "      <td>0.671470</td>\n",
       "      <td>6.010679</td>\n",
       "      <td>89.929851</td>\n",
       "      <td>2.05719</td>\n",
       "      <td>23.701493</td>\n",
       "      <td>666.671642</td>\n",
       "      <td>20.198507</td>\n",
       "      <td>288.733209</td>\n",
       "      <td>18.723358</td>\n",
       "    </tr>\n",
       "    <tr>\n",
       "      <th>1</th>\n",
       "      <td>2</td>\n",
       "      <td>0.065127</td>\n",
       "      <td>54.1875</td>\n",
       "      <td>3.750909</td>\n",
       "      <td>0.423147</td>\n",
       "      <td>6.722830</td>\n",
       "      <td>29.660227</td>\n",
       "      <td>6.91729</td>\n",
       "      <td>4.159091</td>\n",
       "      <td>305.420455</td>\n",
       "      <td>16.982955</td>\n",
       "      <td>389.006818</td>\n",
       "      <td>6.153409</td>\n",
       "    </tr>\n",
       "  </tbody>\n",
       "</table>\n",
       "</div>"
      ],
      "text/plain": [
       "   labels       crim       zn      indus       nox        rm        age  \\\n",
       "0       1  12.571770   0.0000  18.243881  0.671470  6.010679  89.929851   \n",
       "1       2   0.065127  54.1875   3.750909  0.423147  6.722830  29.660227   \n",
       "\n",
       "       dis        rad         tax    ptratio           b      lstat  \n",
       "0  2.05719  23.701493  666.671642  20.198507  288.733209  18.723358  \n",
       "1  6.91729   4.159091  305.420455  16.982955  389.006818   6.153409  "
      ]
     },
     "execution_count": 37,
     "metadata": {},
     "output_type": "execute_result"
    }
   ],
   "source": [
    "group"
   ]
  },
  {
   "cell_type": "code",
   "execution_count": null,
   "id": "ed8683c0-2eaa-4cc2-923e-0ab6a91d81a2",
   "metadata": {},
   "outputs": [],
   "source": []
  },
  {
   "cell_type": "markdown",
   "id": "a4cddc46-beb4-4695-9516-9658a384161f",
   "metadata": {},
   "source": [
    "# 시각화를 위한 subplot\n",
    "\n",
    "`plt.subplots(행, 열, figsize = ())`"
   ]
  },
  {
   "cell_type": "code",
   "execution_count": 39,
   "id": "92f46afe-8dcb-4176-9af2-21d57534fcec",
   "metadata": {},
   "outputs": [
    {
     "data": {
      "text/plain": [
       "<AxesSubplot:xlabel='labels', ylabel='zn'>"
      ]
     },
     "execution_count": 39,
     "metadata": {},
     "output_type": "execute_result"
    },
    {
     "data": {
      "image/png": "[encoded data removed]",
      "text/plain": [
       "<Figure size 1440x936 with 12 Axes>"
      ]
     },
     "metadata": {
      "needs_background": "light"
     },
     "output_type": "display_data"
    }
   ],
   "source": [
    "f, ax = plt.subplots(2, 6, figsize = (20,13))\n",
    "\n",
    "sns.barplot(x = 'labels', y = 'crim', data = group, ax = ax[0,0])\n",
    "sns.barplot(x = 'labels', y = 'zn', data = group, ax = ax[0,1])"
   ]
  },
  {
   "cell_type": "code",
   "execution_count": 40,
   "id": "38fef864-864e-4145-a645-aa50913c71d7",
   "metadata": {},
   "outputs": [],
   "source": [
    "# 컬럼이 10 개 이내면 위에처럼 노가다해서 그리면 된다. 근데 엄청 많다면? -> for문을 이용해 그림그리기 가능"
   ]
  },
  {
   "cell_type": "code",
   "execution_count": 43,
   "id": "1438475c-0c28-41cf-ac6f-9cd331e4a819",
   "metadata": {},
   "outputs": [
    {
     "data": {
      "text/plain": [
       "Index(['labels', 'crim', 'zn', 'indus', 'nox', 'rm', 'age', 'dis', 'rad',\n",
       "       'tax', 'ptratio', 'b', 'lstat'],\n",
       "      dtype='object')"
      ]
     },
     "execution_count": 43,
     "metadata": {},
     "output_type": "execute_result"
    }
   ],
   "source": [
    "#group 변수의 column들을 column이라는 새로운 변수로 지정해준다\n",
    "column = group.columns\n",
    "column"
   ]
  },
  {
   "cell_type": "code",
   "execution_count": 44,
   "id": "473e40d7-ccc3-4e5e-bb4e-cfd5f2d9f155",
   "metadata": {},
   "outputs": [
    {
     "data": {
      "text/plain": [
       "'zn'"
      ]
     },
     "execution_count": 44,
     "metadata": {},
     "output_type": "execute_result"
    }
   ],
   "source": [
    "column[2]"
   ]
  },
  {
   "cell_type": "code",
   "execution_count": 45,
   "id": "d65c3da1-c1d8-4f0b-99dc-6a732aa0cd91",
   "metadata": {},
   "outputs": [
    {
     "data": {
      "image/png": "[encoded data removed]",
      "text/plain": [
       "<Figure size 1440x936 with 12 Axes>"
      ]
     },
     "metadata": {
      "needs_background": "light"
     },
     "output_type": "display_data"
    }
   ],
   "source": [
    "f, ax = plt.subplots(2, 6, figsize = (20,13))\n",
    "\n",
    "            # 12개의 컬럼\n",
    "for i in range(1, 12) :                                    # 열이 6개니까 아래처럼 해줘야 순서대로 그림출력\n",
    "    sns.barplot(x = 'labels', y = column[i], data = group, ax = ax[i//6 , i%6])"
   ]
  },
  {
   "cell_type": "markdown",
   "id": "987a32b8-9d89-401e-a686-fa0949a9445d",
   "metadata": {},
   "source": [
    "# 결론\n",
    "\n",
    "그래프에서 보이다 싶이 범죄율이 낮을 수록, 25,000 평방피트를 초과 거주지역 비율이 높을수록 좋은 가격을 나타내는 지역임을 알 수 있습니다.\n",
    "\n",
    "또한, 두가지 뿐 아니라 여러가지의 그래프를 보고도 집 값이 높은 지역의 특징들을 살펴볼 수 있습니다.\n",
    "\n",
    "더 나아가 이번 시간에는 배우지 않지만 레이더차트라는것을 이용해서 그래프를 그린다면 더 깔끔한 시각화로 나타낼 수 있을 것 입니다."
   ]
  }
 ],
 "metadata": {
  "kernelspec": {
   "display_name": "Python 3 (ipykernel)",
   "language": "python",
   "name": "python3"
  },
  "language_info": {
   "codemirror_mode": {
    "name": "ipython",
    "version": 3
   },
   "file_extension": ".py",
   "mimetype": "text/x-python",
   "name": "python",
   "nbconvert_exporter": "python",
   "pygments_lexer": "ipython3",
   "version": "3.9.7"
  },
  "toc-autonumbering": true,
  "toc-showmarkdowntxt": true
 },
 "nbformat": 4,
 "nbformat_minor": 5
}
