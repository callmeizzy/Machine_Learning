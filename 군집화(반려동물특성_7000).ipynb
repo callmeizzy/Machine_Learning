{
 "cells": [
  {
   "cell_type": "markdown",
   "id": "a7fce552-eb27-4b1b-83ff-ab553e2fe667",
   "metadata": {},
   "source": [
    "# 라이브러리를 불러옵니다"
   ]
  },
  {
   "cell_type": "code",
   "execution_count": 1,
   "id": "45520fef-99fb-4ba1-9200-e322b89931ca",
   "metadata": {},
   "outputs": [],
   "source": [
    "import pandas as pd\n",
    "import numpy as np\n",
    "import seaborn as sns\n",
    "import matplotlib.pyplot as plt"
   ]
  },
  {
   "cell_type": "code",
   "execution_count": 2,
   "id": "eb4d1977-81a4-4656-b178-58b70edd11c0",
   "metadata": {},
   "outputs": [],
   "source": [
    "# 핑크색 warning 안내문 방지 \n",
    "import warnings\n",
    "warnings.filterwarnings('ignore')"
   ]
  },
  {
   "cell_type": "markdown",
   "id": "29dca129-aee8-49ed-9352-01a0d002539c",
   "metadata": {},
   "source": [
    "# 한글폰트 사용을 위한 세팅"
   ]
  },
  {
   "cell_type": "code",
   "execution_count": 3,
   "id": "013e624a-a05f-4fd8-bfbe-741f5347ee16",
   "metadata": {},
   "outputs": [],
   "source": [
    "def get_font_family():\n",
    "    \"\"\"\n",
    "    시스템 환경에 따른 기본 폰트명을 반환하는 함수\n",
    "    \"\"\"\n",
    "    import platform\n",
    "    system_name = platform.system()\n",
    "\n",
    "    if system_name == \"Darwin\" :\n",
    "        font_family = \"AppleGothic\"\n",
    "    elif system_name == \"Windows\":\n",
    "        font_family = \"Malgun Gothic\"\n",
    "    else:\n",
    "        # Linux(Colab)\n",
    "        !apt-get install fonts-nanum -qq  > /dev/null\n",
    "        !fc-cache -fv\n",
    "\n",
    "        import matplotlib as mpl\n",
    "        mpl.font_manager._rebuild()\n",
    "        findfont = mpl.font_manager.fontManager.findfont\n",
    "        mpl.font_manager.findfont = findfont\n",
    "        mpl.backends.backend_agg.findfont = findfont\n",
    "        \n",
    "        font_family = \"NanumBarunGothic\"\n",
    "    return font_family\n",
    "\n",
    "plt.rc(\"font\", family=get_font_family())\n",
    "plt.rc(\"axes\", unicode_minus=False)"
   ]
  },
  {
   "cell_type": "markdown",
   "id": "f90b5e72-41ca-4dd1-a5e1-38f5b2a14238",
   "metadata": {
    "tags": []
   },
   "source": [
    "# 데이터 셋 로드 "
   ]
  },
  {
   "cell_type": "code",
   "execution_count": 4,
   "id": "2beca8ab-41dd-4b4d-93d0-e68601684b94",
   "metadata": {},
   "outputs": [],
   "source": [
    "import glob "
   ]
  },
  {
   "cell_type": "code",
   "execution_count": 5,
   "id": "e815fb32-a554-43ae-9a9a-3038878fdcfb",
   "metadata": {},
   "outputs": [
    {
     "data": {
      "text/plain": [
       "['data\\\\animal_raw.csv', 'data\\\\관광지.csv', 'data\\\\반려견정보.csv']"
      ]
     },
     "execution_count": 5,
     "metadata": {},
     "output_type": "execute_result"
    }
   ],
   "source": [
    "path = glob.glob('data/*.csv')\n",
    "path"
   ]
  },
  {
   "cell_type": "code",
   "execution_count": 6,
   "id": "cc46166b-4908-4f35-b59f-93883999f0c0",
   "metadata": {},
   "outputs": [
    {
     "data": {
      "text/html": [
       "<div>\n",
       "<style scoped>\n",
       "    .dataframe tbody tr th:only-of-type {\n",
       "        vertical-align: middle;\n",
       "    }\n",
       "\n",
       "    .dataframe tbody tr th {\n",
       "        vertical-align: top;\n",
       "    }\n",
       "\n",
       "    .dataframe thead th {\n",
       "        text-align: right;\n",
       "    }\n",
       "</style>\n",
       "<table border=\"1\" class=\"dataframe\">\n",
       "  <thead>\n",
       "    <tr style=\"text-align: right;\">\n",
       "      <th></th>\n",
       "      <th>품종</th>\n",
       "      <th>크기(체중에따른)</th>\n",
       "      <th>크기(라벨링)</th>\n",
       "      <th>나이</th>\n",
       "      <th>산책시간(시간)</th>\n",
       "      <th>체중</th>\n",
       "      <th>적정음수량</th>\n",
       "      <th>성별</th>\n",
       "      <th>중성화여부</th>\n",
       "      <th>색상</th>\n",
       "    </tr>\n",
       "  </thead>\n",
       "  <tbody>\n",
       "    <tr>\n",
       "      <th>0</th>\n",
       "      <td>골든 리트리버</td>\n",
       "      <td>대</td>\n",
       "      <td>2</td>\n",
       "      <td>13</td>\n",
       "      <td>0.5</td>\n",
       "      <td>27.0</td>\n",
       "      <td>1755.0</td>\n",
       "      <td>M</td>\n",
       "      <td>N</td>\n",
       "      <td>갈색</td>\n",
       "    </tr>\n",
       "    <tr>\n",
       "      <th>1</th>\n",
       "      <td>골든 리트리버</td>\n",
       "      <td>대</td>\n",
       "      <td>2</td>\n",
       "      <td>10</td>\n",
       "      <td>0.5</td>\n",
       "      <td>25.0</td>\n",
       "      <td>1625.0</td>\n",
       "      <td>F</td>\n",
       "      <td>N</td>\n",
       "      <td>갈색</td>\n",
       "    </tr>\n",
       "    <tr>\n",
       "      <th>2</th>\n",
       "      <td>골든 리트리버</td>\n",
       "      <td>대</td>\n",
       "      <td>2</td>\n",
       "      <td>9</td>\n",
       "      <td>0.5</td>\n",
       "      <td>40.0</td>\n",
       "      <td>2600.0</td>\n",
       "      <td>M</td>\n",
       "      <td>N</td>\n",
       "      <td>갈색</td>\n",
       "    </tr>\n",
       "    <tr>\n",
       "      <th>3</th>\n",
       "      <td>골든 리트리버</td>\n",
       "      <td>대</td>\n",
       "      <td>2</td>\n",
       "      <td>8</td>\n",
       "      <td>0.5</td>\n",
       "      <td>28.0</td>\n",
       "      <td>1820.0</td>\n",
       "      <td>F</td>\n",
       "      <td>N</td>\n",
       "      <td>갈색</td>\n",
       "    </tr>\n",
       "    <tr>\n",
       "      <th>4</th>\n",
       "      <td>골든 리트리버</td>\n",
       "      <td>대</td>\n",
       "      <td>2</td>\n",
       "      <td>8</td>\n",
       "      <td>0.5</td>\n",
       "      <td>33.0</td>\n",
       "      <td>2145.0</td>\n",
       "      <td>M</td>\n",
       "      <td>N</td>\n",
       "      <td>갈색</td>\n",
       "    </tr>\n",
       "    <tr>\n",
       "      <th>...</th>\n",
       "      <td>...</td>\n",
       "      <td>...</td>\n",
       "      <td>...</td>\n",
       "      <td>...</td>\n",
       "      <td>...</td>\n",
       "      <td>...</td>\n",
       "      <td>...</td>\n",
       "      <td>...</td>\n",
       "      <td>...</td>\n",
       "      <td>...</td>\n",
       "    </tr>\n",
       "    <tr>\n",
       "      <th>7821</th>\n",
       "      <td>핏불테리어</td>\n",
       "      <td>대</td>\n",
       "      <td>2</td>\n",
       "      <td>2</td>\n",
       "      <td>1.5</td>\n",
       "      <td>25.0</td>\n",
       "      <td>1625.0</td>\n",
       "      <td>F</td>\n",
       "      <td>U</td>\n",
       "      <td>검은색</td>\n",
       "    </tr>\n",
       "    <tr>\n",
       "      <th>7822</th>\n",
       "      <td>화이트테리어</td>\n",
       "      <td>소</td>\n",
       "      <td>0</td>\n",
       "      <td>13</td>\n",
       "      <td>0.5</td>\n",
       "      <td>7.3</td>\n",
       "      <td>474.5</td>\n",
       "      <td>F</td>\n",
       "      <td>Y</td>\n",
       "      <td>흰</td>\n",
       "    </tr>\n",
       "    <tr>\n",
       "      <th>7823</th>\n",
       "      <td>화이트테리어</td>\n",
       "      <td>소</td>\n",
       "      <td>0</td>\n",
       "      <td>5</td>\n",
       "      <td>1.5</td>\n",
       "      <td>5.0</td>\n",
       "      <td>325.0</td>\n",
       "      <td>F</td>\n",
       "      <td>U</td>\n",
       "      <td>흰색</td>\n",
       "    </tr>\n",
       "    <tr>\n",
       "      <th>7824</th>\n",
       "      <td>휘펫</td>\n",
       "      <td>중</td>\n",
       "      <td>1</td>\n",
       "      <td>2</td>\n",
       "      <td>1.0</td>\n",
       "      <td>14.0</td>\n",
       "      <td>910.0</td>\n",
       "      <td>M</td>\n",
       "      <td>N</td>\n",
       "      <td>베이지</td>\n",
       "    </tr>\n",
       "    <tr>\n",
       "      <th>7825</th>\n",
       "      <td>휘펫</td>\n",
       "      <td>중</td>\n",
       "      <td>1</td>\n",
       "      <td>2</td>\n",
       "      <td>1.0</td>\n",
       "      <td>19.5</td>\n",
       "      <td>1267.5</td>\n",
       "      <td>F</td>\n",
       "      <td>U</td>\n",
       "      <td>검/갈/흰</td>\n",
       "    </tr>\n",
       "  </tbody>\n",
       "</table>\n",
       "<p>7826 rows × 10 columns</p>\n",
       "</div>"
      ],
      "text/plain": [
       "           품종 크기(체중에따른)  크기(라벨링)  나이  산책시간(시간)    체중   적정음수량 성별 중성화여부     색상\n",
       "0     골든 리트리버         대        2  13       0.5  27.0  1755.0  M     N     갈색\n",
       "1     골든 리트리버         대        2  10       0.5  25.0  1625.0  F     N     갈색\n",
       "2     골든 리트리버         대        2   9       0.5  40.0  2600.0  M     N     갈색\n",
       "3     골든 리트리버         대        2   8       0.5  28.0  1820.0  F     N     갈색\n",
       "4     골든 리트리버         대        2   8       0.5  33.0  2145.0  M     N     갈색\n",
       "...       ...       ...      ...  ..       ...   ...     ... ..   ...    ...\n",
       "7821    핏불테리어         대        2   2       1.5  25.0  1625.0  F     U    검은색\n",
       "7822   화이트테리어         소        0  13       0.5   7.3   474.5  F     Y      흰\n",
       "7823   화이트테리어         소        0   5       1.5   5.0   325.0  F     U     흰색\n",
       "7824       휘펫         중        1   2       1.0  14.0   910.0  M     N    베이지\n",
       "7825       휘펫         중        1   2       1.0  19.5  1267.5  F     U  검/갈/흰\n",
       "\n",
       "[7826 rows x 10 columns]"
      ]
     },
     "execution_count": 6,
     "metadata": {},
     "output_type": "execute_result"
    }
   ],
   "source": [
    "df = pd.read_csv(path[2], encoding = 'utf-8')\n",
    "df"
   ]
  },
  {
   "cell_type": "markdown",
   "id": "0bb6592e-9591-4f14-8799-1b90a2e229b2",
   "metadata": {},
   "source": [
    "# 데이터 전처리 "
   ]
  },
  {
   "cell_type": "markdown",
   "id": "c7aa483f-91bf-47d9-bc5a-9a31ee8ee4a2",
   "metadata": {},
   "source": [
    "## 범주형 변수 제외 "
   ]
  },
  {
   "cell_type": "code",
   "execution_count": 7,
   "id": "b99ba7d8-ed4b-4349-bd73-5d85f03e17ce",
   "metadata": {},
   "outputs": [],
   "source": [
    "df_1 = df.copy()"
   ]
  },
  {
   "cell_type": "code",
   "execution_count": 8,
   "id": "a0d6e69d-54c0-410e-847a-c93cb5afe456",
   "metadata": {},
   "outputs": [],
   "source": [
    "# 범주형 변수 ['품종'] 제거 \n",
    "df_1 = df_1.drop('품종', axis = 1)"
   ]
  },
  {
   "cell_type": "code",
   "execution_count": 9,
   "id": "8c91e7b7-664d-4bb8-8386-a6ad3927eb4b",
   "metadata": {},
   "outputs": [],
   "source": [
    "# 범주형 변수 ['크기(체중에따른)'] 제거 \n",
    "df_1 = df_1.drop('크기(체중에따른)', axis = 1)"
   ]
  },
  {
   "cell_type": "code",
   "execution_count": 10,
   "id": "6c1dd631-2139-43a8-a051-1670fcd69ac2",
   "metadata": {},
   "outputs": [],
   "source": [
    "# 범주형 변수 ['성별'] 제거 \n",
    "df_1 = df_1.drop('성별', axis = 1)"
   ]
  },
  {
   "cell_type": "code",
   "execution_count": 11,
   "id": "36192681-ed0e-4c85-9f06-6d60172b8391",
   "metadata": {},
   "outputs": [],
   "source": [
    "# 범주형 변수 ['증성화여부'] 제거 \n",
    "df_1 = df_1.drop('중성화여부', axis = 1)"
   ]
  },
  {
   "cell_type": "code",
   "execution_count": 12,
   "id": "5d4c8e29-85aa-4246-a339-2e703f6ae2b8",
   "metadata": {},
   "outputs": [],
   "source": [
    "# 범주형 변수 ['색상'] 제거 \n",
    "df_1 = df_1.drop('색상', axis = 1)"
   ]
  },
  {
   "cell_type": "code",
   "execution_count": 13,
   "id": "419be52d-6db0-4c45-a738-e5c51439c296",
   "metadata": {},
   "outputs": [],
   "source": [
    "size = df_1['크기(라벨링)']"
   ]
  },
  {
   "cell_type": "code",
   "execution_count": 14,
   "id": "c36b9ec1-3b91-4da4-9d9e-1c514016e907",
   "metadata": {},
   "outputs": [],
   "source": [
    "# 범주형 변수 ['색상'] 제거 \n",
    "df_1 = df_1.drop('크기(라벨링)', axis = 1)"
   ]
  },
  {
   "cell_type": "code",
   "execution_count": 15,
   "id": "49801d8e-51b7-46b4-bf55-c0e928cd9880",
   "metadata": {},
   "outputs": [
    {
     "data": {
      "text/html": [
       "<div>\n",
       "<style scoped>\n",
       "    .dataframe tbody tr th:only-of-type {\n",
       "        vertical-align: middle;\n",
       "    }\n",
       "\n",
       "    .dataframe tbody tr th {\n",
       "        vertical-align: top;\n",
       "    }\n",
       "\n",
       "    .dataframe thead th {\n",
       "        text-align: right;\n",
       "    }\n",
       "</style>\n",
       "<table border=\"1\" class=\"dataframe\">\n",
       "  <thead>\n",
       "    <tr style=\"text-align: right;\">\n",
       "      <th></th>\n",
       "      <th>나이</th>\n",
       "      <th>산책시간(시간)</th>\n",
       "      <th>체중</th>\n",
       "      <th>적정음수량</th>\n",
       "    </tr>\n",
       "  </thead>\n",
       "  <tbody>\n",
       "    <tr>\n",
       "      <th>0</th>\n",
       "      <td>13</td>\n",
       "      <td>0.5</td>\n",
       "      <td>27.0</td>\n",
       "      <td>1755.0</td>\n",
       "    </tr>\n",
       "    <tr>\n",
       "      <th>1</th>\n",
       "      <td>10</td>\n",
       "      <td>0.5</td>\n",
       "      <td>25.0</td>\n",
       "      <td>1625.0</td>\n",
       "    </tr>\n",
       "    <tr>\n",
       "      <th>2</th>\n",
       "      <td>9</td>\n",
       "      <td>0.5</td>\n",
       "      <td>40.0</td>\n",
       "      <td>2600.0</td>\n",
       "    </tr>\n",
       "    <tr>\n",
       "      <th>3</th>\n",
       "      <td>8</td>\n",
       "      <td>0.5</td>\n",
       "      <td>28.0</td>\n",
       "      <td>1820.0</td>\n",
       "    </tr>\n",
       "    <tr>\n",
       "      <th>4</th>\n",
       "      <td>8</td>\n",
       "      <td>0.5</td>\n",
       "      <td>33.0</td>\n",
       "      <td>2145.0</td>\n",
       "    </tr>\n",
       "    <tr>\n",
       "      <th>...</th>\n",
       "      <td>...</td>\n",
       "      <td>...</td>\n",
       "      <td>...</td>\n",
       "      <td>...</td>\n",
       "    </tr>\n",
       "    <tr>\n",
       "      <th>7821</th>\n",
       "      <td>2</td>\n",
       "      <td>1.5</td>\n",
       "      <td>25.0</td>\n",
       "      <td>1625.0</td>\n",
       "    </tr>\n",
       "    <tr>\n",
       "      <th>7822</th>\n",
       "      <td>13</td>\n",
       "      <td>0.5</td>\n",
       "      <td>7.3</td>\n",
       "      <td>474.5</td>\n",
       "    </tr>\n",
       "    <tr>\n",
       "      <th>7823</th>\n",
       "      <td>5</td>\n",
       "      <td>1.5</td>\n",
       "      <td>5.0</td>\n",
       "      <td>325.0</td>\n",
       "    </tr>\n",
       "    <tr>\n",
       "      <th>7824</th>\n",
       "      <td>2</td>\n",
       "      <td>1.0</td>\n",
       "      <td>14.0</td>\n",
       "      <td>910.0</td>\n",
       "    </tr>\n",
       "    <tr>\n",
       "      <th>7825</th>\n",
       "      <td>2</td>\n",
       "      <td>1.0</td>\n",
       "      <td>19.5</td>\n",
       "      <td>1267.5</td>\n",
       "    </tr>\n",
       "  </tbody>\n",
       "</table>\n",
       "<p>7826 rows × 4 columns</p>\n",
       "</div>"
      ],
      "text/plain": [
       "      나이  산책시간(시간)    체중   적정음수량\n",
       "0     13       0.5  27.0  1755.0\n",
       "1     10       0.5  25.0  1625.0\n",
       "2      9       0.5  40.0  2600.0\n",
       "3      8       0.5  28.0  1820.0\n",
       "4      8       0.5  33.0  2145.0\n",
       "...   ..       ...   ...     ...\n",
       "7821   2       1.5  25.0  1625.0\n",
       "7822  13       0.5   7.3   474.5\n",
       "7823   5       1.5   5.0   325.0\n",
       "7824   2       1.0  14.0   910.0\n",
       "7825   2       1.0  19.5  1267.5\n",
       "\n",
       "[7826 rows x 4 columns]"
      ]
     },
     "execution_count": 15,
     "metadata": {},
     "output_type": "execute_result"
    }
   ],
   "source": [
    "df_1"
   ]
  },
  {
   "cell_type": "markdown",
   "id": "f4b8724a-c954-42da-bd40-8a144ba6932b",
   "metadata": {},
   "source": [
    "# 데이터 살펴보기 "
   ]
  },
  {
   "cell_type": "code",
   "execution_count": 16,
   "id": "de90d111-8cd5-4edd-89de-ed5f49f849ed",
   "metadata": {},
   "outputs": [
    {
     "name": "stdout",
     "output_type": "stream",
     "text": [
      "<class 'pandas.core.frame.DataFrame'>\n",
      "RangeIndex: 7826 entries, 0 to 7825\n",
      "Data columns (total 4 columns):\n",
      " #   Column    Non-Null Count  Dtype  \n",
      "---  ------    --------------  -----  \n",
      " 0   나이        7826 non-null   int64  \n",
      " 1   산책시간(시간)  7826 non-null   float64\n",
      " 2   체중        7826 non-null   float64\n",
      " 3   적정음수량     7826 non-null   float64\n",
      "dtypes: float64(3), int64(1)\n",
      "memory usage: 244.7 KB\n"
     ]
    }
   ],
   "source": [
    "df_1.info()"
   ]
  },
  {
   "cell_type": "code",
   "execution_count": 17,
   "id": "fab32554-9cab-43dd-876a-882605e3bd58",
   "metadata": {},
   "outputs": [
    {
     "data": {
      "text/html": [
       "<div>\n",
       "<style scoped>\n",
       "    .dataframe tbody tr th:only-of-type {\n",
       "        vertical-align: middle;\n",
       "    }\n",
       "\n",
       "    .dataframe tbody tr th {\n",
       "        vertical-align: top;\n",
       "    }\n",
       "\n",
       "    .dataframe thead th {\n",
       "        text-align: right;\n",
       "    }\n",
       "</style>\n",
       "<table border=\"1\" class=\"dataframe\">\n",
       "  <thead>\n",
       "    <tr style=\"text-align: right;\">\n",
       "      <th></th>\n",
       "      <th>나이</th>\n",
       "      <th>산책시간(시간)</th>\n",
       "      <th>체중</th>\n",
       "      <th>적정음수량</th>\n",
       "    </tr>\n",
       "  </thead>\n",
       "  <tbody>\n",
       "    <tr>\n",
       "      <th>count</th>\n",
       "      <td>7826.000000</td>\n",
       "      <td>7826.000000</td>\n",
       "      <td>7826.000000</td>\n",
       "      <td>7826.000000</td>\n",
       "    </tr>\n",
       "    <tr>\n",
       "      <th>mean</th>\n",
       "      <td>2.099540</td>\n",
       "      <td>0.897304</td>\n",
       "      <td>7.794053</td>\n",
       "      <td>506.613455</td>\n",
       "    </tr>\n",
       "    <tr>\n",
       "      <th>std</th>\n",
       "      <td>2.647694</td>\n",
       "      <td>0.168873</td>\n",
       "      <td>6.967980</td>\n",
       "      <td>452.918710</td>\n",
       "    </tr>\n",
       "    <tr>\n",
       "      <th>min</th>\n",
       "      <td>0.000000</td>\n",
       "      <td>0.500000</td>\n",
       "      <td>0.040000</td>\n",
       "      <td>2.600000</td>\n",
       "    </tr>\n",
       "    <tr>\n",
       "      <th>25%</th>\n",
       "      <td>0.000000</td>\n",
       "      <td>0.800000</td>\n",
       "      <td>3.000000</td>\n",
       "      <td>195.000000</td>\n",
       "    </tr>\n",
       "    <tr>\n",
       "      <th>50%</th>\n",
       "      <td>1.000000</td>\n",
       "      <td>1.000000</td>\n",
       "      <td>5.000000</td>\n",
       "      <td>325.000000</td>\n",
       "    </tr>\n",
       "    <tr>\n",
       "      <th>75%</th>\n",
       "      <td>3.000000</td>\n",
       "      <td>1.000000</td>\n",
       "      <td>11.000000</td>\n",
       "      <td>715.000000</td>\n",
       "    </tr>\n",
       "    <tr>\n",
       "      <th>max</th>\n",
       "      <td>18.000000</td>\n",
       "      <td>1.500000</td>\n",
       "      <td>60.000000</td>\n",
       "      <td>3900.000000</td>\n",
       "    </tr>\n",
       "  </tbody>\n",
       "</table>\n",
       "</div>"
      ],
      "text/plain": [
       "                나이     산책시간(시간)           체중        적정음수량\n",
       "count  7826.000000  7826.000000  7826.000000  7826.000000\n",
       "mean      2.099540     0.897304     7.794053   506.613455\n",
       "std       2.647694     0.168873     6.967980   452.918710\n",
       "min       0.000000     0.500000     0.040000     2.600000\n",
       "25%       0.000000     0.800000     3.000000   195.000000\n",
       "50%       1.000000     1.000000     5.000000   325.000000\n",
       "75%       3.000000     1.000000    11.000000   715.000000\n",
       "max      18.000000     1.500000    60.000000  3900.000000"
      ]
     },
     "execution_count": 17,
     "metadata": {},
     "output_type": "execute_result"
    }
   ],
   "source": [
    "df_1.describe()"
   ]
  },
  {
   "cell_type": "code",
   "execution_count": 18,
   "id": "63e1e0cf-cd6f-495d-8127-6d24451241ef",
   "metadata": {},
   "outputs": [
    {
     "data": {
      "text/plain": [
       "나이          0\n",
       "산책시간(시간)    0\n",
       "체중          0\n",
       "적정음수량       0\n",
       "dtype: int64"
      ]
     },
     "execution_count": 18,
     "metadata": {},
     "output_type": "execute_result"
    }
   ],
   "source": [
    "#결측치 확인\n",
    "df_1.isna().sum()"
   ]
  },
  {
   "cell_type": "markdown",
   "id": "7974bd6a-64e8-4743-a722-e5bad57ee456",
   "metadata": {},
   "source": [
    "# 군집화"
   ]
  },
  {
   "cell_type": "raw",
   "id": "beb5c283-e953-4a75-b7b4-33d8834f7d4b",
   "metadata": {},
   "source": [
    "군집화를 통해서 비슷한 성향을 가진 그룹을 찾아보자"
   ]
  },
  {
   "cell_type": "code",
   "execution_count": 19,
   "id": "8d4486b6-df6e-41bd-a239-684f593782f4",
   "metadata": {},
   "outputs": [],
   "source": [
    "# 군집화를 진행하기에 앞서 수월한 시각화 및 설명력을 첨부하기 위하여 PCA를 통해 변수를 2개로 압축해보자.\n",
    "from sklearn.preprocessing import StandardScaler\n",
    "from sklearn.decomposition import PCA"
   ]
  },
  {
   "cell_type": "code",
   "execution_count": 20,
   "id": "c5f20e33-80b7-4b47-8b15-43b9de500d76",
   "metadata": {},
   "outputs": [],
   "source": [
    "#정규화 진행 및 객체 생성\n",
    "scaler = StandardScaler()"
   ]
  },
  {
   "cell_type": "code",
   "execution_count": 21,
   "id": "5f150bef-9932-44ff-8e3f-82a3e8892352",
   "metadata": {},
   "outputs": [
    {
     "data": {
      "text/plain": [
       "StandardScaler()"
      ]
     },
     "execution_count": 21,
     "metadata": {},
     "output_type": "execute_result"
    }
   ],
   "source": [
    "#데이터 학습 \n",
    "scaler.fit(df_1)"
   ]
  },
  {
   "cell_type": "code",
   "execution_count": 22,
   "id": "1019a064-6504-44ad-b9e3-7aceefc995b4",
   "metadata": {},
   "outputs": [],
   "source": [
    "scaler_data = scaler.transform(df_1)"
   ]
  },
  {
   "cell_type": "code",
   "execution_count": 23,
   "id": "6332c397-0ebf-425b-9902-c3b18b3078da",
   "metadata": {},
   "outputs": [],
   "source": [
    "#객체생성 (2개의 객체 만들것임)\n",
    "pca = PCA(n_components = 2)"
   ]
  },
  {
   "cell_type": "code",
   "execution_count": 24,
   "id": "ee88f4d4-5486-4d3c-aac0-e1b1fa8f56af",
   "metadata": {},
   "outputs": [
    {
     "data": {
      "text/plain": [
       "PCA(n_components=2)"
      ]
     },
     "execution_count": 24,
     "metadata": {},
     "output_type": "execute_result"
    }
   ],
   "source": [
    "pca.fit(scaler_data)"
   ]
  },
  {
   "cell_type": "code",
   "execution_count": 25,
   "id": "002409a5-9852-44e8-ad66-448ef319ffed",
   "metadata": {},
   "outputs": [
    {
     "data": {
      "text/plain": [
       "array([[ 3.07714573,  5.00216097],\n",
       "       [ 2.5299662 ,  3.97730424],\n",
       "       [ 5.14687208,  3.85881165],\n",
       "       ...,\n",
       "       [ 1.26839784, -0.75776562],\n",
       "       [ 1.37249598, -0.23115575],\n",
       "       [ 2.35522863, -0.15282417]])"
      ]
     },
     "execution_count": 25,
     "metadata": {},
     "output_type": "execute_result"
    }
   ],
   "source": [
    "pca.transform(scaler_data)"
   ]
  },
  {
   "cell_type": "code",
   "execution_count": 26,
   "id": "3287f375-6a7e-43f6-b2b0-82c2bcabb659",
   "metadata": {},
   "outputs": [
    {
     "data": {
      "text/html": [
       "<div>\n",
       "<style scoped>\n",
       "    .dataframe tbody tr th:only-of-type {\n",
       "        vertical-align: middle;\n",
       "    }\n",
       "\n",
       "    .dataframe tbody tr th {\n",
       "        vertical-align: top;\n",
       "    }\n",
       "\n",
       "    .dataframe thead th {\n",
       "        text-align: right;\n",
       "    }\n",
       "</style>\n",
       "<table border=\"1\" class=\"dataframe\">\n",
       "  <thead>\n",
       "    <tr style=\"text-align: right;\">\n",
       "      <th></th>\n",
       "      <th>pc1</th>\n",
       "      <th>pc2</th>\n",
       "    </tr>\n",
       "  </thead>\n",
       "  <tbody>\n",
       "    <tr>\n",
       "      <th>0</th>\n",
       "      <td>3.077146</td>\n",
       "      <td>5.002161</td>\n",
       "    </tr>\n",
       "    <tr>\n",
       "      <th>1</th>\n",
       "      <td>2.529966</td>\n",
       "      <td>3.977304</td>\n",
       "    </tr>\n",
       "    <tr>\n",
       "      <th>2</th>\n",
       "      <td>5.146872</td>\n",
       "      <td>3.858812</td>\n",
       "    </tr>\n",
       "    <tr>\n",
       "      <th>3</th>\n",
       "      <td>2.939454</td>\n",
       "      <td>3.355782</td>\n",
       "    </tr>\n",
       "    <tr>\n",
       "      <th>4</th>\n",
       "      <td>3.832847</td>\n",
       "      <td>3.426993</td>\n",
       "    </tr>\n",
       "  </tbody>\n",
       "</table>\n",
       "</div>"
      ],
      "text/plain": [
       "        pc1       pc2\n",
       "0  3.077146  5.002161\n",
       "1  2.529966  3.977304\n",
       "2  5.146872  3.858812\n",
       "3  2.939454  3.355782\n",
       "4  3.832847  3.426993"
      ]
     },
     "execution_count": 26,
     "metadata": {},
     "output_type": "execute_result"
    }
   ],
   "source": [
    "#2개의 피쳐로 학습된 데이터를 데이터프레임 형태로 변환해주자 \n",
    "data = pd.DataFrame(data = pca.transform(scaler_data), columns = ['pc1', 'pc2'])\n",
    "data.head()"
   ]
  },
  {
   "cell_type": "markdown",
   "id": "522646e8-c6fe-433b-ac28-d133d5a592ee",
   "metadata": {
    "tags": []
   },
   "source": [
    "# 그렇다면 몇 개로 군집화를 하는게 가장 적당한가?\n",
    "- 위의 데이터를 몇 개의 군집화로 나누는 것이 가장 올바른 군집화인지 살펴보자 \n",
    "\n",
    "`KMeans(n_cluster = k)`\n",
    "\n",
    "- k개의 군집화를 하겠다는 객체 생성\n",
    "\n",
    "`Kmeans.fit()`\n",
    "\n",
    "- 학습시키기\n",
    "\n",
    "`KMeans.inertia_`\n",
    "\n",
    "- 학습된 KMeans의 응집도를 확인\n",
    "- 응집도란 각 데이터로부터 자신이 속한 군집의 중심까지의 거리를 의미\n",
    "- 즉, 낮을수록 군집화가 더 잘되어있음.\n",
    "\n",
    "`KMeans.predict(data)`\n",
    "\n",
    "- 학습된 데이터를 바탕으로 데이터를 변환시켜줌"
   ]
  },
  {
   "cell_type": "code",
   "execution_count": 27,
   "id": "42ebd710-0dbb-462e-b14b-afafc14fb4bf",
   "metadata": {},
   "outputs": [],
   "source": [
    "# 군집화 라이브러리 불러오기 \n",
    "from sklearn.cluster import KMeans"
   ]
  },
  {
   "cell_type": "code",
   "execution_count": 28,
   "id": "5b2f81ed-0fe8-43ca-8abe-d97e5fdcf29e",
   "metadata": {},
   "outputs": [],
   "source": [
    "x = [] #k가 몇개인지 -\n",
    "y = [] #응집도가 몇인지 \n",
    "\n",
    "# 범위가 1~30인 이유\n",
    "for k in range (1,30): \n",
    "    kmeans = KMeans(n_clusters = k) # 1~ 29개의 군집화 된 객체를 kmeans라고 함   \n",
    "    kmeans.fit(data)               # kmeans에다가 data2를 학습시킬것임 \n",
    "    \n",
    "    x.append(k)\n",
    "    y.append(kmeans.inertia_)\n",
    "\n",
    "    \n",
    "#k가 n개 일 때 응집도는 a라고 이해하면 된다 "
   ]
  },
  {
   "cell_type": "code",
   "execution_count": 29,
   "id": "75fcb53e-d7f4-46ee-8c89-787834366136",
   "metadata": {},
   "outputs": [
    {
     "data": {
      "text/plain": [
       "[<matplotlib.lines.Line2D at 0x12cb885ed30>]"
      ]
     },
     "execution_count": 29,
     "metadata": {},
     "output_type": "execute_result"
    },
    {
     "data": {
      "image/png": "[encoded data removed]",
      "text/plain": [
       "<Figure size 432x288 with 1 Axes>"
      ]
     },
     "metadata": {
      "needs_background": "light"
     },
     "output_type": "display_data"
    }
   ],
   "source": [
    "#그래프 그리기\n",
    "plt.plot(x,y)"
   ]
  },
  {
   "cell_type": "code",
   "execution_count": 30,
   "id": "979dfcf1-af55-4ce7-9aaa-16bf0ed9e3a4",
   "metadata": {},
   "outputs": [],
   "source": [
    "# 3개로 군집화 된 객체를 생성 \n",
    "kmeans = KMeans(n_clusters = 3)"
   ]
  },
  {
   "cell_type": "code",
   "execution_count": 31,
   "id": "4d8a1292-58bb-4d27-a932-0a5f089c4071",
   "metadata": {},
   "outputs": [
    {
     "data": {
      "text/plain": [
       "KMeans(n_clusters=3)"
      ]
     },
     "execution_count": 31,
     "metadata": {},
     "output_type": "execute_result"
    }
   ],
   "source": [
    "# 군집화 할 데이터 'data2'를 학습시키기 \n",
    "kmeans.fit(data)"
   ]
  },
  {
   "cell_type": "code",
   "execution_count": 32,
   "id": "22161727-b85c-4065-8cd8-6c3abef89310",
   "metadata": {},
   "outputs": [],
   "source": [
    "# 학습된 kmeans의 응집도 확인 (각 데이터로부터 자신이 속한 군집의 중심까지의 거리)\n",
    "# 응집도가 낮을수록 군집화가 더 잘되어있는 것이다"
   ]
  },
  {
   "cell_type": "code",
   "execution_count": 33,
   "id": "91cd22ca-18ce-4dc8-825e-e22a88caec64",
   "metadata": {},
   "outputs": [],
   "source": [
    "# 학습된 데이터를  labels 라는 컬럼에 넣어주자 \n",
    "data['labels'] = kmeans.predict(data)"
   ]
  },
  {
   "cell_type": "code",
   "execution_count": 34,
   "id": "4d059480-c599-4826-b778-0bed1a74acfb",
   "metadata": {},
   "outputs": [
    {
     "data": {
      "text/html": [
       "<div>\n",
       "<style scoped>\n",
       "    .dataframe tbody tr th:only-of-type {\n",
       "        vertical-align: middle;\n",
       "    }\n",
       "\n",
       "    .dataframe tbody tr th {\n",
       "        vertical-align: top;\n",
       "    }\n",
       "\n",
       "    .dataframe thead th {\n",
       "        text-align: right;\n",
       "    }\n",
       "</style>\n",
       "<table border=\"1\" class=\"dataframe\">\n",
       "  <thead>\n",
       "    <tr style=\"text-align: right;\">\n",
       "      <th></th>\n",
       "      <th>pc1</th>\n",
       "      <th>pc2</th>\n",
       "      <th>labels</th>\n",
       "    </tr>\n",
       "  </thead>\n",
       "  <tbody>\n",
       "    <tr>\n",
       "      <th>0</th>\n",
       "      <td>3.077146</td>\n",
       "      <td>5.002161</td>\n",
       "      <td>2</td>\n",
       "    </tr>\n",
       "    <tr>\n",
       "      <th>1</th>\n",
       "      <td>2.529966</td>\n",
       "      <td>3.977304</td>\n",
       "      <td>2</td>\n",
       "    </tr>\n",
       "    <tr>\n",
       "      <th>2</th>\n",
       "      <td>5.146872</td>\n",
       "      <td>3.858812</td>\n",
       "      <td>1</td>\n",
       "    </tr>\n",
       "    <tr>\n",
       "      <th>3</th>\n",
       "      <td>2.939454</td>\n",
       "      <td>3.355782</td>\n",
       "      <td>1</td>\n",
       "    </tr>\n",
       "    <tr>\n",
       "      <th>4</th>\n",
       "      <td>3.832847</td>\n",
       "      <td>3.426993</td>\n",
       "      <td>1</td>\n",
       "    </tr>\n",
       "  </tbody>\n",
       "</table>\n",
       "</div>"
      ],
      "text/plain": [
       "        pc1       pc2  labels\n",
       "0  3.077146  5.002161       2\n",
       "1  2.529966  3.977304       2\n",
       "2  5.146872  3.858812       1\n",
       "3  2.939454  3.355782       1\n",
       "4  3.832847  3.426993       1"
      ]
     },
     "execution_count": 34,
     "metadata": {},
     "output_type": "execute_result"
    }
   ],
   "source": [
    "data.head()"
   ]
  },
  {
   "cell_type": "code",
   "execution_count": 35,
   "id": "e3001b5f-16ad-4ab6-9345-7930fe460291",
   "metadata": {},
   "outputs": [],
   "source": [
    "# 위의 값들을 시각화 할거고 그래서 pca를 만든것 "
   ]
  },
  {
   "cell_type": "code",
   "execution_count": 36,
   "id": "8695d100-bdb9-4025-99a7-7ae5d4030340",
   "metadata": {},
   "outputs": [
    {
     "data": {
      "text/plain": [
       "<AxesSubplot:xlabel='pc1', ylabel='pc2'>"
      ]
     },
     "execution_count": 36,
     "metadata": {},
     "output_type": "execute_result"
    },
    {
     "data": {
      "image/png": "[encoded data removed]",
      "text/plain": [
       "<Figure size 432x288 with 1 Axes>"
      ]
     },
     "metadata": {
      "needs_background": "light"
     },
     "output_type": "display_data"
    }
   ],
   "source": [
    "sns.scatterplot(x = 'pc1', y = 'pc2', hue = 'labels', data = data)"
   ]
  },
  {
   "cell_type": "markdown",
   "id": "5b439685-dacf-48c8-b501-12342e8c8e4b",
   "metadata": {},
   "source": [
    "# 클러스터링 결과 해석하기\n",
    "\n",
    "pca와 클러스터링을 통해 결과를 해석해봅시다\n",
    "\n",
    "어떤 그룹이 대형견 군집인지  평균치로 확인해보자 "
   ]
  },
  {
   "cell_type": "code",
   "execution_count": 37,
   "id": "5011ba24-76be-4628-bd73-b20e8ea3bae6",
   "metadata": {},
   "outputs": [],
   "source": [
    "data['크기'] = size"
   ]
  },
  {
   "cell_type": "code",
   "execution_count": 38,
   "id": "358bb809-7bf7-498a-a27d-7420361c3f12",
   "metadata": {},
   "outputs": [
    {
     "data": {
      "text/html": [
       "<div>\n",
       "<style scoped>\n",
       "    .dataframe tbody tr th:only-of-type {\n",
       "        vertical-align: middle;\n",
       "    }\n",
       "\n",
       "    .dataframe tbody tr th {\n",
       "        vertical-align: top;\n",
       "    }\n",
       "\n",
       "    .dataframe thead th {\n",
       "        text-align: right;\n",
       "    }\n",
       "</style>\n",
       "<table border=\"1\" class=\"dataframe\">\n",
       "  <thead>\n",
       "    <tr style=\"text-align: right;\">\n",
       "      <th></th>\n",
       "      <th>pc1</th>\n",
       "      <th>pc2</th>\n",
       "      <th>labels</th>\n",
       "      <th>크기</th>\n",
       "    </tr>\n",
       "  </thead>\n",
       "  <tbody>\n",
       "    <tr>\n",
       "      <th>0</th>\n",
       "      <td>3.077146</td>\n",
       "      <td>5.002161</td>\n",
       "      <td>2</td>\n",
       "      <td>2</td>\n",
       "    </tr>\n",
       "    <tr>\n",
       "      <th>1</th>\n",
       "      <td>2.529966</td>\n",
       "      <td>3.977304</td>\n",
       "      <td>2</td>\n",
       "      <td>2</td>\n",
       "    </tr>\n",
       "    <tr>\n",
       "      <th>2</th>\n",
       "      <td>5.146872</td>\n",
       "      <td>3.858812</td>\n",
       "      <td>1</td>\n",
       "      <td>2</td>\n",
       "    </tr>\n",
       "    <tr>\n",
       "      <th>3</th>\n",
       "      <td>2.939454</td>\n",
       "      <td>3.355782</td>\n",
       "      <td>1</td>\n",
       "      <td>2</td>\n",
       "    </tr>\n",
       "    <tr>\n",
       "      <th>4</th>\n",
       "      <td>3.832847</td>\n",
       "      <td>3.426993</td>\n",
       "      <td>1</td>\n",
       "      <td>2</td>\n",
       "    </tr>\n",
       "  </tbody>\n",
       "</table>\n",
       "</div>"
      ],
      "text/plain": [
       "        pc1       pc2  labels  크기\n",
       "0  3.077146  5.002161       2   2\n",
       "1  2.529966  3.977304       2   2\n",
       "2  5.146872  3.858812       1   2\n",
       "3  2.939454  3.355782       1   2\n",
       "4  3.832847  3.426993       1   2"
      ]
     },
     "execution_count": 38,
     "metadata": {},
     "output_type": "execute_result"
    }
   ],
   "source": [
    "data.head()"
   ]
  },
  {
   "cell_type": "code",
   "execution_count": 39,
   "id": "33113711-4de7-4818-97c0-57b32ce01a28",
   "metadata": {},
   "outputs": [],
   "source": [
    "# 시각화를 위해 각 그룹별 크기값을 따로 변수로 생성\n",
    "# labels값 별 크기의 평균을 구해놓은 변수임\n",
    "\n",
    "size_0 = data[data['labels']==0]['크기'].mean()\n",
    "size_1 = data[data['labels']==1]['크기'].mean()\n",
    "size_2 = data[data['labels']==2]['크기'].mean()"
   ]
  },
  {
   "cell_type": "code",
   "execution_count": 40,
   "id": "2c0125c6-3cd1-4092-bd7d-3119189375da",
   "metadata": {},
   "outputs": [
    {
     "data": {
      "text/plain": [
       "<AxesSubplot:>"
      ]
     },
     "execution_count": 40,
     "metadata": {},
     "output_type": "execute_result"
    },
    {
     "data": {
      "image/png": "[encoded data removed]",
      "text/plain": [
       "<Figure size 432x288 with 1 Axes>"
      ]
     },
     "metadata": {
      "needs_background": "light"
     },
     "output_type": "display_data"
    }
   ],
   "source": [
    "# 주의 모든 과정을 똑같이 하였어도 kmeans의 기본 중심값 설정은 '랜덤'임을 잊지 말 것\n",
    "sns.barplot(x = ['group_0','group_1','group_2'], y = [size_0, size_1, size_2])"
   ]
  },
  {
   "cell_type": "code",
   "execution_count": 41,
   "id": "877ad7b2-4376-41a7-bd58-8ed6e969c85d",
   "metadata": {},
   "outputs": [
    {
     "data": {
      "text/html": [
       "<div>\n",
       "<style scoped>\n",
       "    .dataframe tbody tr th:only-of-type {\n",
       "        vertical-align: middle;\n",
       "    }\n",
       "\n",
       "    .dataframe tbody tr th {\n",
       "        vertical-align: top;\n",
       "    }\n",
       "\n",
       "    .dataframe thead th {\n",
       "        text-align: right;\n",
       "    }\n",
       "</style>\n",
       "<table border=\"1\" class=\"dataframe\">\n",
       "  <thead>\n",
       "    <tr style=\"text-align: right;\">\n",
       "      <th></th>\n",
       "      <th>품종</th>\n",
       "      <th>크기(체중에따른)</th>\n",
       "      <th>크기(라벨링)</th>\n",
       "      <th>나이</th>\n",
       "      <th>산책시간(시간)</th>\n",
       "      <th>체중</th>\n",
       "      <th>적정음수량</th>\n",
       "      <th>성별</th>\n",
       "      <th>중성화여부</th>\n",
       "      <th>색상</th>\n",
       "    </tr>\n",
       "  </thead>\n",
       "  <tbody>\n",
       "    <tr>\n",
       "      <th>0</th>\n",
       "      <td>골든 리트리버</td>\n",
       "      <td>대</td>\n",
       "      <td>2</td>\n",
       "      <td>13</td>\n",
       "      <td>0.5</td>\n",
       "      <td>27.0</td>\n",
       "      <td>1755.0</td>\n",
       "      <td>M</td>\n",
       "      <td>N</td>\n",
       "      <td>갈색</td>\n",
       "    </tr>\n",
       "    <tr>\n",
       "      <th>1</th>\n",
       "      <td>골든 리트리버</td>\n",
       "      <td>대</td>\n",
       "      <td>2</td>\n",
       "      <td>10</td>\n",
       "      <td>0.5</td>\n",
       "      <td>25.0</td>\n",
       "      <td>1625.0</td>\n",
       "      <td>F</td>\n",
       "      <td>N</td>\n",
       "      <td>갈색</td>\n",
       "    </tr>\n",
       "    <tr>\n",
       "      <th>2</th>\n",
       "      <td>골든 리트리버</td>\n",
       "      <td>대</td>\n",
       "      <td>2</td>\n",
       "      <td>9</td>\n",
       "      <td>0.5</td>\n",
       "      <td>40.0</td>\n",
       "      <td>2600.0</td>\n",
       "      <td>M</td>\n",
       "      <td>N</td>\n",
       "      <td>갈색</td>\n",
       "    </tr>\n",
       "    <tr>\n",
       "      <th>3</th>\n",
       "      <td>골든 리트리버</td>\n",
       "      <td>대</td>\n",
       "      <td>2</td>\n",
       "      <td>8</td>\n",
       "      <td>0.5</td>\n",
       "      <td>28.0</td>\n",
       "      <td>1820.0</td>\n",
       "      <td>F</td>\n",
       "      <td>N</td>\n",
       "      <td>갈색</td>\n",
       "    </tr>\n",
       "    <tr>\n",
       "      <th>4</th>\n",
       "      <td>골든 리트리버</td>\n",
       "      <td>대</td>\n",
       "      <td>2</td>\n",
       "      <td>8</td>\n",
       "      <td>0.5</td>\n",
       "      <td>33.0</td>\n",
       "      <td>2145.0</td>\n",
       "      <td>M</td>\n",
       "      <td>N</td>\n",
       "      <td>갈색</td>\n",
       "    </tr>\n",
       "    <tr>\n",
       "      <th>...</th>\n",
       "      <td>...</td>\n",
       "      <td>...</td>\n",
       "      <td>...</td>\n",
       "      <td>...</td>\n",
       "      <td>...</td>\n",
       "      <td>...</td>\n",
       "      <td>...</td>\n",
       "      <td>...</td>\n",
       "      <td>...</td>\n",
       "      <td>...</td>\n",
       "    </tr>\n",
       "    <tr>\n",
       "      <th>7821</th>\n",
       "      <td>핏불테리어</td>\n",
       "      <td>대</td>\n",
       "      <td>2</td>\n",
       "      <td>2</td>\n",
       "      <td>1.5</td>\n",
       "      <td>25.0</td>\n",
       "      <td>1625.0</td>\n",
       "      <td>F</td>\n",
       "      <td>U</td>\n",
       "      <td>검은색</td>\n",
       "    </tr>\n",
       "    <tr>\n",
       "      <th>7822</th>\n",
       "      <td>화이트테리어</td>\n",
       "      <td>소</td>\n",
       "      <td>0</td>\n",
       "      <td>13</td>\n",
       "      <td>0.5</td>\n",
       "      <td>7.3</td>\n",
       "      <td>474.5</td>\n",
       "      <td>F</td>\n",
       "      <td>Y</td>\n",
       "      <td>흰</td>\n",
       "    </tr>\n",
       "    <tr>\n",
       "      <th>7823</th>\n",
       "      <td>화이트테리어</td>\n",
       "      <td>소</td>\n",
       "      <td>0</td>\n",
       "      <td>5</td>\n",
       "      <td>1.5</td>\n",
       "      <td>5.0</td>\n",
       "      <td>325.0</td>\n",
       "      <td>F</td>\n",
       "      <td>U</td>\n",
       "      <td>흰색</td>\n",
       "    </tr>\n",
       "    <tr>\n",
       "      <th>7824</th>\n",
       "      <td>휘펫</td>\n",
       "      <td>중</td>\n",
       "      <td>1</td>\n",
       "      <td>2</td>\n",
       "      <td>1.0</td>\n",
       "      <td>14.0</td>\n",
       "      <td>910.0</td>\n",
       "      <td>M</td>\n",
       "      <td>N</td>\n",
       "      <td>베이지</td>\n",
       "    </tr>\n",
       "    <tr>\n",
       "      <th>7825</th>\n",
       "      <td>휘펫</td>\n",
       "      <td>중</td>\n",
       "      <td>1</td>\n",
       "      <td>2</td>\n",
       "      <td>1.0</td>\n",
       "      <td>19.5</td>\n",
       "      <td>1267.5</td>\n",
       "      <td>F</td>\n",
       "      <td>U</td>\n",
       "      <td>검/갈/흰</td>\n",
       "    </tr>\n",
       "  </tbody>\n",
       "</table>\n",
       "<p>7826 rows × 10 columns</p>\n",
       "</div>"
      ],
      "text/plain": [
       "           품종 크기(체중에따른)  크기(라벨링)  나이  산책시간(시간)    체중   적정음수량 성별 중성화여부     색상\n",
       "0     골든 리트리버         대        2  13       0.5  27.0  1755.0  M     N     갈색\n",
       "1     골든 리트리버         대        2  10       0.5  25.0  1625.0  F     N     갈색\n",
       "2     골든 리트리버         대        2   9       0.5  40.0  2600.0  M     N     갈색\n",
       "3     골든 리트리버         대        2   8       0.5  28.0  1820.0  F     N     갈색\n",
       "4     골든 리트리버         대        2   8       0.5  33.0  2145.0  M     N     갈색\n",
       "...       ...       ...      ...  ..       ...   ...     ... ..   ...    ...\n",
       "7821    핏불테리어         대        2   2       1.5  25.0  1625.0  F     U    검은색\n",
       "7822   화이트테리어         소        0  13       0.5   7.3   474.5  F     Y      흰\n",
       "7823   화이트테리어         소        0   5       1.5   5.0   325.0  F     U     흰색\n",
       "7824       휘펫         중        1   2       1.0  14.0   910.0  M     N    베이지\n",
       "7825       휘펫         중        1   2       1.0  19.5  1267.5  F     U  검/갈/흰\n",
       "\n",
       "[7826 rows x 10 columns]"
      ]
     },
     "execution_count": 41,
     "metadata": {},
     "output_type": "execute_result"
    }
   ],
   "source": [
    "df"
   ]
  },
  {
   "cell_type": "code",
   "execution_count": 42,
   "id": "a6be15cc-e8c7-441e-954a-a4855c096a65",
   "metadata": {},
   "outputs": [
    {
     "data": {
      "text/html": [
       "<div>\n",
       "<style scoped>\n",
       "    .dataframe tbody tr th:only-of-type {\n",
       "        vertical-align: middle;\n",
       "    }\n",
       "\n",
       "    .dataframe tbody tr th {\n",
       "        vertical-align: top;\n",
       "    }\n",
       "\n",
       "    .dataframe thead th {\n",
       "        text-align: right;\n",
       "    }\n",
       "</style>\n",
       "<table border=\"1\" class=\"dataframe\">\n",
       "  <thead>\n",
       "    <tr style=\"text-align: right;\">\n",
       "      <th></th>\n",
       "      <th>나이</th>\n",
       "      <th>산책시간(시간)</th>\n",
       "      <th>체중</th>\n",
       "      <th>적정음수량</th>\n",
       "    </tr>\n",
       "  </thead>\n",
       "  <tbody>\n",
       "    <tr>\n",
       "      <th>0</th>\n",
       "      <td>13</td>\n",
       "      <td>0.5</td>\n",
       "      <td>27.0</td>\n",
       "      <td>1755.0</td>\n",
       "    </tr>\n",
       "    <tr>\n",
       "      <th>1</th>\n",
       "      <td>10</td>\n",
       "      <td>0.5</td>\n",
       "      <td>25.0</td>\n",
       "      <td>1625.0</td>\n",
       "    </tr>\n",
       "    <tr>\n",
       "      <th>2</th>\n",
       "      <td>9</td>\n",
       "      <td>0.5</td>\n",
       "      <td>40.0</td>\n",
       "      <td>2600.0</td>\n",
       "    </tr>\n",
       "    <tr>\n",
       "      <th>3</th>\n",
       "      <td>8</td>\n",
       "      <td>0.5</td>\n",
       "      <td>28.0</td>\n",
       "      <td>1820.0</td>\n",
       "    </tr>\n",
       "    <tr>\n",
       "      <th>4</th>\n",
       "      <td>8</td>\n",
       "      <td>0.5</td>\n",
       "      <td>33.0</td>\n",
       "      <td>2145.0</td>\n",
       "    </tr>\n",
       "    <tr>\n",
       "      <th>...</th>\n",
       "      <td>...</td>\n",
       "      <td>...</td>\n",
       "      <td>...</td>\n",
       "      <td>...</td>\n",
       "    </tr>\n",
       "    <tr>\n",
       "      <th>7821</th>\n",
       "      <td>2</td>\n",
       "      <td>1.5</td>\n",
       "      <td>25.0</td>\n",
       "      <td>1625.0</td>\n",
       "    </tr>\n",
       "    <tr>\n",
       "      <th>7822</th>\n",
       "      <td>13</td>\n",
       "      <td>0.5</td>\n",
       "      <td>7.3</td>\n",
       "      <td>474.5</td>\n",
       "    </tr>\n",
       "    <tr>\n",
       "      <th>7823</th>\n",
       "      <td>5</td>\n",
       "      <td>1.5</td>\n",
       "      <td>5.0</td>\n",
       "      <td>325.0</td>\n",
       "    </tr>\n",
       "    <tr>\n",
       "      <th>7824</th>\n",
       "      <td>2</td>\n",
       "      <td>1.0</td>\n",
       "      <td>14.0</td>\n",
       "      <td>910.0</td>\n",
       "    </tr>\n",
       "    <tr>\n",
       "      <th>7825</th>\n",
       "      <td>2</td>\n",
       "      <td>1.0</td>\n",
       "      <td>19.5</td>\n",
       "      <td>1267.5</td>\n",
       "    </tr>\n",
       "  </tbody>\n",
       "</table>\n",
       "<p>7826 rows × 4 columns</p>\n",
       "</div>"
      ],
      "text/plain": [
       "      나이  산책시간(시간)    체중   적정음수량\n",
       "0     13       0.5  27.0  1755.0\n",
       "1     10       0.5  25.0  1625.0\n",
       "2      9       0.5  40.0  2600.0\n",
       "3      8       0.5  28.0  1820.0\n",
       "4      8       0.5  33.0  2145.0\n",
       "...   ..       ...   ...     ...\n",
       "7821   2       1.5  25.0  1625.0\n",
       "7822  13       0.5   7.3   474.5\n",
       "7823   5       1.5   5.0   325.0\n",
       "7824   2       1.0  14.0   910.0\n",
       "7825   2       1.0  19.5  1267.5\n",
       "\n",
       "[7826 rows x 4 columns]"
      ]
     },
     "execution_count": 42,
     "metadata": {},
     "output_type": "execute_result"
    }
   ],
   "source": [
    "df_1"
   ]
  },
  {
   "cell_type": "code",
   "execution_count": 43,
   "id": "d64b185c-4e84-43a4-8f5e-6ef3c97513d5",
   "metadata": {},
   "outputs": [
    {
     "data": {
      "text/html": [
       "<div>\n",
       "<style scoped>\n",
       "    .dataframe tbody tr th:only-of-type {\n",
       "        vertical-align: middle;\n",
       "    }\n",
       "\n",
       "    .dataframe tbody tr th {\n",
       "        vertical-align: top;\n",
       "    }\n",
       "\n",
       "    .dataframe thead th {\n",
       "        text-align: right;\n",
       "    }\n",
       "</style>\n",
       "<table border=\"1\" class=\"dataframe\">\n",
       "  <thead>\n",
       "    <tr style=\"text-align: right;\">\n",
       "      <th></th>\n",
       "      <th>나이</th>\n",
       "      <th>산책시간(시간)</th>\n",
       "      <th>체중</th>\n",
       "      <th>적정음수량</th>\n",
       "      <th>labels</th>\n",
       "    </tr>\n",
       "  </thead>\n",
       "  <tbody>\n",
       "    <tr>\n",
       "      <th>0</th>\n",
       "      <td>13</td>\n",
       "      <td>0.5</td>\n",
       "      <td>27.0</td>\n",
       "      <td>1755.0</td>\n",
       "      <td>2</td>\n",
       "    </tr>\n",
       "    <tr>\n",
       "      <th>1</th>\n",
       "      <td>10</td>\n",
       "      <td>0.5</td>\n",
       "      <td>25.0</td>\n",
       "      <td>1625.0</td>\n",
       "      <td>2</td>\n",
       "    </tr>\n",
       "    <tr>\n",
       "      <th>2</th>\n",
       "      <td>9</td>\n",
       "      <td>0.5</td>\n",
       "      <td>40.0</td>\n",
       "      <td>2600.0</td>\n",
       "      <td>1</td>\n",
       "    </tr>\n",
       "    <tr>\n",
       "      <th>3</th>\n",
       "      <td>8</td>\n",
       "      <td>0.5</td>\n",
       "      <td>28.0</td>\n",
       "      <td>1820.0</td>\n",
       "      <td>1</td>\n",
       "    </tr>\n",
       "    <tr>\n",
       "      <th>4</th>\n",
       "      <td>8</td>\n",
       "      <td>0.5</td>\n",
       "      <td>33.0</td>\n",
       "      <td>2145.0</td>\n",
       "      <td>1</td>\n",
       "    </tr>\n",
       "    <tr>\n",
       "      <th>...</th>\n",
       "      <td>...</td>\n",
       "      <td>...</td>\n",
       "      <td>...</td>\n",
       "      <td>...</td>\n",
       "      <td>...</td>\n",
       "    </tr>\n",
       "    <tr>\n",
       "      <th>7821</th>\n",
       "      <td>2</td>\n",
       "      <td>1.5</td>\n",
       "      <td>25.0</td>\n",
       "      <td>1625.0</td>\n",
       "      <td>1</td>\n",
       "    </tr>\n",
       "    <tr>\n",
       "      <th>7822</th>\n",
       "      <td>13</td>\n",
       "      <td>0.5</td>\n",
       "      <td>7.3</td>\n",
       "      <td>474.5</td>\n",
       "      <td>2</td>\n",
       "    </tr>\n",
       "    <tr>\n",
       "      <th>7823</th>\n",
       "      <td>5</td>\n",
       "      <td>1.5</td>\n",
       "      <td>5.0</td>\n",
       "      <td>325.0</td>\n",
       "      <td>1</td>\n",
       "    </tr>\n",
       "    <tr>\n",
       "      <th>7824</th>\n",
       "      <td>2</td>\n",
       "      <td>1.0</td>\n",
       "      <td>14.0</td>\n",
       "      <td>910.0</td>\n",
       "      <td>1</td>\n",
       "    </tr>\n",
       "    <tr>\n",
       "      <th>7825</th>\n",
       "      <td>2</td>\n",
       "      <td>1.0</td>\n",
       "      <td>19.5</td>\n",
       "      <td>1267.5</td>\n",
       "      <td>1</td>\n",
       "    </tr>\n",
       "  </tbody>\n",
       "</table>\n",
       "<p>7826 rows × 5 columns</p>\n",
       "</div>"
      ],
      "text/plain": [
       "      나이  산책시간(시간)    체중   적정음수량  labels\n",
       "0     13       0.5  27.0  1755.0       2\n",
       "1     10       0.5  25.0  1625.0       2\n",
       "2      9       0.5  40.0  2600.0       1\n",
       "3      8       0.5  28.0  1820.0       1\n",
       "4      8       0.5  33.0  2145.0       1\n",
       "...   ..       ...   ...     ...     ...\n",
       "7821   2       1.5  25.0  1625.0       1\n",
       "7822  13       0.5   7.3   474.5       2\n",
       "7823   5       1.5   5.0   325.0       1\n",
       "7824   2       1.0  14.0   910.0       1\n",
       "7825   2       1.0  19.5  1267.5       1\n",
       "\n",
       "[7826 rows x 5 columns]"
      ]
     },
     "execution_count": 43,
     "metadata": {},
     "output_type": "execute_result"
    }
   ],
   "source": [
    "# 원본 데이터에 라벨을 복제합니다.\n",
    "df_1['labels'] = data['labels']\n",
    "df_1"
   ]
  },
  {
   "cell_type": "code",
   "execution_count": 44,
   "id": "adb13e41-fc84-4982-ad04-263c9c02625e",
   "metadata": {},
   "outputs": [],
   "source": [
    "#값들을 labels로 묶은 각 컬럼 별 평균치 구해주기\n",
    "# 지저분한 index들 reset해주깅\n",
    "df_groupby = df_1.groupby('labels').mean().reset_index()"
   ]
  },
  {
   "cell_type": "code",
   "execution_count": 45,
   "id": "10dc6ffb-0000-421b-b3f9-a889afc8b379",
   "metadata": {},
   "outputs": [
    {
     "data": {
      "text/html": [
       "<div>\n",
       "<style scoped>\n",
       "    .dataframe tbody tr th:only-of-type {\n",
       "        vertical-align: middle;\n",
       "    }\n",
       "\n",
       "    .dataframe tbody tr th {\n",
       "        vertical-align: top;\n",
       "    }\n",
       "\n",
       "    .dataframe thead th {\n",
       "        text-align: right;\n",
       "    }\n",
       "</style>\n",
       "<table border=\"1\" class=\"dataframe\">\n",
       "  <thead>\n",
       "    <tr style=\"text-align: right;\">\n",
       "      <th></th>\n",
       "      <th>labels</th>\n",
       "      <th>나이</th>\n",
       "      <th>산책시간(시간)</th>\n",
       "      <th>체중</th>\n",
       "      <th>적정음수량</th>\n",
       "    </tr>\n",
       "  </thead>\n",
       "  <tbody>\n",
       "    <tr>\n",
       "      <th>0</th>\n",
       "      <td>0</td>\n",
       "      <td>1.177568</td>\n",
       "      <td>0.871310</td>\n",
       "      <td>4.240023</td>\n",
       "      <td>275.601470</td>\n",
       "    </tr>\n",
       "    <tr>\n",
       "      <th>1</th>\n",
       "      <td>1</td>\n",
       "      <td>2.826711</td>\n",
       "      <td>1.041599</td>\n",
       "      <td>17.235156</td>\n",
       "      <td>1120.285112</td>\n",
       "    </tr>\n",
       "    <tr>\n",
       "      <th>2</th>\n",
       "      <td>2</td>\n",
       "      <td>9.905093</td>\n",
       "      <td>0.518750</td>\n",
       "      <td>5.784028</td>\n",
       "      <td>375.961806</td>\n",
       "    </tr>\n",
       "  </tbody>\n",
       "</table>\n",
       "</div>"
      ],
      "text/plain": [
       "   labels        나이  산책시간(시간)         체중        적정음수량\n",
       "0       0  1.177568  0.871310   4.240023   275.601470\n",
       "1       1  2.826711  1.041599  17.235156  1120.285112\n",
       "2       2  9.905093  0.518750   5.784028   375.961806"
      ]
     },
     "execution_count": 45,
     "metadata": {},
     "output_type": "execute_result"
    }
   ],
   "source": [
    "df_groupby"
   ]
  },
  {
   "cell_type": "code",
   "execution_count": 46,
   "id": "9752eabf-c16a-432a-a1d5-8c4d73c71d08",
   "metadata": {},
   "outputs": [
    {
     "data": {
      "text/plain": [
       "Index(['나이', '산책시간(시간)', '체중', '적정음수량', 'labels'], dtype='object')"
      ]
     },
     "execution_count": 46,
     "metadata": {},
     "output_type": "execute_result"
    }
   ],
   "source": [
    "column = df_1.columns\n",
    "column"
   ]
  },
  {
   "cell_type": "code",
   "execution_count": 63,
   "id": "8cc8222c-23b2-46ea-9441-4a9aa9ec85f6",
   "metadata": {},
   "outputs": [
    {
     "data": {
      "image/png": "[encoded data removed]",
      "text/plain": [
       "<Figure size 1800x1080 with 10 Axes>"
      ]
     },
     "metadata": {
      "needs_background": "light"
     },
     "output_type": "display_data"
    }
   ],
   "source": [
    "f, ax = plt.subplots(2,5,figsize = (25,15))\n",
    "\n",
    "        \n",
    "for i in range(0, 4) :                                    \n",
    "    sns.barplot(x = 'labels', y = column[i], data = df_1, ax = ax[i//5 , i%5])"
   ]
  },
  {
   "cell_type": "code",
   "execution_count": 60,
   "id": "4ba60b8f-ac47-4611-814a-6a92125aaaf6",
   "metadata": {},
   "outputs": [
    {
     "data": {
      "text/plain": [
       "<AxesSubplot:xlabel='labels', ylabel='나이'>"
      ]
     },
     "execution_count": 60,
     "metadata": {},
     "output_type": "execute_result"
    },
    {
     "data": {
      "image/png": "[encoded data removed]",
      "text/plain": [
       "<Figure size 432x288 with 1 Axes>"
      ]
     },
     "metadata": {
      "needs_background": "light"
     },
     "output_type": "display_data"
    }
   ],
   "source": [
    "sns.barplot(x = 'labels', y = column[0], data = df_1)"
   ]
  },
  {
   "cell_type": "code",
   "execution_count": 58,
   "id": "bba23ff1-f3bb-4d13-9905-f93c1702647a",
   "metadata": {},
   "outputs": [
    {
     "data": {
      "text/plain": [
       "<AxesSubplot:xlabel='labels', ylabel='산책시간(시간)'>"
      ]
     },
     "execution_count": 58,
     "metadata": {},
     "output_type": "execute_result"
    },
    {
     "data": {
      "image/png": "[encoded data removed]",
      "text/plain": [
       "<Figure size 432x288 with 1 Axes>"
      ]
     },
     "metadata": {
      "needs_background": "light"
     },
     "output_type": "display_data"
    }
   ],
   "source": [
    "sns.barplot(x = 'labels', y = column[1], data = df_1)"
   ]
  },
  {
   "cell_type": "code",
   "execution_count": 61,
   "id": "d06fa18d-2464-452a-b7b4-5f914d57c549",
   "metadata": {},
   "outputs": [
    {
     "data": {
      "text/plain": [
       "<AxesSubplot:xlabel='labels', ylabel='체중'>"
      ]
     },
     "execution_count": 61,
     "metadata": {},
     "output_type": "execute_result"
    },
    {
     "data": {
      "image/png": "[encoded data removed]",
      "text/plain": [
       "<Figure size 432x288 with 1 Axes>"
      ]
     },
     "metadata": {
      "needs_background": "light"
     },
     "output_type": "display_data"
    }
   ],
   "source": [
    "sns.barplot(x = 'labels', y = column[2], data = df_1)"
   ]
  },
  {
   "cell_type": "code",
   "execution_count": 62,
   "id": "4f32e7db-c5b5-4681-830c-b5de13cb7322",
   "metadata": {},
   "outputs": [
    {
     "data": {
      "text/plain": [
       "<AxesSubplot:xlabel='labels', ylabel='적정음수량'>"
      ]
     },
     "execution_count": 62,
     "metadata": {},
     "output_type": "execute_result"
    },
    {
     "data": {
      "image/png": "[encoded data removed]",
      "text/plain": [
       "<Figure size 432x288 with 1 Axes>"
      ]
     },
     "metadata": {
      "needs_background": "light"
     },
     "output_type": "display_data"
    }
   ],
   "source": [
    "sns.barplot(x = 'labels', y = column[3], data = df_1)"
   ]
  },
  {
   "cell_type": "code",
   "execution_count": 48,
   "id": "8f3ba778-c20a-4df7-8e28-d5c68c147e3e",
   "metadata": {},
   "outputs": [],
   "source": [
    "# labels 군집 기준은 아무래도 무게 인것 같음 /  애당초 예상했던 무게를 기준으로 하는 소/중/대형견 크기로 반려동물 숙소 추천서비스 "
   ]
  },
  {
   "cell_type": "code",
   "execution_count": 52,
   "id": "b4636a47-c1e3-4e22-8566-725228be1d3f",
   "metadata": {},
   "outputs": [
    {
     "data": {
      "text/plain": [
       "<AxesSubplot:xlabel='pc1', ylabel='pc2'>"
      ]
     },
     "execution_count": 52,
     "metadata": {},
     "output_type": "execute_result"
    },
    {
     "data": {
      "image/png": "[encoded data removed]",
      "text/plain": [
       "<Figure size 432x288 with 1 Axes>"
      ]
     },
     "metadata": {
      "needs_background": "light"
     },
     "output_type": "display_data"
    }
   ],
   "source": [
    "sns.scatterplot(x = 'pc1', y = 'pc2', hue = 'labels', data = data)"
   ]
  },
  {
   "cell_type": "code",
   "execution_count": 49,
   "id": "4746ccc2-4844-447f-849b-99c4d2becd62",
   "metadata": {},
   "outputs": [
    {
     "data": {
      "text/html": [
       "<div>\n",
       "<style scoped>\n",
       "    .dataframe tbody tr th:only-of-type {\n",
       "        vertical-align: middle;\n",
       "    }\n",
       "\n",
       "    .dataframe tbody tr th {\n",
       "        vertical-align: top;\n",
       "    }\n",
       "\n",
       "    .dataframe thead th {\n",
       "        text-align: right;\n",
       "    }\n",
       "</style>\n",
       "<table border=\"1\" class=\"dataframe\">\n",
       "  <thead>\n",
       "    <tr style=\"text-align: right;\">\n",
       "      <th></th>\n",
       "      <th>나이</th>\n",
       "      <th>산책시간(시간)</th>\n",
       "      <th>체중</th>\n",
       "      <th>적정음수량</th>\n",
       "      <th>labels</th>\n",
       "    </tr>\n",
       "  </thead>\n",
       "  <tbody>\n",
       "    <tr>\n",
       "      <th>count</th>\n",
       "      <td>5305.000000</td>\n",
       "      <td>5305.000000</td>\n",
       "      <td>5305.000000</td>\n",
       "      <td>5305.000000</td>\n",
       "      <td>5305.0</td>\n",
       "    </tr>\n",
       "    <tr>\n",
       "      <th>mean</th>\n",
       "      <td>1.177568</td>\n",
       "      <td>0.871310</td>\n",
       "      <td>4.240023</td>\n",
       "      <td>275.601470</td>\n",
       "      <td>0.0</td>\n",
       "    </tr>\n",
       "    <tr>\n",
       "      <th>std</th>\n",
       "      <td>1.721500</td>\n",
       "      <td>0.105677</td>\n",
       "      <td>2.663652</td>\n",
       "      <td>173.137389</td>\n",
       "      <td>0.0</td>\n",
       "    </tr>\n",
       "    <tr>\n",
       "      <th>min</th>\n",
       "      <td>0.000000</td>\n",
       "      <td>0.500000</td>\n",
       "      <td>0.040000</td>\n",
       "      <td>2.600000</td>\n",
       "      <td>0.0</td>\n",
       "    </tr>\n",
       "    <tr>\n",
       "      <th>25%</th>\n",
       "      <td>0.000000</td>\n",
       "      <td>0.800000</td>\n",
       "      <td>2.100000</td>\n",
       "      <td>136.500000</td>\n",
       "      <td>0.0</td>\n",
       "    </tr>\n",
       "    <tr>\n",
       "      <th>50%</th>\n",
       "      <td>0.000000</td>\n",
       "      <td>0.800000</td>\n",
       "      <td>3.600000</td>\n",
       "      <td>234.000000</td>\n",
       "      <td>0.0</td>\n",
       "    </tr>\n",
       "    <tr>\n",
       "      <th>75%</th>\n",
       "      <td>2.000000</td>\n",
       "      <td>1.000000</td>\n",
       "      <td>6.000000</td>\n",
       "      <td>390.000000</td>\n",
       "      <td>0.0</td>\n",
       "    </tr>\n",
       "    <tr>\n",
       "      <th>max</th>\n",
       "      <td>7.000000</td>\n",
       "      <td>1.500000</td>\n",
       "      <td>13.500000</td>\n",
       "      <td>877.500000</td>\n",
       "      <td>0.0</td>\n",
       "    </tr>\n",
       "  </tbody>\n",
       "</table>\n",
       "</div>"
      ],
      "text/plain": [
       "                나이     산책시간(시간)           체중        적정음수량  labels\n",
       "count  5305.000000  5305.000000  5305.000000  5305.000000  5305.0\n",
       "mean      1.177568     0.871310     4.240023   275.601470     0.0\n",
       "std       1.721500     0.105677     2.663652   173.137389     0.0\n",
       "min       0.000000     0.500000     0.040000     2.600000     0.0\n",
       "25%       0.000000     0.800000     2.100000   136.500000     0.0\n",
       "50%       0.000000     0.800000     3.600000   234.000000     0.0\n",
       "75%       2.000000     1.000000     6.000000   390.000000     0.0\n",
       "max       7.000000     1.500000    13.500000   877.500000     0.0"
      ]
     },
     "execution_count": 49,
     "metadata": {},
     "output_type": "execute_result"
    }
   ],
   "source": [
    "#라벨 0 - 자견 \n",
    "df_1[df_1['labels']==0].describe()"
   ]
  },
  {
   "cell_type": "code",
   "execution_count": 50,
   "id": "a9cc6905-eae5-4e61-b42f-c6ec49c45fbb",
   "metadata": {},
   "outputs": [
    {
     "data": {
      "text/html": [
       "<div>\n",
       "<style scoped>\n",
       "    .dataframe tbody tr th:only-of-type {\n",
       "        vertical-align: middle;\n",
       "    }\n",
       "\n",
       "    .dataframe tbody tr th {\n",
       "        vertical-align: top;\n",
       "    }\n",
       "\n",
       "    .dataframe thead th {\n",
       "        text-align: right;\n",
       "    }\n",
       "</style>\n",
       "<table border=\"1\" class=\"dataframe\">\n",
       "  <thead>\n",
       "    <tr style=\"text-align: right;\">\n",
       "      <th></th>\n",
       "      <th>나이</th>\n",
       "      <th>산책시간(시간)</th>\n",
       "      <th>체중</th>\n",
       "      <th>적정음수량</th>\n",
       "      <th>labels</th>\n",
       "    </tr>\n",
       "  </thead>\n",
       "  <tbody>\n",
       "    <tr>\n",
       "      <th>count</th>\n",
       "      <td>2089.000000</td>\n",
       "      <td>2089.000000</td>\n",
       "      <td>2089.000000</td>\n",
       "      <td>2089.000000</td>\n",
       "      <td>2089.0</td>\n",
       "    </tr>\n",
       "    <tr>\n",
       "      <th>mean</th>\n",
       "      <td>2.826711</td>\n",
       "      <td>1.041599</td>\n",
       "      <td>17.235156</td>\n",
       "      <td>1120.285112</td>\n",
       "      <td>1.0</td>\n",
       "    </tr>\n",
       "    <tr>\n",
       "      <th>std</th>\n",
       "      <td>1.571305</td>\n",
       "      <td>0.158802</td>\n",
       "      <td>6.138717</td>\n",
       "      <td>399.016609</td>\n",
       "      <td>0.0</td>\n",
       "    </tr>\n",
       "    <tr>\n",
       "      <th>min</th>\n",
       "      <td>0.000000</td>\n",
       "      <td>0.500000</td>\n",
       "      <td>5.000000</td>\n",
       "      <td>325.000000</td>\n",
       "      <td>1.0</td>\n",
       "    </tr>\n",
       "    <tr>\n",
       "      <th>25%</th>\n",
       "      <td>2.000000</td>\n",
       "      <td>1.000000</td>\n",
       "      <td>13.000000</td>\n",
       "      <td>845.000000</td>\n",
       "      <td>1.0</td>\n",
       "    </tr>\n",
       "    <tr>\n",
       "      <th>50%</th>\n",
       "      <td>3.000000</td>\n",
       "      <td>1.000000</td>\n",
       "      <td>16.000000</td>\n",
       "      <td>1040.000000</td>\n",
       "      <td>1.0</td>\n",
       "    </tr>\n",
       "    <tr>\n",
       "      <th>75%</th>\n",
       "      <td>4.000000</td>\n",
       "      <td>1.000000</td>\n",
       "      <td>20.000000</td>\n",
       "      <td>1300.000000</td>\n",
       "      <td>1.0</td>\n",
       "    </tr>\n",
       "    <tr>\n",
       "      <th>max</th>\n",
       "      <td>9.000000</td>\n",
       "      <td>1.500000</td>\n",
       "      <td>60.000000</td>\n",
       "      <td>3900.000000</td>\n",
       "      <td>1.0</td>\n",
       "    </tr>\n",
       "  </tbody>\n",
       "</table>\n",
       "</div>"
      ],
      "text/plain": [
       "                나이     산책시간(시간)           체중        적정음수량  labels\n",
       "count  2089.000000  2089.000000  2089.000000  2089.000000  2089.0\n",
       "mean      2.826711     1.041599    17.235156  1120.285112     1.0\n",
       "std       1.571305     0.158802     6.138717   399.016609     0.0\n",
       "min       0.000000     0.500000     5.000000   325.000000     1.0\n",
       "25%       2.000000     1.000000    13.000000   845.000000     1.0\n",
       "50%       3.000000     1.000000    16.000000  1040.000000     1.0\n",
       "75%       4.000000     1.000000    20.000000  1300.000000     1.0\n",
       "max       9.000000     1.500000    60.000000  3900.000000     1.0"
      ]
     },
     "execution_count": 50,
     "metadata": {},
     "output_type": "execute_result"
    }
   ],
   "source": [
    "#라벨 1 - 성견\n",
    "df_1[df_1['labels']==1].describe()"
   ]
  },
  {
   "cell_type": "code",
   "execution_count": 51,
   "id": "b5b40940-2ca1-4c55-993c-5f6166c3fe4c",
   "metadata": {},
   "outputs": [
    {
     "data": {
      "text/html": [
       "<div>\n",
       "<style scoped>\n",
       "    .dataframe tbody tr th:only-of-type {\n",
       "        vertical-align: middle;\n",
       "    }\n",
       "\n",
       "    .dataframe tbody tr th {\n",
       "        vertical-align: top;\n",
       "    }\n",
       "\n",
       "    .dataframe thead th {\n",
       "        text-align: right;\n",
       "    }\n",
       "</style>\n",
       "<table border=\"1\" class=\"dataframe\">\n",
       "  <thead>\n",
       "    <tr style=\"text-align: right;\">\n",
       "      <th></th>\n",
       "      <th>나이</th>\n",
       "      <th>산책시간(시간)</th>\n",
       "      <th>체중</th>\n",
       "      <th>적정음수량</th>\n",
       "      <th>labels</th>\n",
       "    </tr>\n",
       "  </thead>\n",
       "  <tbody>\n",
       "    <tr>\n",
       "      <th>count</th>\n",
       "      <td>432.000000</td>\n",
       "      <td>432.000000</td>\n",
       "      <td>432.000000</td>\n",
       "      <td>432.000000</td>\n",
       "      <td>432.0</td>\n",
       "    </tr>\n",
       "    <tr>\n",
       "      <th>mean</th>\n",
       "      <td>9.905093</td>\n",
       "      <td>0.518750</td>\n",
       "      <td>5.784028</td>\n",
       "      <td>375.961806</td>\n",
       "      <td>2.0</td>\n",
       "    </tr>\n",
       "    <tr>\n",
       "      <th>std</th>\n",
       "      <td>2.179374</td>\n",
       "      <td>0.072703</td>\n",
       "      <td>4.480934</td>\n",
       "      <td>291.260689</td>\n",
       "      <td>0.0</td>\n",
       "    </tr>\n",
       "    <tr>\n",
       "      <th>min</th>\n",
       "      <td>7.000000</td>\n",
       "      <td>0.500000</td>\n",
       "      <td>1.400000</td>\n",
       "      <td>91.000000</td>\n",
       "      <td>2.0</td>\n",
       "    </tr>\n",
       "    <tr>\n",
       "      <th>25%</th>\n",
       "      <td>8.000000</td>\n",
       "      <td>0.500000</td>\n",
       "      <td>3.145000</td>\n",
       "      <td>204.425000</td>\n",
       "      <td>2.0</td>\n",
       "    </tr>\n",
       "    <tr>\n",
       "      <th>50%</th>\n",
       "      <td>10.000000</td>\n",
       "      <td>0.500000</td>\n",
       "      <td>4.500000</td>\n",
       "      <td>292.500000</td>\n",
       "      <td>2.0</td>\n",
       "    </tr>\n",
       "    <tr>\n",
       "      <th>75%</th>\n",
       "      <td>11.000000</td>\n",
       "      <td>0.500000</td>\n",
       "      <td>6.200000</td>\n",
       "      <td>403.000000</td>\n",
       "      <td>2.0</td>\n",
       "    </tr>\n",
       "    <tr>\n",
       "      <th>max</th>\n",
       "      <td>18.000000</td>\n",
       "      <td>0.800000</td>\n",
       "      <td>30.000000</td>\n",
       "      <td>1950.000000</td>\n",
       "      <td>2.0</td>\n",
       "    </tr>\n",
       "  </tbody>\n",
       "</table>\n",
       "</div>"
      ],
      "text/plain": [
       "               나이    산책시간(시간)          체중        적정음수량  labels\n",
       "count  432.000000  432.000000  432.000000   432.000000   432.0\n",
       "mean     9.905093    0.518750    5.784028   375.961806     2.0\n",
       "std      2.179374    0.072703    4.480934   291.260689     0.0\n",
       "min      7.000000    0.500000    1.400000    91.000000     2.0\n",
       "25%      8.000000    0.500000    3.145000   204.425000     2.0\n",
       "50%     10.000000    0.500000    4.500000   292.500000     2.0\n",
       "75%     11.000000    0.500000    6.200000   403.000000     2.0\n",
       "max     18.000000    0.800000   30.000000  1950.000000     2.0"
      ]
     },
     "execution_count": 51,
     "metadata": {},
     "output_type": "execute_result"
    }
   ],
   "source": [
    "#라벨 2 - 노령견\n",
    "df_1[df_1['labels']==2].describe()"
   ]
  },
  {
   "cell_type": "code",
   "execution_count": null,
   "id": "0ee32e47-d4e1-4888-bfd5-5f90e1977e75",
   "metadata": {},
   "outputs": [],
   "source": []
  }
 ],
 "metadata": {
  "kernelspec": {
   "display_name": "Python 3 (ipykernel)",
   "language": "python",
   "name": "python3"
  },
  "language_info": {
   "codemirror_mode": {
    "name": "ipython",
    "version": 3
   },
   "file_extension": ".py",
   "mimetype": "text/x-python",
   "name": "python",
   "nbconvert_exporter": "python",
   "pygments_lexer": "ipython3",
   "version": "3.9.7"
  }
 },
 "nbformat": 4,
 "nbformat_minor": 5
}
