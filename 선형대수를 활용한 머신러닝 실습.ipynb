{
 "cells": [
  {
   "cell_type": "markdown",
   "id": "fa0576be-b3ab-4b45-9f42-d7210ba358b8",
   "metadata": {},
   "source": [
    "# 라이브러리 로드 "
   ]
  },
  {
   "cell_type": "code",
   "execution_count": 1,
   "id": "1b0b35b1-aca6-42e5-828f-9072d1294c3a",
   "metadata": {},
   "outputs": [],
   "source": [
    "import numpy as np\n",
    "import pandas as pd\n",
    "import glob"
   ]
  },
  {
   "cell_type": "code",
   "execution_count": 2,
   "id": "cd063ba9-bc5e-44e3-afb2-a80dfcdc6abf",
   "metadata": {},
   "outputs": [
    {
     "data": {
      "text/plain": [
       "['data\\\\mall_customer.csv',\n",
       " 'data\\\\PokemonDb.csv',\n",
       " 'data\\\\star_classification.csv',\n",
       " 'data\\\\StudentsPerformance.csv',\n",
       " 'data\\\\wine.csv',\n",
       " 'data\\\\WineQT.csv']"
      ]
     },
     "execution_count": 2,
     "metadata": {},
     "output_type": "execute_result"
    }
   ],
   "source": [
    "path = glob.glob('data/*.csv')\n",
    "path"
   ]
  },
  {
   "cell_type": "code",
   "execution_count": 3,
   "id": "33b422b0-56d7-4757-9cba-b2a9206f5d78",
   "metadata": {},
   "outputs": [
    {
     "data": {
      "text/html": [
       "<div>\n",
       "<style scoped>\n",
       "    .dataframe tbody tr th:only-of-type {\n",
       "        vertical-align: middle;\n",
       "    }\n",
       "\n",
       "    .dataframe tbody tr th {\n",
       "        vertical-align: top;\n",
       "    }\n",
       "\n",
       "    .dataframe thead th {\n",
       "        text-align: right;\n",
       "    }\n",
       "</style>\n",
       "<table border=\"1\" class=\"dataframe\">\n",
       "  <thead>\n",
       "    <tr style=\"text-align: right;\">\n",
       "      <th></th>\n",
       "      <th>Unnamed: 0</th>\n",
       "      <th>alcohol</th>\n",
       "      <th>malic_acid</th>\n",
       "      <th>ash</th>\n",
       "      <th>alcalinity_of_ash</th>\n",
       "      <th>magnesium</th>\n",
       "      <th>total_phenols</th>\n",
       "      <th>flavanoids</th>\n",
       "      <th>nonflavanoid_phenols</th>\n",
       "      <th>proanthocyanins</th>\n",
       "      <th>color_intensity</th>\n",
       "      <th>hue</th>\n",
       "      <th>od280/od315_of_diluted_wines</th>\n",
       "      <th>proline</th>\n",
       "      <th>target</th>\n",
       "    </tr>\n",
       "  </thead>\n",
       "  <tbody>\n",
       "    <tr>\n",
       "      <th>0</th>\n",
       "      <td>0</td>\n",
       "      <td>14.23</td>\n",
       "      <td>1.71</td>\n",
       "      <td>2.43</td>\n",
       "      <td>15.6</td>\n",
       "      <td>127.0</td>\n",
       "      <td>2.80</td>\n",
       "      <td>3.06</td>\n",
       "      <td>0.28</td>\n",
       "      <td>2.29</td>\n",
       "      <td>5.64</td>\n",
       "      <td>1.04</td>\n",
       "      <td>3.92</td>\n",
       "      <td>1065.0</td>\n",
       "      <td>0.0</td>\n",
       "    </tr>\n",
       "    <tr>\n",
       "      <th>1</th>\n",
       "      <td>1</td>\n",
       "      <td>13.20</td>\n",
       "      <td>1.78</td>\n",
       "      <td>2.14</td>\n",
       "      <td>11.2</td>\n",
       "      <td>100.0</td>\n",
       "      <td>2.65</td>\n",
       "      <td>2.76</td>\n",
       "      <td>0.26</td>\n",
       "      <td>1.28</td>\n",
       "      <td>4.38</td>\n",
       "      <td>1.05</td>\n",
       "      <td>3.40</td>\n",
       "      <td>1050.0</td>\n",
       "      <td>0.0</td>\n",
       "    </tr>\n",
       "    <tr>\n",
       "      <th>2</th>\n",
       "      <td>2</td>\n",
       "      <td>13.16</td>\n",
       "      <td>2.36</td>\n",
       "      <td>2.67</td>\n",
       "      <td>18.6</td>\n",
       "      <td>101.0</td>\n",
       "      <td>2.80</td>\n",
       "      <td>3.24</td>\n",
       "      <td>0.30</td>\n",
       "      <td>2.81</td>\n",
       "      <td>5.68</td>\n",
       "      <td>1.03</td>\n",
       "      <td>3.17</td>\n",
       "      <td>1185.0</td>\n",
       "      <td>0.0</td>\n",
       "    </tr>\n",
       "    <tr>\n",
       "      <th>3</th>\n",
       "      <td>3</td>\n",
       "      <td>14.37</td>\n",
       "      <td>1.95</td>\n",
       "      <td>2.50</td>\n",
       "      <td>16.8</td>\n",
       "      <td>113.0</td>\n",
       "      <td>3.85</td>\n",
       "      <td>3.49</td>\n",
       "      <td>0.24</td>\n",
       "      <td>2.18</td>\n",
       "      <td>7.80</td>\n",
       "      <td>0.86</td>\n",
       "      <td>3.45</td>\n",
       "      <td>1480.0</td>\n",
       "      <td>0.0</td>\n",
       "    </tr>\n",
       "    <tr>\n",
       "      <th>4</th>\n",
       "      <td>4</td>\n",
       "      <td>13.24</td>\n",
       "      <td>2.59</td>\n",
       "      <td>2.87</td>\n",
       "      <td>21.0</td>\n",
       "      <td>118.0</td>\n",
       "      <td>2.80</td>\n",
       "      <td>2.69</td>\n",
       "      <td>0.39</td>\n",
       "      <td>1.82</td>\n",
       "      <td>4.32</td>\n",
       "      <td>1.04</td>\n",
       "      <td>2.93</td>\n",
       "      <td>735.0</td>\n",
       "      <td>0.0</td>\n",
       "    </tr>\n",
       "    <tr>\n",
       "      <th>...</th>\n",
       "      <td>...</td>\n",
       "      <td>...</td>\n",
       "      <td>...</td>\n",
       "      <td>...</td>\n",
       "      <td>...</td>\n",
       "      <td>...</td>\n",
       "      <td>...</td>\n",
       "      <td>...</td>\n",
       "      <td>...</td>\n",
       "      <td>...</td>\n",
       "      <td>...</td>\n",
       "      <td>...</td>\n",
       "      <td>...</td>\n",
       "      <td>...</td>\n",
       "      <td>...</td>\n",
       "    </tr>\n",
       "    <tr>\n",
       "      <th>173</th>\n",
       "      <td>173</td>\n",
       "      <td>13.71</td>\n",
       "      <td>5.65</td>\n",
       "      <td>2.45</td>\n",
       "      <td>20.5</td>\n",
       "      <td>95.0</td>\n",
       "      <td>1.68</td>\n",
       "      <td>0.61</td>\n",
       "      <td>0.52</td>\n",
       "      <td>1.06</td>\n",
       "      <td>7.70</td>\n",
       "      <td>0.64</td>\n",
       "      <td>1.74</td>\n",
       "      <td>740.0</td>\n",
       "      <td>2.0</td>\n",
       "    </tr>\n",
       "    <tr>\n",
       "      <th>174</th>\n",
       "      <td>174</td>\n",
       "      <td>13.40</td>\n",
       "      <td>3.91</td>\n",
       "      <td>2.48</td>\n",
       "      <td>23.0</td>\n",
       "      <td>102.0</td>\n",
       "      <td>1.80</td>\n",
       "      <td>0.75</td>\n",
       "      <td>0.43</td>\n",
       "      <td>1.41</td>\n",
       "      <td>7.30</td>\n",
       "      <td>0.70</td>\n",
       "      <td>1.56</td>\n",
       "      <td>750.0</td>\n",
       "      <td>2.0</td>\n",
       "    </tr>\n",
       "    <tr>\n",
       "      <th>175</th>\n",
       "      <td>175</td>\n",
       "      <td>13.27</td>\n",
       "      <td>4.28</td>\n",
       "      <td>2.26</td>\n",
       "      <td>20.0</td>\n",
       "      <td>120.0</td>\n",
       "      <td>1.59</td>\n",
       "      <td>0.69</td>\n",
       "      <td>0.43</td>\n",
       "      <td>1.35</td>\n",
       "      <td>10.20</td>\n",
       "      <td>0.59</td>\n",
       "      <td>1.56</td>\n",
       "      <td>835.0</td>\n",
       "      <td>2.0</td>\n",
       "    </tr>\n",
       "    <tr>\n",
       "      <th>176</th>\n",
       "      <td>176</td>\n",
       "      <td>13.17</td>\n",
       "      <td>2.59</td>\n",
       "      <td>2.37</td>\n",
       "      <td>20.0</td>\n",
       "      <td>120.0</td>\n",
       "      <td>1.65</td>\n",
       "      <td>0.68</td>\n",
       "      <td>0.53</td>\n",
       "      <td>1.46</td>\n",
       "      <td>9.30</td>\n",
       "      <td>0.60</td>\n",
       "      <td>1.62</td>\n",
       "      <td>840.0</td>\n",
       "      <td>2.0</td>\n",
       "    </tr>\n",
       "    <tr>\n",
       "      <th>177</th>\n",
       "      <td>177</td>\n",
       "      <td>14.13</td>\n",
       "      <td>4.10</td>\n",
       "      <td>2.74</td>\n",
       "      <td>24.5</td>\n",
       "      <td>96.0</td>\n",
       "      <td>2.05</td>\n",
       "      <td>0.76</td>\n",
       "      <td>0.56</td>\n",
       "      <td>1.35</td>\n",
       "      <td>9.20</td>\n",
       "      <td>0.61</td>\n",
       "      <td>1.60</td>\n",
       "      <td>560.0</td>\n",
       "      <td>2.0</td>\n",
       "    </tr>\n",
       "  </tbody>\n",
       "</table>\n",
       "<p>178 rows × 15 columns</p>\n",
       "</div>"
      ],
      "text/plain": [
       "     Unnamed: 0  alcohol  malic_acid   ash  alcalinity_of_ash  magnesium  \\\n",
       "0             0    14.23        1.71  2.43               15.6      127.0   \n",
       "1             1    13.20        1.78  2.14               11.2      100.0   \n",
       "2             2    13.16        2.36  2.67               18.6      101.0   \n",
       "3             3    14.37        1.95  2.50               16.8      113.0   \n",
       "4             4    13.24        2.59  2.87               21.0      118.0   \n",
       "..          ...      ...         ...   ...                ...        ...   \n",
       "173         173    13.71        5.65  2.45               20.5       95.0   \n",
       "174         174    13.40        3.91  2.48               23.0      102.0   \n",
       "175         175    13.27        4.28  2.26               20.0      120.0   \n",
       "176         176    13.17        2.59  2.37               20.0      120.0   \n",
       "177         177    14.13        4.10  2.74               24.5       96.0   \n",
       "\n",
       "     total_phenols  flavanoids  nonflavanoid_phenols  proanthocyanins  \\\n",
       "0             2.80        3.06                  0.28             2.29   \n",
       "1             2.65        2.76                  0.26             1.28   \n",
       "2             2.80        3.24                  0.30             2.81   \n",
       "3             3.85        3.49                  0.24             2.18   \n",
       "4             2.80        2.69                  0.39             1.82   \n",
       "..             ...         ...                   ...              ...   \n",
       "173           1.68        0.61                  0.52             1.06   \n",
       "174           1.80        0.75                  0.43             1.41   \n",
       "175           1.59        0.69                  0.43             1.35   \n",
       "176           1.65        0.68                  0.53             1.46   \n",
       "177           2.05        0.76                  0.56             1.35   \n",
       "\n",
       "     color_intensity   hue  od280/od315_of_diluted_wines  proline  target  \n",
       "0               5.64  1.04                          3.92   1065.0     0.0  \n",
       "1               4.38  1.05                          3.40   1050.0     0.0  \n",
       "2               5.68  1.03                          3.17   1185.0     0.0  \n",
       "3               7.80  0.86                          3.45   1480.0     0.0  \n",
       "4               4.32  1.04                          2.93    735.0     0.0  \n",
       "..               ...   ...                           ...      ...     ...  \n",
       "173             7.70  0.64                          1.74    740.0     2.0  \n",
       "174             7.30  0.70                          1.56    750.0     2.0  \n",
       "175            10.20  0.59                          1.56    835.0     2.0  \n",
       "176             9.30  0.60                          1.62    840.0     2.0  \n",
       "177             9.20  0.61                          1.60    560.0     2.0  \n",
       "\n",
       "[178 rows x 15 columns]"
      ]
     },
     "execution_count": 3,
     "metadata": {},
     "output_type": "execute_result"
    }
   ],
   "source": [
    "df = pd.read_csv(path[4])\n",
    "df"
   ]
  },
  {
   "cell_type": "code",
   "execution_count": null,
   "id": "8e44f30d-1020-4e7e-94f1-4405a6cc66a4",
   "metadata": {},
   "outputs": [],
   "source": []
  },
  {
   "cell_type": "markdown",
   "id": "a3b59882-6521-4f9c-9a3e-97d78e8ff416",
   "metadata": {},
   "source": [
    "# 열의 합 구하기 "
   ]
  },
  {
   "cell_type": "code",
   "execution_count": 4,
   "id": "3be82ad0-3226-44ee-9032-24ed6ca6fe31",
   "metadata": {},
   "outputs": [
    {
     "data": {
      "text/plain": [
       "421.24"
      ]
     },
     "execution_count": 4,
     "metadata": {},
     "output_type": "execute_result"
    }
   ],
   "source": [
    "#열의 합 \n",
    "df['ash'].sum()"
   ]
  },
  {
   "cell_type": "code",
   "execution_count": 5,
   "id": "da7b9fa0-5e19-44df-934c-6dbbe5160c1a",
   "metadata": {},
   "outputs": [
    {
     "name": "stdout",
     "output_type": "stream",
     "text": [
      "421.2400000000002\n"
     ]
    }
   ],
   "source": [
    "#for문을 활용한 열의 합 구하기\n",
    "\n",
    "sum_ash = 0\n",
    "for val in df['ash']: \n",
    "    sum_ash += val\n",
    "print(sum_ash)"
   ]
  },
  {
   "cell_type": "code",
   "execution_count": null,
   "id": "7c1860b0-4374-4387-8fe1-55faaab59d0a",
   "metadata": {},
   "outputs": [],
   "source": []
  },
  {
   "cell_type": "markdown",
   "id": "6da8336e-29bc-47bd-97cc-91dc8cfef7d4",
   "metadata": {},
   "source": [
    "# 열의 평균 구하기 "
   ]
  },
  {
   "cell_type": "code",
   "execution_count": 6,
   "id": "a20d27e0-1206-402c-9f8a-1a30888a51fc",
   "metadata": {},
   "outputs": [
    {
     "data": {
      "text/plain": [
       "2.3665168539325854"
      ]
     },
     "execution_count": 6,
     "metadata": {},
     "output_type": "execute_result"
    }
   ],
   "source": [
    "#열의 평균 \n",
    "df['ash'].mean()"
   ]
  },
  {
   "cell_type": "code",
   "execution_count": 7,
   "id": "b967b418-882a-4b5e-8b45-06a75c419138",
   "metadata": {},
   "outputs": [
    {
     "name": "stdout",
     "output_type": "stream",
     "text": [
      "2.3665168539325854\n"
     ]
    }
   ],
   "source": [
    "#for문을 활용한 열의 평균 구하기 \n",
    "\n",
    "sum_ash = 0\n",
    "for val in df['ash']:\n",
    "    sum_ash += val\n",
    "    mean_ash = sum_ash / len(df['ash'])\n",
    "print(mean_ash)"
   ]
  },
  {
   "cell_type": "code",
   "execution_count": null,
   "id": "dc569261-54f6-459a-862f-0219abb8b357",
   "metadata": {},
   "outputs": [],
   "source": []
  },
  {
   "cell_type": "markdown",
   "id": "bb896fa8-33e2-4da8-88e4-5c9ebd7c77a0",
   "metadata": {},
   "source": [
    "# 열의 분산 구하기 "
   ]
  },
  {
   "cell_type": "code",
   "execution_count": 8,
   "id": "2de7c568-9ad5-439a-9941-0fd90d1a56e7",
   "metadata": {},
   "outputs": [
    {
     "data": {
      "text/plain": [
       "0.07526463530756043"
      ]
     },
     "execution_count": 8,
     "metadata": {},
     "output_type": "execute_result"
    }
   ],
   "source": [
    "#열의 분산 \n",
    "df['ash'].var()"
   ]
  },
  {
   "cell_type": "code",
   "execution_count": 9,
   "id": "29f60f8b-8006-418b-8735-b94908342cd4",
   "metadata": {},
   "outputs": [
    {
     "name": "stdout",
     "output_type": "stream",
     "text": [
      "0.07526463530756043\n"
     ]
    }
   ],
   "source": [
    "#for문을 활용한 열의 분산 구하기 \n",
    "ss_ash = 0\n",
    "\n",
    "for val in df['ash']:\n",
    "    ss_ash += (val - mean_ash) **2\n",
    "var_ash = ss_ash / (len(df['ash']) - 1)\n",
    "print(var_ash)"
   ]
  },
  {
   "cell_type": "code",
   "execution_count": null,
   "id": "4450e9a6-33c5-46dc-a7d8-1bf710836ffa",
   "metadata": {},
   "outputs": [],
   "source": []
  },
  {
   "cell_type": "markdown",
   "id": "6c5120e2-12a7-4ae7-b94e-9f31ba1cb2d5",
   "metadata": {},
   "source": [
    "# 열의 표준편차 구하기"
   ]
  },
  {
   "cell_type": "code",
   "execution_count": 10,
   "id": "8669e142-1f90-49dd-a95b-a905f2872874",
   "metadata": {},
   "outputs": [
    {
     "data": {
      "text/plain": [
       "0.2743440090608148"
      ]
     },
     "execution_count": 10,
     "metadata": {},
     "output_type": "execute_result"
    }
   ],
   "source": [
    "# 열의 표준편차\n",
    "df['ash'].std()"
   ]
  },
  {
   "cell_type": "code",
   "execution_count": 11,
   "id": "7cc9c2bf-8a43-4639-9df9-8c7e517a5eaf",
   "metadata": {},
   "outputs": [
    {
     "name": "stdout",
     "output_type": "stream",
     "text": [
      "0.2743440090608148\n"
     ]
    }
   ],
   "source": [
    "#for 문을 활용한 열의 표준편차 구하기 \n",
    "\n",
    "std_ash = var_ash**0.5\n",
    "print(std_ash)"
   ]
  },
  {
   "cell_type": "code",
   "execution_count": null,
   "id": "bfc294ac-dda0-4b99-a4d4-8d4a84150c21",
   "metadata": {},
   "outputs": [],
   "source": []
  },
  {
   "cell_type": "markdown",
   "id": "5c0e4e34-b8ee-49fa-8767-582f4a34b0e8",
   "metadata": {},
   "source": [
    "# 열의 공분산 구하기"
   ]
  },
  {
   "cell_type": "code",
   "execution_count": 12,
   "id": "a2171a4d-3a3f-41ab-a03b-bb3f0bf93ef9",
   "metadata": {},
   "outputs": [],
   "source": [
    "#공분산 \n",
    "ash = df['ash']\n",
    "ci = df['color_intensity']"
   ]
  },
  {
   "cell_type": "code",
   "execution_count": 13,
   "id": "07ab214d-978c-43a1-87b5-d5837d4e2c1c",
   "metadata": {},
   "outputs": [
    {
     "data": {
      "text/plain": [
       "array([[0.07526464, 0.16465433],\n",
       "       [0.16465433, 5.37444938]])"
      ]
     },
     "execution_count": 13,
     "metadata": {},
     "output_type": "execute_result"
    }
   ],
   "source": [
    "np.cov(ash, ci)\n",
    "#0.16465433 -> 공분산"
   ]
  },
  {
   "cell_type": "code",
   "execution_count": 14,
   "id": "2c695c5a-7bfe-47b8-ab73-be3dde4d0d06",
   "metadata": {},
   "outputs": [
    {
     "name": "stdout",
     "output_type": "stream",
     "text": [
      "0.16465432664889224\n"
     ]
    }
   ],
   "source": [
    "n = len(df['ash'])\n",
    "mean_ash = ash.mean()\n",
    "mean_ci = ci.mean()\n",
    "\n",
    "res = 0\n",
    "for i in range(0,n):\n",
    "    res += (ash[i] - mean_ash) * (ci[i] - mean_ci)\n",
    "covariance = res / (n-1)\n",
    "print(covariance)"
   ]
  },
  {
   "cell_type": "code",
   "execution_count": 15,
   "id": "b6ff41ea-1ee7-4b53-9fb5-382c85c7ce15",
   "metadata": {},
   "outputs": [
    {
     "data": {
      "text/plain": [
       "0.1646543266488923"
      ]
     },
     "execution_count": 15,
     "metadata": {},
     "output_type": "execute_result"
    }
   ],
   "source": [
    "((ash - mean_ash).T @ (ci - mean_ci) / (n-1))\n",
    "#@ 는 dot랑 같다 "
   ]
  },
  {
   "cell_type": "code",
   "execution_count": null,
   "id": "139f6afd-bd10-4278-a7bd-949c39489b6b",
   "metadata": {},
   "outputs": [],
   "source": []
  },
  {
   "cell_type": "markdown",
   "id": "1dfeff73-a67a-4fc6-88d5-43aed85995e3",
   "metadata": {},
   "source": [
    "# 히스토그램 "
   ]
  },
  {
   "cell_type": "code",
   "execution_count": 16,
   "id": "68171a11-4e72-4da2-99eb-c3d7f08d6291",
   "metadata": {},
   "outputs": [],
   "source": [
    "import matplotlib.pyplot as plt"
   ]
  },
  {
   "cell_type": "code",
   "execution_count": 17,
   "id": "71397b46-3d8f-486e-9433-37ab77d5d902",
   "metadata": {},
   "outputs": [
    {
     "data": {
      "image/png": "[encoded data removed]",
      "text/plain": [
       "<Figure size 432x288 with 1 Axes>"
      ]
     },
     "metadata": {
      "needs_background": "light"
     },
     "output_type": "display_data"
    }
   ],
   "source": [
    "#표준정규분포\n",
    "plt.hist(df['ash'], bins = 30)\n",
    "plt.show()"
   ]
  },
  {
   "cell_type": "code",
   "execution_count": 18,
   "id": "ca864d1c-3127-4a8b-8fc7-54bccc6f422d",
   "metadata": {},
   "outputs": [
    {
     "data": {
      "image/png": "[encoded data removed]",
      "text/plain": [
       "<Figure size 432x288 with 1 Axes>"
      ]
     },
     "metadata": {
      "needs_background": "light"
     },
     "output_type": "display_data"
    }
   ],
   "source": [
    "#카이제곱분포  / 감마분포 \n",
    "plt.hist(df['color_intensity'], bins = 30, color = 'red')\n",
    "plt.show()"
   ]
  },
  {
   "cell_type": "code",
   "execution_count": 19,
   "id": "1cd4b2a9-4f6e-4c60-8381-f6970a0cf605",
   "metadata": {},
   "outputs": [],
   "source": [
    "#확률 - 미래 / 비율 - 과거\n",
    "\n",
    "#ash > 2.5 일 때 color_intensity > 8일 확률\n",
    "ash25 = df[df['ash'] > 2.5]\n",
    "ci = ash25[ash25['color_intensity'] > 8]"
   ]
  },
  {
   "cell_type": "code",
   "execution_count": 20,
   "id": "f73ff3db-8902-4f77-85fe-2929554b92dd",
   "metadata": {},
   "outputs": [
    {
     "data": {
      "text/plain": [
       "0.1346153846153846"
      ]
     },
     "execution_count": 20,
     "metadata": {},
     "output_type": "execute_result"
    }
   ],
   "source": [
    "len(ci) / len(ash25)"
   ]
  },
  {
   "cell_type": "code",
   "execution_count": null,
   "id": "77f45670-7fc2-4bb4-88a2-bc3c3c0a8967",
   "metadata": {},
   "outputs": [],
   "source": []
  },
  {
   "cell_type": "markdown",
   "id": "ce95c14f-d300-4f69-9c01-c427c2b31e51",
   "metadata": {},
   "source": [
    "# T_test_가설검정 - 귀무가설 / 대립가설"
   ]
  },
  {
   "cell_type": "code",
   "execution_count": 21,
   "id": "7db8692d-929f-4779-a5e6-04459541d359",
   "metadata": {},
   "outputs": [],
   "source": [
    "df_A = df[df['ash'] > 2.35]\n",
    "df_B = df[df['ash'] <= 2.35] "
   ]
  },
  {
   "cell_type": "code",
   "execution_count": 22,
   "id": "8f04d321-7bec-4d08-8fb5-897b070124db",
   "metadata": {},
   "outputs": [
    {
     "data": {
      "text/plain": [
       "92"
      ]
     },
     "execution_count": 22,
     "metadata": {},
     "output_type": "execute_result"
    }
   ],
   "source": [
    "len(df_A)"
   ]
  },
  {
   "cell_type": "code",
   "execution_count": 23,
   "id": "0d9a6c8d-f5cf-4a98-ad81-eaa8e2b4a978",
   "metadata": {},
   "outputs": [
    {
     "data": {
      "text/plain": [
       "86"
      ]
     },
     "execution_count": 23,
     "metadata": {},
     "output_type": "execute_result"
    }
   ],
   "source": [
    "len(df_B)"
   ]
  },
  {
   "cell_type": "code",
   "execution_count": 24,
   "id": "5cc54608-b720-42bf-b369-2dfdc6a42940",
   "metadata": {},
   "outputs": [
    {
     "data": {
      "text/plain": [
       "0      14.23\n",
       "2      13.16\n",
       "3      14.37\n",
       "4      13.24\n",
       "5      14.20\n",
       "       ...  \n",
       "172    14.16\n",
       "173    13.71\n",
       "174    13.40\n",
       "176    13.17\n",
       "177    14.13\n",
       "Name: alcohol, Length: 92, dtype: float64"
      ]
     },
     "execution_count": 24,
     "metadata": {},
     "output_type": "execute_result"
    }
   ],
   "source": [
    "df_A['alcohol']"
   ]
  },
  {
   "cell_type": "code",
   "execution_count": 25,
   "id": "466218d6-a505-4f56-93d3-95325388c488",
   "metadata": {},
   "outputs": [
    {
     "data": {
      "text/plain": [
       "1      13.20\n",
       "8      14.83\n",
       "9      13.86\n",
       "10     14.10\n",
       "11     14.12\n",
       "       ...  \n",
       "165    13.73\n",
       "167    12.82\n",
       "170    12.20\n",
       "171    12.77\n",
       "175    13.27\n",
       "Name: alcohol, Length: 86, dtype: float64"
      ]
     },
     "execution_count": 25,
     "metadata": {},
     "output_type": "execute_result"
    }
   ],
   "source": [
    "df_B['alcohol']"
   ]
  },
  {
   "cell_type": "code",
   "execution_count": 26,
   "id": "586935ca-507b-4d67-af9a-e843938665a8",
   "metadata": {},
   "outputs": [
    {
     "name": "stdout",
     "output_type": "stream",
     "text": [
      "0      14.23\n",
      "2      13.16\n",
      "3      14.37\n",
      "4      13.24\n",
      "5      14.20\n",
      "       ...  \n",
      "172    14.16\n",
      "173    13.71\n",
      "174    13.40\n",
      "176    13.17\n",
      "177    14.13\n",
      "Name: alcohol, Length: 92, dtype: float64\n",
      "1      13.20\n",
      "8      14.83\n",
      "9      13.86\n",
      "10     14.10\n",
      "11     14.12\n",
      "       ...  \n",
      "165    13.73\n",
      "167    12.82\n",
      "170    12.20\n",
      "171    12.77\n",
      "175    13.27\n",
      "Name: alcohol, Length: 86, dtype: float64\n",
      "0.11874509484834071\n"
     ]
    }
   ],
   "source": [
    "a = df_A['alcohol']\n",
    "b = df_B['alcohol']\n",
    "\n",
    "n1 = len(a)\n",
    "n2 = len(b)\n",
    "\n",
    "mean_a = a.mean()\n",
    "mean_b = b.mean()\n",
    "print(a)\n",
    "print(b)\n",
    "\n",
    "var_a = a.var()\n",
    "var_b = b.var()\n",
    "\n",
    "s = ((var_a / n1) + (var_b / n2)) ** 0.5\n",
    "print(s)"
   ]
  },
  {
   "cell_type": "code",
   "execution_count": 27,
   "id": "4428a656-f718-43c7-b17d-3562c048b781",
   "metadata": {},
   "outputs": [
    {
     "name": "stdout",
     "output_type": "stream",
     "text": [
      "2.9845945727230383\n"
     ]
    }
   ],
   "source": [
    "z_value = (mean_a - mean_b) / s\n",
    "print(z_value)"
   ]
  },
  {
   "cell_type": "code",
   "execution_count": 31,
   "id": "943992ad-eacc-4b98-af02-6dec879032d6",
   "metadata": {},
   "outputs": [],
   "source": [
    "from scipy import stats"
   ]
  },
  {
   "cell_type": "code",
   "execution_count": 32,
   "id": "17c52e4b-f271-49e0-9348-8fa7d7fefaf2",
   "metadata": {},
   "outputs": [],
   "source": [
    "z_dist = stats.norm(0, 1)\n",
    "p_value = 1- z_dist.cdf(z_value)"
   ]
  },
  {
   "cell_type": "code",
   "execution_count": 33,
   "id": "a9c1e7b1-a8ef-4d5e-bd1a-502b869a4668",
   "metadata": {},
   "outputs": [
    {
     "data": {
      "text/plain": [
       "0.0014197720399459213"
      ]
     },
     "execution_count": 33,
     "metadata": {},
     "output_type": "execute_result"
    }
   ],
   "source": [
    "p_value"
   ]
  },
  {
   "cell_type": "code",
   "execution_count": null,
   "id": "8f24787c-fa67-454e-8e05-a3275317f698",
   "metadata": {},
   "outputs": [],
   "source": []
  },
  {
   "cell_type": "markdown",
   "id": "db78e0c7-df4b-4c77-a584-4ab45120bf35",
   "metadata": {},
   "source": [
    "# 세 집단 평균차이 검정"
   ]
  },
  {
   "cell_type": "code",
   "execution_count": 34,
   "id": "fc09df18-70a1-4dd3-a17f-dd0a3ea10034",
   "metadata": {},
   "outputs": [],
   "source": [
    "df_A = df[df['ash'] < 2.28]\n",
    "df_B = df[(df['ash'] >= 2.28) & (df['ash'] <= 2.47)]\n",
    "df_C = df[df['ash'] > 2.47]"
   ]
  },
  {
   "cell_type": "code",
   "execution_count": 35,
   "id": "cffd1f4d-13b0-4cb9-8ebf-98b38d7910f6",
   "metadata": {},
   "outputs": [],
   "source": [
    "a = df_A['alcohol']\n",
    "b = df_B['alcohol']\n",
    "c = df_C['alcohol']"
   ]
  },
  {
   "cell_type": "code",
   "execution_count": 36,
   "id": "f2e9a149-133e-4e2e-940a-578ff35ba13d",
   "metadata": {},
   "outputs": [
    {
     "name": "stdout",
     "output_type": "stream",
     "text": [
      "59\n",
      "58\n",
      "61\n"
     ]
    }
   ],
   "source": [
    "n1 = len(a)\n",
    "n2 = len(b)\n",
    "n3 = len(c)\n",
    "\n",
    "print(n1)\n",
    "print(n2)\n",
    "print(n3)"
   ]
  },
  {
   "cell_type": "code",
   "execution_count": 38,
   "id": "b1d11b04-ee83-4528-91f9-acc80c30db41",
   "metadata": {},
   "outputs": [
    {
     "name": "stdout",
     "output_type": "stream",
     "text": [
      "검정통계량 : 0.9709163308143616, p-value : 0.16921241581439972\n",
      "검정통계량 : 0.9692205190658569, p-value : 0.14712165296077728\n",
      "검정통계량 : 0.9448610544204712, p-value : 0.008268149569630623\n"
     ]
    }
   ],
   "source": [
    "#정규성 검정 \n",
    "\n",
    "\n",
    "test_stat, p = stats.shapiro(a)\n",
    "print(\"검정통계량 : {}, p-value : {}\".format(test_stat, p))\n",
    "\n",
    "test_stat, p = stats.shapiro(b)\n",
    "print(\"검정통계량 : {}, p-value : {}\".format(test_stat, p))\n",
    "\n",
    "test_stat, p = stats.shapiro(c)\n",
    "print(\"검정통계량 : {}, p-value : {}\".format(test_stat, p))"
   ]
  },
  {
   "cell_type": "code",
   "execution_count": 39,
   "id": "ecfbf364-c698-4e75-99c4-2ea6109791df",
   "metadata": {},
   "outputs": [
    {
     "data": {
      "text/plain": [
       "BartlettResult(statistic=1.2778020504975895, pvalue=0.5278722236377771)"
      ]
     },
     "execution_count": 39,
     "metadata": {},
     "output_type": "execute_result"
    }
   ],
   "source": [
    "#분산 동질성 검정\n",
    "stats.bartlett(a,b,c)"
   ]
  },
  {
   "cell_type": "code",
   "execution_count": 41,
   "id": "968d7f7e-3827-4171-bf9b-36194f32ef38",
   "metadata": {},
   "outputs": [
    {
     "name": "stdout",
     "output_type": "stream",
     "text": [
      "F-통계량:  5.153211984906106\n",
      "p-value:  0.006689793066378117\n"
     ]
    }
   ],
   "source": [
    "f_val, p_val = stats.f_oneway(a,b,c)\n",
    "\n",
    "print('F-통계량: ', f_val)\n",
    "print('p-value: ', p_val)"
   ]
  },
  {
   "cell_type": "code",
   "execution_count": 43,
   "id": "23b39cc8-4f92-4d0b-9ff8-ef0b4aaf39fe",
   "metadata": {},
   "outputs": [
    {
     "name": "stdout",
     "output_type": "stream",
     "text": [
      "F-통계량:  10.300136172298497\n",
      "p-value:  0.0057990098811482715\n"
     ]
    }
   ],
   "source": [
    "f_val, p_val = stats.kruskal(a,b,c)\n",
    "\n",
    "print('F-통계량: ', f_val)\n",
    "print('p-value: ', p_val)"
   ]
  },
  {
   "cell_type": "code",
   "execution_count": null,
   "id": "98d2fee6-ac0e-440a-a042-f9b0fe4af941",
   "metadata": {},
   "outputs": [],
   "source": []
  },
  {
   "cell_type": "markdown",
   "id": "41ea0e09-e970-487f-aa6d-0bc6f7147c23",
   "metadata": {},
   "source": [
    "# 와인데이터로 머신러닝 "
   ]
  },
  {
   "cell_type": "code",
   "execution_count": 44,
   "id": "7d13a9b4-f71c-49db-8c2b-9cce165e0729",
   "metadata": {},
   "outputs": [],
   "source": [
    "X = df.iloc[:, 1:14]\n",
    "y = df.iloc[:, 14]"
   ]
  },
  {
   "cell_type": "code",
   "execution_count": 45,
   "id": "9b9fcbeb-8600-4676-887e-4b0a73adb3ef",
   "metadata": {},
   "outputs": [
    {
     "data": {
      "text/html": [
       "<div>\n",
       "<style scoped>\n",
       "    .dataframe tbody tr th:only-of-type {\n",
       "        vertical-align: middle;\n",
       "    }\n",
       "\n",
       "    .dataframe tbody tr th {\n",
       "        vertical-align: top;\n",
       "    }\n",
       "\n",
       "    .dataframe thead th {\n",
       "        text-align: right;\n",
       "    }\n",
       "</style>\n",
       "<table border=\"1\" class=\"dataframe\">\n",
       "  <thead>\n",
       "    <tr style=\"text-align: right;\">\n",
       "      <th></th>\n",
       "      <th>alcohol</th>\n",
       "      <th>malic_acid</th>\n",
       "      <th>ash</th>\n",
       "      <th>alcalinity_of_ash</th>\n",
       "      <th>magnesium</th>\n",
       "      <th>total_phenols</th>\n",
       "      <th>flavanoids</th>\n",
       "      <th>nonflavanoid_phenols</th>\n",
       "      <th>proanthocyanins</th>\n",
       "      <th>color_intensity</th>\n",
       "      <th>hue</th>\n",
       "      <th>od280/od315_of_diluted_wines</th>\n",
       "      <th>proline</th>\n",
       "    </tr>\n",
       "  </thead>\n",
       "  <tbody>\n",
       "    <tr>\n",
       "      <th>0</th>\n",
       "      <td>14.23</td>\n",
       "      <td>1.71</td>\n",
       "      <td>2.43</td>\n",
       "      <td>15.6</td>\n",
       "      <td>127.0</td>\n",
       "      <td>2.80</td>\n",
       "      <td>3.06</td>\n",
       "      <td>0.28</td>\n",
       "      <td>2.29</td>\n",
       "      <td>5.64</td>\n",
       "      <td>1.04</td>\n",
       "      <td>3.92</td>\n",
       "      <td>1065.0</td>\n",
       "    </tr>\n",
       "    <tr>\n",
       "      <th>1</th>\n",
       "      <td>13.20</td>\n",
       "      <td>1.78</td>\n",
       "      <td>2.14</td>\n",
       "      <td>11.2</td>\n",
       "      <td>100.0</td>\n",
       "      <td>2.65</td>\n",
       "      <td>2.76</td>\n",
       "      <td>0.26</td>\n",
       "      <td>1.28</td>\n",
       "      <td>4.38</td>\n",
       "      <td>1.05</td>\n",
       "      <td>3.40</td>\n",
       "      <td>1050.0</td>\n",
       "    </tr>\n",
       "    <tr>\n",
       "      <th>2</th>\n",
       "      <td>13.16</td>\n",
       "      <td>2.36</td>\n",
       "      <td>2.67</td>\n",
       "      <td>18.6</td>\n",
       "      <td>101.0</td>\n",
       "      <td>2.80</td>\n",
       "      <td>3.24</td>\n",
       "      <td>0.30</td>\n",
       "      <td>2.81</td>\n",
       "      <td>5.68</td>\n",
       "      <td>1.03</td>\n",
       "      <td>3.17</td>\n",
       "      <td>1185.0</td>\n",
       "    </tr>\n",
       "    <tr>\n",
       "      <th>3</th>\n",
       "      <td>14.37</td>\n",
       "      <td>1.95</td>\n",
       "      <td>2.50</td>\n",
       "      <td>16.8</td>\n",
       "      <td>113.0</td>\n",
       "      <td>3.85</td>\n",
       "      <td>3.49</td>\n",
       "      <td>0.24</td>\n",
       "      <td>2.18</td>\n",
       "      <td>7.80</td>\n",
       "      <td>0.86</td>\n",
       "      <td>3.45</td>\n",
       "      <td>1480.0</td>\n",
       "    </tr>\n",
       "    <tr>\n",
       "      <th>4</th>\n",
       "      <td>13.24</td>\n",
       "      <td>2.59</td>\n",
       "      <td>2.87</td>\n",
       "      <td>21.0</td>\n",
       "      <td>118.0</td>\n",
       "      <td>2.80</td>\n",
       "      <td>2.69</td>\n",
       "      <td>0.39</td>\n",
       "      <td>1.82</td>\n",
       "      <td>4.32</td>\n",
       "      <td>1.04</td>\n",
       "      <td>2.93</td>\n",
       "      <td>735.0</td>\n",
       "    </tr>\n",
       "    <tr>\n",
       "      <th>...</th>\n",
       "      <td>...</td>\n",
       "      <td>...</td>\n",
       "      <td>...</td>\n",
       "      <td>...</td>\n",
       "      <td>...</td>\n",
       "      <td>...</td>\n",
       "      <td>...</td>\n",
       "      <td>...</td>\n",
       "      <td>...</td>\n",
       "      <td>...</td>\n",
       "      <td>...</td>\n",
       "      <td>...</td>\n",
       "      <td>...</td>\n",
       "    </tr>\n",
       "    <tr>\n",
       "      <th>173</th>\n",
       "      <td>13.71</td>\n",
       "      <td>5.65</td>\n",
       "      <td>2.45</td>\n",
       "      <td>20.5</td>\n",
       "      <td>95.0</td>\n",
       "      <td>1.68</td>\n",
       "      <td>0.61</td>\n",
       "      <td>0.52</td>\n",
       "      <td>1.06</td>\n",
       "      <td>7.70</td>\n",
       "      <td>0.64</td>\n",
       "      <td>1.74</td>\n",
       "      <td>740.0</td>\n",
       "    </tr>\n",
       "    <tr>\n",
       "      <th>174</th>\n",
       "      <td>13.40</td>\n",
       "      <td>3.91</td>\n",
       "      <td>2.48</td>\n",
       "      <td>23.0</td>\n",
       "      <td>102.0</td>\n",
       "      <td>1.80</td>\n",
       "      <td>0.75</td>\n",
       "      <td>0.43</td>\n",
       "      <td>1.41</td>\n",
       "      <td>7.30</td>\n",
       "      <td>0.70</td>\n",
       "      <td>1.56</td>\n",
       "      <td>750.0</td>\n",
       "    </tr>\n",
       "    <tr>\n",
       "      <th>175</th>\n",
       "      <td>13.27</td>\n",
       "      <td>4.28</td>\n",
       "      <td>2.26</td>\n",
       "      <td>20.0</td>\n",
       "      <td>120.0</td>\n",
       "      <td>1.59</td>\n",
       "      <td>0.69</td>\n",
       "      <td>0.43</td>\n",
       "      <td>1.35</td>\n",
       "      <td>10.20</td>\n",
       "      <td>0.59</td>\n",
       "      <td>1.56</td>\n",
       "      <td>835.0</td>\n",
       "    </tr>\n",
       "    <tr>\n",
       "      <th>176</th>\n",
       "      <td>13.17</td>\n",
       "      <td>2.59</td>\n",
       "      <td>2.37</td>\n",
       "      <td>20.0</td>\n",
       "      <td>120.0</td>\n",
       "      <td>1.65</td>\n",
       "      <td>0.68</td>\n",
       "      <td>0.53</td>\n",
       "      <td>1.46</td>\n",
       "      <td>9.30</td>\n",
       "      <td>0.60</td>\n",
       "      <td>1.62</td>\n",
       "      <td>840.0</td>\n",
       "    </tr>\n",
       "    <tr>\n",
       "      <th>177</th>\n",
       "      <td>14.13</td>\n",
       "      <td>4.10</td>\n",
       "      <td>2.74</td>\n",
       "      <td>24.5</td>\n",
       "      <td>96.0</td>\n",
       "      <td>2.05</td>\n",
       "      <td>0.76</td>\n",
       "      <td>0.56</td>\n",
       "      <td>1.35</td>\n",
       "      <td>9.20</td>\n",
       "      <td>0.61</td>\n",
       "      <td>1.60</td>\n",
       "      <td>560.0</td>\n",
       "    </tr>\n",
       "  </tbody>\n",
       "</table>\n",
       "<p>178 rows × 13 columns</p>\n",
       "</div>"
      ],
      "text/plain": [
       "     alcohol  malic_acid   ash  alcalinity_of_ash  magnesium  total_phenols  \\\n",
       "0      14.23        1.71  2.43               15.6      127.0           2.80   \n",
       "1      13.20        1.78  2.14               11.2      100.0           2.65   \n",
       "2      13.16        2.36  2.67               18.6      101.0           2.80   \n",
       "3      14.37        1.95  2.50               16.8      113.0           3.85   \n",
       "4      13.24        2.59  2.87               21.0      118.0           2.80   \n",
       "..       ...         ...   ...                ...        ...            ...   \n",
       "173    13.71        5.65  2.45               20.5       95.0           1.68   \n",
       "174    13.40        3.91  2.48               23.0      102.0           1.80   \n",
       "175    13.27        4.28  2.26               20.0      120.0           1.59   \n",
       "176    13.17        2.59  2.37               20.0      120.0           1.65   \n",
       "177    14.13        4.10  2.74               24.5       96.0           2.05   \n",
       "\n",
       "     flavanoids  nonflavanoid_phenols  proanthocyanins  color_intensity   hue  \\\n",
       "0          3.06                  0.28             2.29             5.64  1.04   \n",
       "1          2.76                  0.26             1.28             4.38  1.05   \n",
       "2          3.24                  0.30             2.81             5.68  1.03   \n",
       "3          3.49                  0.24             2.18             7.80  0.86   \n",
       "4          2.69                  0.39             1.82             4.32  1.04   \n",
       "..          ...                   ...              ...              ...   ...   \n",
       "173        0.61                  0.52             1.06             7.70  0.64   \n",
       "174        0.75                  0.43             1.41             7.30  0.70   \n",
       "175        0.69                  0.43             1.35            10.20  0.59   \n",
       "176        0.68                  0.53             1.46             9.30  0.60   \n",
       "177        0.76                  0.56             1.35             9.20  0.61   \n",
       "\n",
       "     od280/od315_of_diluted_wines  proline  \n",
       "0                            3.92   1065.0  \n",
       "1                            3.40   1050.0  \n",
       "2                            3.17   1185.0  \n",
       "3                            3.45   1480.0  \n",
       "4                            2.93    735.0  \n",
       "..                            ...      ...  \n",
       "173                          1.74    740.0  \n",
       "174                          1.56    750.0  \n",
       "175                          1.56    835.0  \n",
       "176                          1.62    840.0  \n",
       "177                          1.60    560.0  \n",
       "\n",
       "[178 rows x 13 columns]"
      ]
     },
     "execution_count": 45,
     "metadata": {},
     "output_type": "execute_result"
    }
   ],
   "source": [
    "X  # 행렬"
   ]
  },
  {
   "cell_type": "code",
   "execution_count": 46,
   "id": "9efde040-7d05-4d48-b157-78b9900c89ca",
   "metadata": {},
   "outputs": [
    {
     "data": {
      "text/plain": [
       "0      0.0\n",
       "1      0.0\n",
       "2      0.0\n",
       "3      0.0\n",
       "4      0.0\n",
       "      ... \n",
       "173    2.0\n",
       "174    2.0\n",
       "175    2.0\n",
       "176    2.0\n",
       "177    2.0\n",
       "Name: target, Length: 178, dtype: float64"
      ]
     },
     "execution_count": 46,
     "metadata": {},
     "output_type": "execute_result"
    }
   ],
   "source": [
    "y #벡터"
   ]
  },
  {
   "cell_type": "code",
   "execution_count": 47,
   "id": "1f84c7a0-4cf1-4509-8ad1-c6d1d438974d",
   "metadata": {},
   "outputs": [],
   "source": [
    "# 트레이닝 / 테스트 데이터 분할\n",
    "\n",
    "\n",
    "from sklearn.model_selection import train_test_split\n",
    "\n",
    "X_tn, X_te, y_tn, y_te = train_test_split(X,y,random_state = 0)"
   ]
  },
  {
   "cell_type": "code",
   "execution_count": 49,
   "id": "2ae565a8-ddb6-4d53-8247-5a3aade8b8b9",
   "metadata": {},
   "outputs": [],
   "source": [
    "# 데이터 표준화  : StandardScaler\n",
    "\n",
    "from sklearn.preprocessing import\n",
    "\n",
    "std_scale = StandardScaler()\n",
    "std_scale.fit(X_tn)\n",
    "X_tn_std = std_scale.transform(X_tn)\n",
    "X_te_std = std_scale.transform(X_te)"
   ]
  },
  {
   "cell_type": "code",
   "execution_count": 51,
   "id": "020ae7b0-bb3b-40b2-92b2-af00cf9ff9e1",
   "metadata": {},
   "outputs": [
    {
     "data": {
      "text/plain": [
       "RandomForestClassifier(max_depth=5, random_state=0)"
      ]
     },
     "execution_count": 51,
     "metadata": {},
     "output_type": "execute_result"
    }
   ],
   "source": [
    "#ensemble : Randomforest\n",
    "\n",
    "from sklearn.ensemble import RandomForestClassifier\n",
    "clf_rf = RandomForestClassifier (max_depth = 5, \n",
    "                                 random_state = 0)\n",
    "\n",
    "clf_rf.fit(X_tn_std, y_tn)"
   ]
  },
  {
   "cell_type": "code",
   "execution_count": 52,
   "id": "890ac4c3-dfb9-4a8f-9897-ff9ecbc836ad",
   "metadata": {},
   "outputs": [
    {
     "name": "stdout",
     "output_type": "stream",
     "text": [
      "[0. 2. 1. 0. 1. 1. 0. 2. 1. 1. 2. 2. 0. 1. 2. 1. 0. 0. 2. 0. 1. 0. 0. 1.\n",
      " 1. 1. 1. 1. 1. 2. 0. 0. 1. 0. 0. 0. 2. 1. 1. 2. 0. 0. 1. 1. 1.]\n"
     ]
    }
   ],
   "source": [
    "# 예측\n",
    "pred_rf = clf_rf.predict(X_te_std)\n",
    "print(pred_rf)"
   ]
  },
  {
   "cell_type": "code",
   "execution_count": 54,
   "id": "e5dc60ce-8412-4584-b61c-397a9844bae2",
   "metadata": {},
   "outputs": [
    {
     "name": "stdout",
     "output_type": "stream",
     "text": [
      "0.9777777777777777\n"
     ]
    }
   ],
   "source": [
    "#정확도\n",
    "\n",
    "from sklearn.metrics import accuracy_score\n",
    "accuracy = accuracy_score(y_te, pred_rf)\n",
    "print(accuracy)"
   ]
  },
  {
   "cell_type": "code",
   "execution_count": null,
   "id": "e4e9a89d-a618-4d1a-aa13-0822156c2593",
   "metadata": {},
   "outputs": [],
   "source": []
  }
 ],
 "metadata": {
  "kernelspec": {
   "display_name": "Python 3 (ipykernel)",
   "language": "python",
   "name": "python3"
  },
  "language_info": {
   "codemirror_mode": {
    "name": "ipython",
    "version": 3
   },
   "file_extension": ".py",
   "mimetype": "text/x-python",
   "name": "python",
   "nbconvert_exporter": "python",
   "pygments_lexer": "ipython3",
   "version": "3.9.7"
  },
  "toc-showmarkdowntxt": true
 },
 "nbformat": 4,
 "nbformat_minor": 5
}
